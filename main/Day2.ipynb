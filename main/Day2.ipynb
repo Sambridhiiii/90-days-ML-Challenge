{
 "cells": [
  {
   "cell_type": "markdown",
   "id": "d53c4c0f-0aae-4695-9d05-1850fbb34460",
   "metadata": {},
   "source": [
    "# 7.Modules and Packges"
   ]
  },
  {
   "cell_type": "code",
   "execution_count": 1,
   "id": "babd1f11-f927-4845-9bca-7c7d6da3d1a1",
   "metadata": {},
   "outputs": [
    {
     "name": "stderr",
     "output_type": "stream",
     "text": [
      "\n",
      "[notice] A new release of pip is available: 25.0.1 -> 25.2\n",
      "[notice] To update, run: python.exe -m pip install --upgrade pip\n"
     ]
    },
    {
     "name": "stdout",
     "output_type": "stream",
     "text": [
      "Requirement already satisfied: import-ipynb in c:\\users\\sambridhi shrestha\\appdata\\local\\programs\\python\\python312\\lib\\site-packages (0.2)\n",
      "Requirement already satisfied: IPython in c:\\users\\sambridhi shrestha\\appdata\\local\\programs\\python\\python312\\lib\\site-packages (from import-ipynb) (9.0.1)\n",
      "Requirement already satisfied: nbformat in c:\\users\\sambridhi shrestha\\appdata\\local\\programs\\python\\python312\\lib\\site-packages (from import-ipynb) (5.10.4)\n",
      "Requirement already satisfied: colorama in c:\\users\\sambridhi shrestha\\appdata\\local\\programs\\python\\python312\\lib\\site-packages (from IPython->import-ipynb) (0.4.6)\n",
      "Requirement already satisfied: decorator in c:\\users\\sambridhi shrestha\\appdata\\local\\programs\\python\\python312\\lib\\site-packages (from IPython->import-ipynb) (5.2.1)\n",
      "Requirement already satisfied: ipython-pygments-lexers in c:\\users\\sambridhi shrestha\\appdata\\local\\programs\\python\\python312\\lib\\site-packages (from IPython->import-ipynb) (1.1.1)\n",
      "Requirement already satisfied: jedi>=0.16 in c:\\users\\sambridhi shrestha\\appdata\\local\\programs\\python\\python312\\lib\\site-packages (from IPython->import-ipynb) (0.19.2)\n",
      "Requirement already satisfied: matplotlib-inline in c:\\users\\sambridhi shrestha\\appdata\\local\\programs\\python\\python312\\lib\\site-packages (from IPython->import-ipynb) (0.1.7)\n",
      "Requirement already satisfied: prompt_toolkit<3.1.0,>=3.0.41 in c:\\users\\sambridhi shrestha\\appdata\\local\\programs\\python\\python312\\lib\\site-packages (from IPython->import-ipynb) (3.0.50)\n",
      "Requirement already satisfied: pygments>=2.4.0 in c:\\users\\sambridhi shrestha\\appdata\\local\\programs\\python\\python312\\lib\\site-packages (from IPython->import-ipynb) (2.19.1)\n",
      "Requirement already satisfied: stack_data in c:\\users\\sambridhi shrestha\\appdata\\local\\programs\\python\\python312\\lib\\site-packages (from IPython->import-ipynb) (0.6.3)\n",
      "Requirement already satisfied: traitlets>=5.13.0 in c:\\users\\sambridhi shrestha\\appdata\\local\\programs\\python\\python312\\lib\\site-packages (from IPython->import-ipynb) (5.14.3)\n",
      "Requirement already satisfied: fastjsonschema>=2.15 in c:\\users\\sambridhi shrestha\\appdata\\local\\programs\\python\\python312\\lib\\site-packages (from nbformat->import-ipynb) (2.21.1)\n",
      "Requirement already satisfied: jsonschema>=2.6 in c:\\users\\sambridhi shrestha\\appdata\\local\\programs\\python\\python312\\lib\\site-packages (from nbformat->import-ipynb) (4.23.0)\n",
      "Requirement already satisfied: jupyter-core!=5.0.*,>=4.12 in c:\\users\\sambridhi shrestha\\appdata\\local\\programs\\python\\python312\\lib\\site-packages (from nbformat->import-ipynb) (5.7.2)\n",
      "Requirement already satisfied: parso<0.9.0,>=0.8.4 in c:\\users\\sambridhi shrestha\\appdata\\local\\programs\\python\\python312\\lib\\site-packages (from jedi>=0.16->IPython->import-ipynb) (0.8.4)\n",
      "Requirement already satisfied: attrs>=22.2.0 in c:\\users\\sambridhi shrestha\\appdata\\local\\programs\\python\\python312\\lib\\site-packages (from jsonschema>=2.6->nbformat->import-ipynb) (25.1.0)\n",
      "Requirement already satisfied: jsonschema-specifications>=2023.03.6 in c:\\users\\sambridhi shrestha\\appdata\\local\\programs\\python\\python312\\lib\\site-packages (from jsonschema>=2.6->nbformat->import-ipynb) (2024.10.1)\n",
      "Requirement already satisfied: referencing>=0.28.4 in c:\\users\\sambridhi shrestha\\appdata\\local\\programs\\python\\python312\\lib\\site-packages (from jsonschema>=2.6->nbformat->import-ipynb) (0.36.2)\n",
      "Requirement already satisfied: rpds-py>=0.7.1 in c:\\users\\sambridhi shrestha\\appdata\\local\\programs\\python\\python312\\lib\\site-packages (from jsonschema>=2.6->nbformat->import-ipynb) (0.23.1)\n",
      "Requirement already satisfied: platformdirs>=2.5 in c:\\users\\sambridhi shrestha\\appdata\\local\\programs\\python\\python312\\lib\\site-packages (from jupyter-core!=5.0.*,>=4.12->nbformat->import-ipynb) (4.3.6)\n",
      "Requirement already satisfied: pywin32>=300 in c:\\users\\sambridhi shrestha\\appdata\\local\\programs\\python\\python312\\lib\\site-packages (from jupyter-core!=5.0.*,>=4.12->nbformat->import-ipynb) (308)\n",
      "Requirement already satisfied: wcwidth in c:\\users\\sambridhi shrestha\\appdata\\local\\programs\\python\\python312\\lib\\site-packages (from prompt_toolkit<3.1.0,>=3.0.41->IPython->import-ipynb) (0.2.13)\n",
      "Requirement already satisfied: executing>=1.2.0 in c:\\users\\sambridhi shrestha\\appdata\\local\\programs\\python\\python312\\lib\\site-packages (from stack_data->IPython->import-ipynb) (2.2.0)\n",
      "Requirement already satisfied: asttokens>=2.1.0 in c:\\users\\sambridhi shrestha\\appdata\\local\\programs\\python\\python312\\lib\\site-packages (from stack_data->IPython->import-ipynb) (3.0.0)\n",
      "Requirement already satisfied: pure-eval in c:\\users\\sambridhi shrestha\\appdata\\local\\programs\\python\\python312\\lib\\site-packages (from stack_data->IPython->import-ipynb) (0.2.3)\n",
      "Requirement already satisfied: typing-extensions>=4.4.0 in c:\\users\\sambridhi shrestha\\appdata\\local\\programs\\python\\python312\\lib\\site-packages (from referencing>=0.28.4->jsonschema>=2.6->nbformat->import-ipynb) (4.14.1)\n",
      "Hello Sam\n",
      "hi\n",
      "19 99.99 Sambridhi True\n",
      "I am 19 years old\n",
      "Hello! My name is Sambridhi\n",
      "Normal human body temperature is 98 °C.\n",
      "Sambridhi is Student: True\n"
     ]
    },
    {
     "name": "stdin",
     "output_type": "stream",
     "text": [
      "Enter your favorite number:  6\n"
     ]
    },
    {
     "name": "stdout",
     "output_type": "stream",
     "text": [
      "My favorite number is  6\n"
     ]
    },
    {
     "name": "stdin",
     "output_type": "stream",
     "text": [
      "What's your name?  sam\n"
     ]
    },
    {
     "name": "stdout",
     "output_type": "stream",
     "text": [
      "My name is sam\n"
     ]
    },
    {
     "name": "stdin",
     "output_type": "stream",
     "text": [
      "Enter your height in meters:  7\n"
     ]
    },
    {
     "name": "stdout",
     "output_type": "stream",
     "text": [
      "Your height is 7.0 meters.\n"
     ]
    },
    {
     "name": "stdin",
     "output_type": "stream",
     "text": [
      "Enter your age:  18\n"
     ]
    },
    {
     "name": "stdout",
     "output_type": "stream",
     "text": [
      "Are you an adult? : True\n",
      "15.5\n",
      "<class 'float'>\n",
      "5\n",
      "<class 'int'>\n",
      "120\n",
      "<class 'int'>\n",
      "Your age is 18\n",
      "<class 'str'>\n",
      "a = 10\n",
      "b = 5\n",
      "a + b = 15\n",
      "a - b = 5\n",
      "a * b = 50\n",
      "a / b = 2.0\n",
      "a // b = 2\n",
      "a % b = 0\n",
      "a ** b = 100000\n",
      "a =  10\n",
      "b =  3\n",
      "a == b : False\n",
      "a != b : True\n",
      "a > b  : True\n",
      "a < b  : False\n",
      "a >= b : True\n",
      "a <= b : False\n"
     ]
    },
    {
     "name": "stdin",
     "output_type": "stream",
     "text": [
      "Enter value for a:  8\n",
      "Enter value for b:  7\n"
     ]
    },
    {
     "name": "stdout",
     "output_type": "stream",
     "text": [
      "\n",
      "--- Comparison Results ---\n",
      "\n",
      "a == b : False\n",
      "a != b : True\n",
      "a > b  : True\n",
      "a < b  : False\n",
      "a >= b : True\n",
      "a <= b : False\n"
     ]
    },
    {
     "name": "stdin",
     "output_type": "stream",
     "text": [
      "Enter value for a:  7\n",
      "Enter value for b:  8\n"
     ]
    },
    {
     "name": "stdout",
     "output_type": "stream",
     "text": [
      "\n",
      "--- Logical Results ---\n",
      "\n",
      "a > 5 and b < 5  : False\n",
      "a < 5 or b > 5   : True\n",
      "not(a == b)      : True\n"
     ]
    },
    {
     "name": "stdin",
     "output_type": "stream",
     "text": [
      "Enter your marks:  80\n"
     ]
    },
    {
     "name": "stdout",
     "output_type": "stream",
     "text": [
      "Grade: B\n"
     ]
    },
    {
     "name": "stdin",
     "output_type": "stream",
     "text": [
      "Enter your age:  18\n",
      "Are you a citizen? (yes/no):  yes\n"
     ]
    },
    {
     "name": "stdout",
     "output_type": "stream",
     "text": [
      "You are eligible to vote.\n"
     ]
    },
    {
     "name": "stdin",
     "output_type": "stream",
     "text": [
      "Enter value for a:  8\n",
      "Enter value for b:  8\n",
      "Enter value for c:  8\n"
     ]
    },
    {
     "name": "stdout",
     "output_type": "stream",
     "text": [
      "Condition 3: b is NOT greater than a\n",
      "apple\n",
      "banana\n",
      "cherry\n",
      "Count: 0\n",
      "Count: 1\n",
      "Count: 2\n",
      "Count: 3\n",
      "Count: 4\n",
      "Break example: 0\n",
      "Break example: 1\n",
      "Break example: 2\n",
      "Continue example: 0\n",
      "Continue example: 1\n",
      "Continue example: 2\n",
      "Continue example: 4\n",
      "Pass example finished\n",
      "0\n",
      "1\n",
      "2\n",
      "3\n",
      "4\n",
      "Index 0: apple\n",
      "Index 1: banana\n",
      "Index 2: cherry\n",
      "Aaditi is 21 years old.\n",
      "Rose is 20 years old.\n",
      "Natasha is 19 years old.\n",
      "Original list: ['apple', 'banana', 'mango']\n",
      "First fruit: apple\n",
      "First two fruits: ['apple', 'banana']\n",
      "Updated list: ['apple', 'orange', 'mango']\n",
      "After appending: ['apple', 'orange', 'mango', 'grapes']\n",
      "After removing apple: ['orange', 'mango', 'grapes']\n",
      "20\n",
      "(10, 20)\n",
      "Nikil\n",
      "{'name': 'Nikil', 'age': 25, 'email': 'nikil7@example.com'}\n",
      "{1, 2, 3, 4}\n",
      "{1, 2, 4, 5}\n"
     ]
    },
    {
     "name": "stdin",
     "output_type": "stream",
     "text": [
      "Enter a number:  7\n"
     ]
    },
    {
     "name": "stdout",
     "output_type": "stream",
     "text": [
      "Squares: [49]\n"
     ]
    },
    {
     "name": "stdin",
     "output_type": "stream",
     "text": [
      "Enter words for set comprehension:  8\n"
     ]
    },
    {
     "name": "stdout",
     "output_type": "stream",
     "text": [
      "First letter : {'8'}\n"
     ]
    },
    {
     "name": "stdin",
     "output_type": "stream",
     "text": [
      "Enter numbers with spacing:  4 5\n"
     ]
    },
    {
     "name": "stdout",
     "output_type": "stream",
     "text": [
      "Number-Square dictionary: {4: 16, 5: 25}\n",
      "Hello! Welcome to Shrestha Niwas.\n"
     ]
    },
    {
     "name": "stdin",
     "output_type": "stream",
     "text": [
      "Enter first number:  7\n",
      "Enter second number:  8\n"
     ]
    },
    {
     "name": "stdout",
     "output_type": "stream",
     "text": [
      "Sum: 15\n",
      "Hello, Guest!\n",
      "Hello, Sanas!\n",
      "Hello, Shrestha!\n",
      "Positional arguments: (1, 2, 3)\n",
      "Keyword arguments: {'name': 'Sanas', 'age': 21}\n",
      "Squares: [1, 4, 9, 16]\n",
      "Even numbers: [6, 8]\n",
      "Sorted by age: [('Gita', 18), ('Sita', 20), ('Rita', 22)]\n",
      "Sum: 8\n",
      "Inside function (local counter): 1\n",
      "Outside function (global counter): 0\n",
      "Inside function (global counter): 1\n",
      "Outside function (global counter): 1\n",
      "Hello, Sambridhi!\n",
      "hello, sambridhi!\n",
      "HELLO, SAMBRIDHI!\n",
      "Hello, Sambridhi!\n",
      "['Hello', ' Sambridhi!']\n",
      "My name is Sana and I am 22 years old.\n",
      "My name is Sana and I am 22 years old.\n",
      "Hello Sambridhi!\n",
      "This file was written using Python.\n",
      "Before: Hello Sambridhi!\n",
      "This file was written using Python.\n",
      "This line was appended.\n",
      "\n"
     ]
    }
   ],
   "source": [
    "!pip install import-ipynb\n",
    "import import_ipynb\n",
    "from Day1 import eligible"
   ]
  },
  {
   "cell_type": "code",
   "execution_count": 2,
   "id": "2bbf5eb0-b401-42b0-9417-115d25c38446",
   "metadata": {},
   "outputs": [
    {
     "data": {
      "text/plain": [
       "'Not eligible'"
      ]
     },
     "execution_count": 2,
     "metadata": {},
     "output_type": "execute_result"
    }
   ],
   "source": [
    "eligible(15)"
   ]
  },
  {
   "cell_type": "markdown",
   "id": "5de594d7-b415-40da-9c65-e47d6d204f4a",
   "metadata": {},
   "source": [
    "# 8. Error Handling"
   ]
  },
  {
   "cell_type": "code",
   "execution_count": 6,
   "id": "a5723d97-d157-4623-96be-ea92ab189791",
   "metadata": {
    "scrolled": true
   },
   "outputs": [
    {
     "name": "stdin",
     "output_type": "stream",
     "text": [
      "Enter numerator (a):  1\n",
      "Enter denominator (b):  2\n"
     ]
    },
    {
     "name": "stdout",
     "output_type": "stream",
     "text": [
      "Result: 0.5\n",
      "Division attempt finished.\n"
     ]
    }
   ],
   "source": [
    "def divide():\n",
    "    try:\n",
    "        a = float(input(\"Enter numerator (a): \"))\n",
    "        b = float(input(\"Enter denominator (b): \"))\n",
    "        result = a / b\n",
    "    except ZeroDivisionError:\n",
    "        print(\"Error: Cannot divide by zero.\")\n",
    "    except TypeError:\n",
    "        print(\"Error: Unsupported type.\")\n",
    "    except ValueError:\n",
    "        print(\"Error: Please enter valid numbers.\")\n",
    "    else:\n",
    "        print(\"Result:\", result)\n",
    "    finally:\n",
    "        print(\"Division attempt finished.\")\n",
    "\n",
    "# Calling the function\n",
    "divide()\n"
   ]
  },
  {
   "cell_type": "code",
   "execution_count": 16,
   "id": "42cab802-4aee-4070-bcfc-eb4167769780",
   "metadata": {},
   "outputs": [
    {
     "name": "stdout",
     "output_type": "stream",
     "text": [
      "Valid age: 18\n"
     ]
    },
    {
     "ename": "ValueError",
     "evalue": "Age cannot be negative!",
     "output_type": "error",
     "traceback": [
      "\u001b[31m---------------------------------------------------------------------------\u001b[39m",
      "\u001b[31mValueError\u001b[39m                                Traceback (most recent call last)",
      "\u001b[36mCell\u001b[39m\u001b[36m \u001b[39m\u001b[32mIn[16]\u001b[39m\u001b[32m, line 9\u001b[39m\n\u001b[32m      7\u001b[39m \u001b[38;5;66;03m# Example usage\u001b[39;00m\n\u001b[32m      8\u001b[39m check_age(\u001b[32m18\u001b[39m)   \u001b[38;5;66;03m# it prints out \u001b[39;00m\n\u001b[32m----> \u001b[39m\u001b[32m9\u001b[39m \u001b[43mcheck_age\u001b[49m\u001b[43m(\u001b[49m\u001b[43m-\u001b[49m\u001b[32;43m18\u001b[39;49m\u001b[43m)\u001b[49m \u001b[38;5;66;03m# it doesnot prints out\u001b[39;00m\n",
      "\u001b[36mCell\u001b[39m\u001b[36m \u001b[39m\u001b[32mIn[16]\u001b[39m\u001b[32m, line 4\u001b[39m, in \u001b[36mcheck_age\u001b[39m\u001b[34m(age)\u001b[39m\n\u001b[32m      2\u001b[39m \u001b[38;5;28;01mdef\u001b[39;00m\u001b[38;5;250m \u001b[39m\u001b[34mcheck_age\u001b[39m(age):\n\u001b[32m      3\u001b[39m     \u001b[38;5;28;01mif\u001b[39;00m age < \u001b[32m0\u001b[39m:\n\u001b[32m----> \u001b[39m\u001b[32m4\u001b[39m         \u001b[38;5;28;01mraise\u001b[39;00m \u001b[38;5;167;01mValueError\u001b[39;00m(\u001b[33m\"\u001b[39m\u001b[33mAge cannot be negative!\u001b[39m\u001b[33m\"\u001b[39m)\n\u001b[32m      5\u001b[39m     \u001b[38;5;28mprint\u001b[39m(\u001b[33m\"\u001b[39m\u001b[33mValid age:\u001b[39m\u001b[33m\"\u001b[39m, age)\n",
      "\u001b[31mValueError\u001b[39m: Age cannot be negative!"
     ]
    }
   ],
   "source": [
    "# Raising exceptions\n",
    "def check_age(age):\n",
    "    if age < 0:\n",
    "        raise ValueError(\"Age cannot be negative!\")\n",
    "    print(\"Valid age:\", age)\n",
    "\n",
    "# Example usage\n",
    "check_age(18)   # it prints out \n",
    "check_age(-18) # it doesnot prints out"
   ]
  },
  {
   "cell_type": "code",
   "execution_count": 18,
   "id": "24acf7fb-e317-4e7d-86ff-37ee4b9314df",
   "metadata": {},
   "outputs": [
    {
     "name": "stdin",
     "output_type": "stream",
     "text": [
      "Enter your age:  45\n"
     ]
    },
    {
     "name": "stdout",
     "output_type": "stream",
     "text": [
      "Registration successful.\n"
     ]
    }
   ],
   "source": [
    "class TooYoungError(Exception):\n",
    "    def __init__(self, age):\n",
    "        super().__init__(f\"Age {age} is too young to register.\")\n",
    "\n",
    "def register(age):\n",
    "    if age < 18:\n",
    "        raise TooYoungError(age)\n",
    "    print(\"Registration successful.\")\n",
    "\n",
    "try:\n",
    "    age = int(input(\"Enter your age: \"))\n",
    "    register(age)\n",
    "except TooYoungError as e:\n",
    "    print(\"Custom Error Caught:\", e)"
   ]
  },
  {
   "cell_type": "markdown",
   "id": "5be5982e-742b-4b85-b4c3-607e76bacb34",
   "metadata": {},
   "source": [
    "# 9. Object-Oriented Programming"
   ]
  },
  {
   "cell_type": "code",
   "execution_count": 1,
   "id": "5caf808e-1224-4b23-b909-b488ee5a87b6",
   "metadata": {},
   "outputs": [
    {
     "name": "stdout",
     "output_type": "stream",
     "text": [
      "The car is driving.\n",
      "The car is driving.\n"
     ]
    }
   ],
   "source": [
    "# Creating a class\n",
    "class Car:\n",
    "    # Method (function inside class)\n",
    "    def drive(self):\n",
    "        print(\"The car is driving.\")\n",
    "\n",
    "# Creating objects from the class\n",
    "car1 = Car()\n",
    "car2 = Car()\n",
    "\n",
    "# Calling method using the object\n",
    "car1.drive()\n",
    "car2.drive()\n"
   ]
  },
  {
   "cell_type": "code",
   "execution_count": 6,
   "id": "998ee4ea-503d-416b-81fd-e4ebc272b0b3",
   "metadata": {},
   "outputs": [
    {
     "name": "stdout",
     "output_type": "stream",
     "text": [
      "Buddy says Woof!\n"
     ]
    }
   ],
   "source": [
    "# __init__() constructors\n",
    "class Dog:\n",
    "    def __init__(self, name):\n",
    "        self.name = name\n",
    "\n",
    "    def bark(self):\n",
    "        print(f\"{self.name} says Woof!\")\n",
    "\n",
    "my_dog = Dog(\"Buddy\")\n",
    "my_dog.bark()"
   ]
  },
  {
   "cell_type": "code",
   "execution_count": 7,
   "id": "024a78d4-084c-4cc6-b450-3722cfa87759",
   "metadata": {},
   "outputs": [
    {
     "name": "stdout",
     "output_type": "stream",
     "text": [
      "The Red Tesla is driving.\n",
      "The Blue Toyota is driving.\n"
     ]
    }
   ],
   "source": [
    "class Car:\n",
    "    # Constructor to initialize the object's data\n",
    "    def __init__(self, brand, color):\n",
    "        self.brand = brand  # instance variable\n",
    "        self.color = color\n",
    "\n",
    "    def drive(self):\n",
    "        print(f\"The {self.color} {self.brand} is driving.\")\n",
    "\n",
    "# Creating objects with values\n",
    "car1 = Car(\"Tesla\", \"Red\")\n",
    "car2 = Car(\"Toyota\", \"Blue\")\n",
    "\n",
    "car1.drive()\n",
    "car2.drive()\n"
   ]
  },
  {
   "cell_type": "code",
   "execution_count": 13,
   "id": "48c23731-15ab-47ac-905d-18a5ea7bf69c",
   "metadata": {},
   "outputs": [
    {
     "name": "stdout",
     "output_type": "stream",
     "text": [
      "My Dog name is Buddy and is of Canine breed\n",
      "My Dog name is Max and is of Canine breed\n",
      "Buddy\n",
      "Canine\n"
     ]
    }
   ],
   "source": [
    "# Instances and class Variables\n",
    "class Dog:\n",
    "    species = \"Canine\"  # Class variable\n",
    "\n",
    "    def __init__(self, name):\n",
    "        self.name = name  # Instance variable\n",
    "        print(f\"My Dog name is {self.name} and is of {self.species} breed\")\n",
    "\n",
    "dog1 = Dog(\"Buddy\")\n",
    "dog2 = Dog(\"Max\")\n",
    "\n",
    "print(dog1.name)      # Buddy\n",
    "print(dog1.species)   # Canine\n"
   ]
  },
  {
   "cell_type": "code",
   "execution_count": 15,
   "id": "fa089fe0-0f96-412c-9830-b47f89efe998",
   "metadata": {},
   "outputs": [
    {
     "name": "stdout",
     "output_type": "stream",
     "text": [
      "Elon 102\n"
     ]
    }
   ],
   "source": [
    "# Inheritance\n",
    "# Creating a parent class\n",
    "class Person(object):\n",
    "  \n",
    "  # Constructor\n",
    "  def __init__(self, name, id):\n",
    "    self.name = name\n",
    "    self.id = id\n",
    "\n",
    "  # To check if this person is an employee\n",
    "  def Display(self):\n",
    "    print(self.name, self.id)\n",
    "\n",
    "\n",
    "# Driver code\n",
    "emp = Person(\"Elon\", 102) # An Object of Person\n",
    "emp.Display()"
   ]
  },
  {
   "cell_type": "code",
   "execution_count": 16,
   "id": "f741b856-18c5-4ea5-9afc-784ab19df92d",
   "metadata": {},
   "outputs": [
    {
     "name": "stdout",
     "output_type": "stream",
     "text": [
      "Mayank 103\n",
      "Emp class called\n"
     ]
    }
   ],
   "source": [
    "# Creatng a Child class\n",
    "class Emp(Person):\n",
    "  \n",
    "  def Print(self):\n",
    "    print(\"Emp class called\")\n",
    "    \n",
    "Emp_details = Emp(\"Mayank\", 103)\n",
    "\n",
    "# calling parent class function\n",
    "Emp_details.Display()\n",
    "\n",
    "# Calling child class function\n",
    "Emp_details.Print()"
   ]
  },
  {
   "cell_type": "code",
   "execution_count": 19,
   "id": "6331756d-9249-4ccb-9d59-b9a53bde82b1",
   "metadata": {},
   "outputs": [
    {
     "name": "stdout",
     "output_type": "stream",
     "text": [
      "Animal speaks\n",
      "Woof!\n"
     ]
    }
   ],
   "source": [
    "# Parent class (superclass)\n",
    "class Animal:\n",
    "    # Method common to all animals\n",
    "    def speak(self):\n",
    "        print(\"Animal speaks\")\n",
    "\n",
    "# Child class (subclass) that inherits from Animal\n",
    "class Dog(Animal):\n",
    "    # Dog has its own unique method\n",
    "    def bark(self):\n",
    "        print(\"Woof!\")\n",
    "\n",
    "# Creating an object (instance) of Dog\n",
    "dog = Dog()\n",
    "\n",
    "# Call inherited method from Animal class\n",
    "dog.speak()  \n",
    "\n",
    "# Call method from Dog class\n",
    "dog.bark() \n"
   ]
  },
  {
   "cell_type": "code",
   "execution_count": 26,
   "id": "9d035e48-c8de-4317-add5-c44822cdc8ee",
   "metadata": {},
   "outputs": [
    {
     "name": "stdout",
     "output_type": "stream",
     "text": [
      "Sam\n",
      "ST123\n",
      "Salary: 50000\n",
      "Post: Manager\n"
     ]
    }
   ],
   "source": [
    "# Super class()\n",
    "# Parent Class: Person\n",
    "class Person:\n",
    "    def __init__(self, name, idnumber):\n",
    "        self.name = name\n",
    "        self.idnumber = idnumber\n",
    "\n",
    "    def display(self):\n",
    "        print(self.name)\n",
    "        print(self.idnumber)\n",
    "\n",
    "# Child Class: Employee\n",
    "class Employee(Person):\n",
    "    def __init__(self, name, idnumber, salary, post):\n",
    "        super().__init__(name, idnumber)  # Using super() to call Person's __init__()\n",
    "        self.salary = salary\n",
    "        self.post = post\n",
    "        \n",
    "    def show_employee_details(self):\n",
    "        # Printing all employee details including inherited ones\n",
    "        self.display()  # Call method from Person class\n",
    "        print(\"Salary:\", self.salary)\n",
    "        print(\"Post:\", self.post)\n",
    "\n",
    "# Create an Employee object\n",
    "emp1 = Employee(\"Sam\", \"ST123\", 50000, \"Manager\")\n",
    "\n",
    "# Show details\n",
    "emp1.show_employee_details()"
   ]
  },
  {
   "cell_type": "code",
   "execution_count": 27,
   "id": "18f91821-25a2-422a-a4b5-48948e4f0af2",
   "metadata": {},
   "outputs": [
    {
     "name": "stdout",
     "output_type": "stream",
     "text": [
      "John 40000\n",
      "Alice 50000\n",
      "Bob 60000 HR\n",
      "Charlie 45000 10\n",
      "David 70000 Finance 20\n"
     ]
    }
   ],
   "source": [
    "# Types of Python Inheritance\n",
    "# 1. Single Inheritance\n",
    "class Person:\n",
    "    def __init__(self, name):\n",
    "        self.name = name\n",
    "\n",
    "class Employee(Person):  # Employee inherits from Person\n",
    "    def __init__(self, name, salary):\n",
    "        super().__init__(name)\n",
    "        self.salary = salary\n",
    "\n",
    "# 2. Multiple Inheritance\n",
    "class Job:\n",
    "    def __init__(self, salary):\n",
    "        self.salary = salary\n",
    "\n",
    "class EmployeePersonJob(Employee, Job):  # Inherits from both Employee and Job\n",
    "    def __init__(self, name, salary):\n",
    "        Employee.__init__(self, name, salary)  # Initialize Employee\n",
    "        Job.__init__(self, salary)            # Initialize Job\n",
    "\n",
    "# 3. Multilevel Inheritance\n",
    "class Manager(EmployeePersonJob):  # Inherits from EmployeePersonJob\n",
    "    def __init__(self, name, salary, department):\n",
    "        EmployeePersonJob.__init__(self, name, salary)  # Explicitly initialize EmployeePersonJob\n",
    "        self.department = department\n",
    "\n",
    "# 4. Hierarchical Inheritance\n",
    "class AssistantManager(EmployeePersonJob):  # Inherits from EmployeePersonJob\n",
    "    def __init__(self, name, salary, team_size):\n",
    "        EmployeePersonJob.__init__(self, name, salary)  # Explicitly initialize EmployeePersonJob\n",
    "        self.team_size = team_size\n",
    "\n",
    "# 5. Hybrid Inheritance (Multiple + Multilevel)\n",
    "class SeniorManager(Manager, AssistantManager):  # Inherits from both Manager and AssistantManager\n",
    "    def __init__(self, name, salary, department, team_size):\n",
    "        Manager.__init__(self, name, salary, department)        # Initialize Manager\n",
    "        AssistantManager.__init__(self, name, salary, team_size)  # Initialize AssistantManager\n",
    "\n",
    "# Creating objects to show inheritance\n",
    "\n",
    "# Single Inheritance\n",
    "emp = Employee(\"John\", 40000)\n",
    "print(emp.name, emp.salary)\n",
    "\n",
    "# Multiple Inheritance\n",
    "emp2 = EmployeePersonJob(\"Alice\", 50000)\n",
    "print(emp2.name, emp2.salary)\n",
    "\n",
    "# Multilevel Inheritance\n",
    "mgr = Manager(\"Bob\", 60000, \"HR\")\n",
    "print(mgr.name, mgr.salary, mgr.department)\n",
    "\n",
    "# Hierarchical Inheritance\n",
    "asst_mgr = AssistantManager(\"Charlie\", 45000, 10)\n",
    "print(asst_mgr.name, asst_mgr.salary, asst_mgr.team_size)\n",
    "\n",
    "# Hybrid Inheritance\n",
    "sen_mgr = SeniorManager(\"David\", 70000, \"Finance\", 20)\n",
    "print(sen_mgr.name, sen_mgr.salary, sen_mgr.department, sen_mgr.team_size)"
   ]
  },
  {
   "cell_type": "code",
   "execution_count": 28,
   "id": "a385d819-a984-4088-98ae-127b4a01f7c0",
   "metadata": {},
   "outputs": [
    {
     "name": "stdout",
     "output_type": "stream",
     "text": [
      "Inside Parent\n",
      "Inside Child\n"
     ]
    }
   ],
   "source": [
    "# Method Overriding\n",
    "# Defining parent class \n",
    "class Parent(): \n",
    "\t# Constructor \n",
    "\tdef __init__(self): \n",
    "\t\tself.value = \"Inside Parent\"\n",
    "\t\t\n",
    "\t# Parent's show method \n",
    "\tdef show(self): \n",
    "\t\tprint(self.value) \n",
    "\t\t\n",
    "# Defining child class \n",
    "class Child(Parent): \n",
    "\t# Constructor \n",
    "\tdef __init__(self): \n",
    "\t\tsuper().__init__()  # Call parent constructor\n",
    "\t\tself.value = \"Inside Child\"\n",
    "\t\t\n",
    "\t# Child's show method \n",
    "\tdef show(self): \n",
    "\t\tprint(self.value) \n",
    "\t\t\n",
    "# Driver's code \n",
    "obj1 = Parent() \n",
    "obj2 = Child() \n",
    "\n",
    "obj1.show()  \n",
    "obj2.show()  "
   ]
  },
  {
   "cell_type": "code",
   "execution_count": 30,
   "id": "d4fe3afb-79a6-4bc9-87de-456eeedd6d21",
   "metadata": {},
   "outputs": [
    {
     "name": "stdout",
     "output_type": "stream",
     "text": [
      "Deposited 500\n",
      "Withdrew 300\n",
      "Current balance: 1200\n"
     ]
    }
   ],
   "source": [
    "# Encapsulation and Abstraction\n",
    "class BankAccount:\n",
    "    def __init__(self, name, balance):\n",
    "        self.name = name              # public variable\n",
    "        self.__balance = balance      # private variable (\n",
    "    def deposit(self, amount):\n",
    "        if amount > 0:\n",
    "            self.__balance += amount\n",
    "            print(f\"Deposited {amount}\")\n",
    "        else:\n",
    "            print(\"Invalid amount\")\n",
    "\n",
    "    def withdraw(self, amount):\n",
    "        if amount <= self.__balance:\n",
    "            self.__balance -= amount\n",
    "            print(f\"Withdrew {amount}\")\n",
    "        else:\n",
    "            print(\"Insufficient balance\")\n",
    "\n",
    "    def get_balance(self):\n",
    "        return self.__balance\n",
    "\n",
    "# Using the class\n",
    "acc = BankAccount(\"Sam\", 1000)\n",
    "acc.deposit(500)\n",
    "acc.withdraw(300)\n",
    "print(\"Current balance:\", acc.get_balance())\n",
    "\n",
    "# Trying to access private variable directly (not allowed)"
   ]
  },
  {
   "cell_type": "code",
   "execution_count": 31,
   "id": "02b3b02b-55f3-4996-b53b-30ab7ef86e34",
   "metadata": {},
   "outputs": [
    {
     "name": "stdout",
     "output_type": "stream",
     "text": [
      "Area: 15\n",
      "Perimeter: 16\n"
     ]
    }
   ],
   "source": [
    "from abc import ABC, abstractmethod\n",
    "\n",
    "# Abstract base class\n",
    "class Shape(ABC):\n",
    "    @abstractmethod\n",
    "    def area(self):\n",
    "        pass  # No implementation\n",
    "\n",
    "    @abstractmethod\n",
    "    def perimeter(self):\n",
    "        pass\n",
    "\n",
    "# Concrete class\n",
    "class Rectangle(Shape):\n",
    "    def __init__(self, length, breadth):\n",
    "        self.length = length\n",
    "        self.breadth = breadth\n",
    "\n",
    "    def area(self):\n",
    "        return self.length * self.breadth\n",
    "\n",
    "    def perimeter(self):\n",
    "        return 2 * (self.length + self.breadth)\n",
    "\n",
    "# Using the Rectangle class\n",
    "rect = Rectangle(5, 3)\n",
    "print(\"Area:\", rect.area())\n",
    "print(\"Perimeter:\", rect.perimeter())\n"
   ]
  },
  {
   "cell_type": "code",
   "execution_count": 32,
   "id": "8c007534-aadc-453d-a1ee-5def0f68ef83",
   "metadata": {},
   "outputs": [
    {
     "name": "stdout",
     "output_type": "stream",
     "text": [
      "<__main__.String object at 0x0000019AE15FA930>\n"
     ]
    }
   ],
   "source": [
    "#Magic Method\n",
    "# __init__ method\n",
    "class String:\n",
    "    \n",
    "    # magic method to initiate object\n",
    "    def __init__(self, string):\n",
    "        self.string = string\n",
    "        \n",
    "# Driver Code\n",
    "if __name__ == '__main__':\n",
    "    \n",
    "    # object creation\n",
    "    string1 = String('Hello')\n",
    "\n",
    "    # print object location\n",
    "    print(string1)"
   ]
  },
  {
   "cell_type": "code",
   "execution_count": 33,
   "id": "d5e44cc2-e25a-40f7-a693-cc5de659e795",
   "metadata": {},
   "outputs": [
    {
     "name": "stdout",
     "output_type": "stream",
     "text": [
      "Object: Hello\n"
     ]
    }
   ],
   "source": [
    "# __repr__ method\n",
    "class String:\n",
    "    \n",
    "    # magic method to initiate object\n",
    "    def __init__(self, string):\n",
    "        self.string = string\n",
    "        \n",
    "    # print our string object\n",
    "    def __repr__(self):\n",
    "        return 'Object: {}'.format(self.string)\n",
    "\n",
    "# Driver Code\n",
    "if __name__ == '__main__':\n",
    "    \n",
    "    # object creation\n",
    "    string1 = String('Hello')\n",
    "\n",
    "    # print object location\n",
    "    print(string1)"
   ]
  },
  {
   "cell_type": "code",
   "execution_count": 35,
   "id": "a2651ad5-6683-4382-8cac-49d5ce9938c0",
   "metadata": {},
   "outputs": [
    {
     "name": "stdout",
     "output_type": "stream",
     "text": [
      "Hello Geeks\n"
     ]
    }
   ],
   "source": [
    "# add method\n",
    "class String:\n",
    "    # magic method to initiate object\n",
    "    def __init__(self, string):\n",
    "        self.string = string \n",
    "        \n",
    "    # print our string object\n",
    "    def __repr__(self):\n",
    "        return 'Object: {}'.format(self.string)\n",
    "        \n",
    "    def __add__(self, other):\n",
    "        return self.string + other\n",
    "\n",
    "# Driver Code\n",
    "if __name__ == '__main__':\n",
    "    \n",
    "    # object creation\n",
    "    string1 = String('Hello')\n",
    "    \n",
    "    # concatenate String object and a string\n",
    "    print(string1 +' Geeks')"
   ]
  },
  {
   "cell_type": "code",
   "execution_count": 37,
   "id": "af920529-769b-4d8b-baba-d215063f640e",
   "metadata": {},
   "outputs": [
    {
     "name": "stdout",
     "output_type": "stream",
     "text": [
      "3\n"
     ]
    }
   ],
   "source": [
    "#__len__ method\n",
    "\n",
    "class Playlist:\n",
    "    def __init__(self, songs):\n",
    "        self.songs = songs\n",
    "\n",
    "    def __len__(self):\n",
    "        return len(self.songs)\n",
    "\n",
    "my_playlist = Playlist([\"Song1\", \"Song2\", \"Song3\"])\n",
    "print(len(my_playlist))  # 3\n"
   ]
  },
  {
   "cell_type": "code",
   "execution_count": 38,
   "id": "73416c70-288e-49a0-b7c3-0b3c2963ca5a",
   "metadata": {},
   "outputs": [
    {
     "name": "stdout",
     "output_type": "stream",
     "text": [
      "The book title is '1984'\n"
     ]
    }
   ],
   "source": [
    "# __ str__\n",
    "class Book:\n",
    "    def __init__(self, title):\n",
    "        self.title = title\n",
    "\n",
    "    def __str__(self):\n",
    "        return f\"The book title is '{self.title}'\"\n",
    "\n",
    "book = Book(\"1984\")\n",
    "print(book)   # The book title is '1984'"
   ]
  },
  {
   "cell_type": "code",
   "execution_count": 39,
   "id": "97393751-f6c1-414d-b26d-2b8c631ea7f3",
   "metadata": {},
   "outputs": [
    {
     "name": "stdout",
     "output_type": "stream",
     "text": [
      "1\n",
      "2\n",
      "3\n",
      "4\n",
      "5\n"
     ]
    }
   ],
   "source": [
    "#Iterators and Generators\n",
    "# Iterators\n",
    "class Counter:\n",
    "    def __init__(self, start, end):\n",
    "        self.current = start\n",
    "        self.end = end\n",
    "\n",
    "    def __iter__(self):\n",
    "        return self  # returning self as iterator\n",
    "\n",
    "    def __next__(self):\n",
    "        if self.current > self.end:\n",
    "            raise StopIteration\n",
    "        else:\n",
    "            self.current += 1\n",
    "            return self.current - 1\n",
    "\n",
    "for num in Counter(1, 5):\n",
    "    print(num)\n"
   ]
  },
  {
   "cell_type": "code",
   "execution_count": 40,
   "id": "cd357e1f-3b90-40be-8e8f-58f6e18152ad",
   "metadata": {},
   "outputs": [
    {
     "name": "stdout",
     "output_type": "stream",
     "text": [
      "1\n",
      "2\n",
      "3\n"
     ]
    }
   ],
   "source": [
    "# generator sunction using yield\n",
    "def my_generator():\n",
    "    yield 1\n",
    "    yield 2\n",
    "    yield 3\n",
    "\n",
    "for val in my_generator():\n",
    "    print(val)\n"
   ]
  },
  {
   "cell_type": "code",
   "execution_count": 41,
   "id": "3162cc6f-d9a3-408b-a443-35cf5d4775b4",
   "metadata": {},
   "outputs": [
    {
     "name": "stdout",
     "output_type": "stream",
     "text": [
      "0\n",
      "1\n",
      "4\n",
      "9\n",
      "16\n"
     ]
    }
   ],
   "source": [
    "#generator expression\n",
    "squares = (x*x for x in range(5))\n",
    "for i in squares:\n",
    "    print(i)\n"
   ]
  },
  {
   "cell_type": "code",
   "execution_count": null,
   "id": "7d41aa3f-8e42-4486-8c65-d7e94844d7b0",
   "metadata": {},
   "outputs": [],
   "source": []
  }
 ],
 "metadata": {
  "kernelspec": {
   "display_name": "Python 3 (ipykernel)",
   "language": "python",
   "name": "python3"
  },
  "language_info": {
   "codemirror_mode": {
    "name": "ipython",
    "version": 3
   },
   "file_extension": ".py",
   "mimetype": "text/x-python",
   "name": "python",
   "nbconvert_exporter": "python",
   "pygments_lexer": "ipython3",
   "version": "3.12.8"
  }
 },
 "nbformat": 4,
 "nbformat_minor": 5
}
