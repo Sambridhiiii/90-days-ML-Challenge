{
 "cells": [
  {
   "cell_type": "markdown",
   "id": "8c4dac2a-0257-4e1c-a132-0c8cf64d6d03",
   "metadata": {},
   "source": [
    "# 1.Python Basics"
   ]
  },
  {
   "cell_type": "code",
   "execution_count": 159,
   "id": "215a3af3-1e38-4d7d-ba5f-ffa73716d32f",
   "metadata": {},
   "outputs": [
    {
     "name": "stdout",
     "output_type": "stream",
     "text": [
      "Hello Sam\n",
      "hi\n"
     ]
    }
   ],
   "source": [
    "# Single line comment\n",
    "print(\"Hello Sam\")\n",
    "\n",
    "#Multiline comment\n",
    "'''\n",
    "My name is Sambridhi\n",
    "I am a student\n",
    "I live in kathmandu\n",
    "'''\n",
    "\n",
    "print(\"hi\")"
   ]
  },
  {
   "cell_type": "code",
   "execution_count": 160,
   "id": "73c68a16-4b7d-4e6e-99ee-b9a8cc64e810",
   "metadata": {},
   "outputs": [
    {
     "name": "stdout",
     "output_type": "stream",
     "text": [
      "19 99.99 Sambridhi True\n"
     ]
    }
   ],
   "source": [
    "# Variables and datatypes\n",
    "# Integer\n",
    "age = 19\n",
    "\n",
    "# Float\n",
    "price = 99.99\n",
    "\n",
    "# String\n",
    "name = \"Sambridhi\"\n",
    "\n",
    "# Boolean\n",
    "is_student = True\n",
    "\n",
    "print(age, price,name,is_student)\n"
   ]
  },
  {
   "cell_type": "code",
   "execution_count": 161,
   "id": "c68666cb-4b54-4e58-bd17-049c8c4e88b1",
   "metadata": {},
   "outputs": [
    {
     "name": "stdout",
     "output_type": "stream",
     "text": [
      "I am 19 years old\n"
     ]
    }
   ],
   "source": [
    "# Integer \n",
    "age = 19\n",
    "print(\"I am\", age,\"years old\")"
   ]
  },
  {
   "cell_type": "code",
   "execution_count": 162,
   "id": "abeddedb-4f7c-428c-8caa-f276a87bf7e7",
   "metadata": {},
   "outputs": [
    {
     "name": "stdout",
     "output_type": "stream",
     "text": [
      "Hello! My name is Sambridhi\n"
     ]
    }
   ],
   "source": [
    "# String\n",
    "name = \"Sambridhi\"\n",
    "print(\"Hello! My name is\", name)"
   ]
  },
  {
   "cell_type": "code",
   "execution_count": 163,
   "id": "db7bf721-7c66-40f6-a156-9b700111620a",
   "metadata": {},
   "outputs": [
    {
     "name": "stdout",
     "output_type": "stream",
     "text": [
      "Normal human body temperature is 98 °C.\n"
     ]
    }
   ],
   "source": [
    "# Float\n",
    "temperature = 98\n",
    "print(\"Normal human body temperature is\", temperature,\"°C.\")\n"
   ]
  },
  {
   "cell_type": "code",
   "execution_count": 164,
   "id": "24b2d968-c69a-4bda-b7c9-b453d1460adf",
   "metadata": {},
   "outputs": [
    {
     "name": "stdout",
     "output_type": "stream",
     "text": [
      "Sambridhi is Student: True\n"
     ]
    }
   ],
   "source": [
    "# Boolean Example\n",
    "is_Student = True\n",
    "print(\"Sambridhi is Student:\", is_Student)"
   ]
  },
  {
   "cell_type": "code",
   "execution_count": 166,
   "id": "1d18ffbe-b16e-4ef5-94ac-94885e902f06",
   "metadata": {},
   "outputs": [
    {
     "name": "stdin",
     "output_type": "stream",
     "text": [
      "Enter your favorite number:  8\n"
     ]
    },
    {
     "name": "stdout",
     "output_type": "stream",
     "text": [
      "My favorite number is  8\n"
     ]
    }
   ],
   "source": [
    "# Basic input/output\n",
    "# Integer input\n",
    "\n",
    "fav_number = int(input(\"Enter your favorite number: \"))\n",
    "print(\"My favorite number is \", fav_number)"
   ]
  },
  {
   "cell_type": "code",
   "execution_count": 167,
   "id": "b69938b2-b6a0-4a9f-985a-2b768996d9df",
   "metadata": {},
   "outputs": [
    {
     "name": "stdin",
     "output_type": "stream",
     "text": [
      "What's your name?  sam\n"
     ]
    },
    {
     "name": "stdout",
     "output_type": "stream",
     "text": [
      "My name is sam\n"
     ]
    }
   ],
   "source": [
    "# String input\n",
    "name = input(\"What's your name? \")\n",
    "print(\"My name is\",name )\n"
   ]
  },
  {
   "cell_type": "code",
   "execution_count": 169,
   "id": "345e1722-df6a-4201-beea-4a01816e3f3e",
   "metadata": {},
   "outputs": [
    {
     "name": "stdin",
     "output_type": "stream",
     "text": [
      "Enter your height in meters:  7\n"
     ]
    },
    {
     "name": "stdout",
     "output_type": "stream",
     "text": [
      "Your height is 7.0 meters.\n"
     ]
    }
   ],
   "source": [
    "# Float input\n",
    "height = float(input(\"Enter your height in meters: \"))\n",
    "print(\"Your height is\", height, \"meters.\")\n"
   ]
  },
  {
   "cell_type": "code",
   "execution_count": 170,
   "id": "b28b9f15-3275-43f1-933a-e7db51b03189",
   "metadata": {},
   "outputs": [
    {
     "name": "stdin",
     "output_type": "stream",
     "text": [
      "Enter your age:  18\n"
     ]
    },
    {
     "name": "stdout",
     "output_type": "stream",
     "text": [
      "Are you an adult? : True\n"
     ]
    }
   ],
   "source": [
    "#Boolean input\n",
    "age = int(input(\"Enter your age: \"))\n",
    "adult = age >= 18\n",
    "print(\"Are you an adult? :\", adult)\n"
   ]
  },
  {
   "cell_type": "code",
   "execution_count": 171,
   "id": "b6793918-16a4-471a-ad37-5906c04c27ae",
   "metadata": {},
   "outputs": [
    {
     "name": "stdout",
     "output_type": "stream",
     "text": [
      "15.5\n",
      "<class 'float'>\n"
     ]
    }
   ],
   "source": [
    "# Type casting and conversion\n",
    "# Implicit Type Casting\n",
    "\n",
    "a = 7     # int\n",
    "b = 8.5   # float\n",
    "\n",
    "result = a + b  \n",
    "\n",
    "print(result)      \n",
    "print(type(result))  # Output: <class 'float'>\n"
   ]
  },
  {
   "cell_type": "code",
   "execution_count": 172,
   "id": "1a3c4034-efe6-4f10-93d5-a7db8139f9d6",
   "metadata": {},
   "outputs": [
    {
     "name": "stdout",
     "output_type": "stream",
     "text": [
      "5\n",
      "<class 'int'>\n"
     ]
    }
   ],
   "source": [
    "# Explicit Type \n",
    "# Coverting float to int\n",
    "\n",
    "x = 5.9\n",
    "y = int(x)  # Removes the decimal part\n",
    "\n",
    "print(y)         \n",
    "print(type(y))   "
   ]
  },
  {
   "cell_type": "code",
   "execution_count": 173,
   "id": "35ee62b3-164e-40f7-a465-9ce7de7814f6",
   "metadata": {},
   "outputs": [
    {
     "name": "stdout",
     "output_type": "stream",
     "text": [
      "120\n",
      "<class 'int'>\n"
     ]
    }
   ],
   "source": [
    "# Converting String to integer\n",
    "s = \"100\"\n",
    "num = int(s)\n",
    "\n",
    "print(num + 20) \n",
    "print(type(num))  "
   ]
  },
  {
   "cell_type": "code",
   "execution_count": 174,
   "id": "7ffdbf75-5397-43c6-b6e2-01a31c0a7b4b",
   "metadata": {},
   "outputs": [
    {
     "name": "stdout",
     "output_type": "stream",
     "text": [
      "Your age is 18\n",
      "<class 'str'>\n"
     ]
    }
   ],
   "source": [
    "# Converting number to string\n",
    "age = 18\n",
    "text = \"Your age is \" + str(age)\n",
    "print(text)       \n",
    "print(type(text))  "
   ]
  },
  {
   "cell_type": "code",
   "execution_count": 175,
   "id": "d27dfbe1-03dc-4f4f-8fe2-7d2c3901b938",
   "metadata": {},
   "outputs": [
    {
     "name": "stdout",
     "output_type": "stream",
     "text": [
      "a = 10\n",
      "b = 5\n",
      "a + b = 15\n",
      "a - b = 5\n",
      "a * b = 50\n",
      "a / b = 2.0\n",
      "a // b = 2\n",
      "a % b = 0\n",
      "a ** b = 100000\n"
     ]
    }
   ],
   "source": [
    "# Operators\n",
    "# Arithmetic Operators \n",
    "\n",
    "a = 10\n",
    "b = 5\n",
    "\n",
    "print(\"a =\", a)\n",
    "print(\"b =\", b)\n",
    "\n",
    "# Addition\n",
    "print(\"a + b =\", a + b)           \n",
    "\n",
    "# Subtraction\n",
    "print(\"a - b =\", a - b)           \n",
    "\n",
    "# Multiplication\n",
    "print(\"a * b =\", a * b)           \n",
    "\n",
    "# Division (float)\n",
    "print(\"a / b =\", a / b)           \n",
    "\n",
    "# Floor Division\n",
    "print(\"a // b =\", a // b)        \n",
    "\n",
    "# Modulus (remainder)\n",
    "print(\"a % b =\", a % b)           \n",
    "\n",
    "# Exponent (Power)\n",
    "print(\"a ** b =\", a ** b)         \n"
   ]
  },
  {
   "cell_type": "code",
   "execution_count": 176,
   "id": "3f6a06ba-e13c-4730-9121-80f6c70d46c5",
   "metadata": {},
   "outputs": [
    {
     "name": "stdout",
     "output_type": "stream",
     "text": [
      "a =  10\n",
      "b =  3\n",
      "a == b : False\n",
      "a != b : True\n",
      "a > b  : True\n",
      "a < b  : False\n",
      "a >= b : True\n",
      "a <= b : False\n"
     ]
    }
   ],
   "source": [
    "# Comparison Operators\n",
    "\n",
    "a = 10\n",
    "b = 3\n",
    "\n",
    "print(\"a = \", a)\n",
    "print(\"b = \", b)\n",
    "\n",
    "print(\"a == b :\", a == b)     # False\n",
    "print(\"a != b :\", a != b)     # True\n",
    "print(\"a > b  :\", a > b)      # True\n",
    "print(\"a < b  :\", a < b)      # False\n",
    "print(\"a >= b :\", a >= b)     # True\n",
    "print(\"a <= b :\", a <= b)     # False\n"
   ]
  },
  {
   "cell_type": "code",
   "execution_count": 177,
   "id": "2a07112a-68bb-403b-bd2c-64be22de6e73",
   "metadata": {},
   "outputs": [
    {
     "name": "stdin",
     "output_type": "stream",
     "text": [
      "Enter value for a:  5\n",
      "Enter value for b:  6\n"
     ]
    },
    {
     "name": "stdout",
     "output_type": "stream",
     "text": [
      "\n",
      "--- Comparison Results ---\n",
      "\n",
      "a == b : False\n",
      "a != b : True\n",
      "a > b  : False\n",
      "a < b  : True\n",
      "a >= b : False\n",
      "a <= b : True\n"
     ]
    }
   ],
   "source": [
    "# Comparison Operators \n",
    "\n",
    "a = int(input(\"Enter value for a: \"))\n",
    "b = int(input(\"Enter value for b: \"))\n",
    "\n",
    "print(\"\\n--- Comparison Results ---\\n\")\n",
    "print(\"a == b :\", a == b)\n",
    "print(\"a != b :\", a != b)\n",
    "print(\"a > b  :\", a > b)\n",
    "print(\"a < b  :\", a < b)\n",
    "print(\"a >= b :\", a >= b)\n",
    "print(\"a <= b :\", a <= b)\n"
   ]
  },
  {
   "cell_type": "code",
   "execution_count": 179,
   "id": "26111a48-b90f-4732-b95c-6eb0630202fa",
   "metadata": {},
   "outputs": [
    {
     "name": "stdin",
     "output_type": "stream",
     "text": [
      "Enter value for a:  6\n",
      "Enter value for b:  7\n"
     ]
    },
    {
     "name": "stdout",
     "output_type": "stream",
     "text": [
      "\n",
      "--- Logical Results ---\n",
      "\n",
      "a > 5 and b < 5  : False\n",
      "a < 5 or b > 5   : True\n",
      "not(a == b)      : True\n"
     ]
    }
   ],
   "source": [
    "# Logical Operators \n",
    "\n",
    "a = int(input(\"Enter value for a: \"))\n",
    "b = int(input(\"Enter value for b: \"))\n",
    "\n",
    "print(\"\\n--- Logical Results ---\\n\")\n",
    "print(\"a > 5 and b < 5  :\", a > 5 and b < 5)\n",
    "print(\"a < 5 or b > 5   :\", a < 5 or b > 5)\n",
    "print(\"not(a == b)      :\", not(a == b))\n"
   ]
  },
  {
   "cell_type": "markdown",
   "id": "beba129f-074b-46dd-a3d3-0d1fb1c3999e",
   "metadata": {},
   "source": [
    "# 2. Control Flow"
   ]
  },
  {
   "cell_type": "code",
   "execution_count": 180,
   "id": "cffceb04-523c-4a55-8021-a93d470a2c32",
   "metadata": {},
   "outputs": [
    {
     "name": "stdin",
     "output_type": "stream",
     "text": [
      "Enter your marks:  67\n"
     ]
    },
    {
     "name": "stdout",
     "output_type": "stream",
     "text": [
      "Grade: C\n"
     ]
    }
   ],
   "source": [
    "# if-elif-else \n",
    "\n",
    "marks = int(input(\"Enter your marks: \"))\n",
    "\n",
    "if marks >= 90:\n",
    "    print(\"Grade: A\")\n",
    "elif marks >= 75:\n",
    "    print(\"Grade: B\")\n",
    "elif marks >= 60:\n",
    "    print(\"Grade: C\")\n",
    "else:\n",
    "    print(\"Grade: F\")\n"
   ]
  },
  {
   "cell_type": "code",
   "execution_count": 181,
   "id": "56323682-1e6e-4a86-b694-cc94eb783a9e",
   "metadata": {},
   "outputs": [
    {
     "name": "stdin",
     "output_type": "stream",
     "text": [
      "Enter your age:  18\n",
      "Are you a citizen? (yes/no):  yes\n"
     ]
    },
    {
     "name": "stdout",
     "output_type": "stream",
     "text": [
      "You are eligible to vote.\n"
     ]
    }
   ],
   "source": [
    "# Nested condition \n",
    "age = int(input(\"Enter your age: \"))\n",
    "\n",
    "if age >= 18:\n",
    "    citizen = input(\"Are you a citizen? (yes/no): \")\n",
    "    if citizen.lower() == \"yes\":\n",
    "        print(\"You are eligible to vote.\")\n",
    "    else:\n",
    "        print(\"You must be a citizen to vote.\")\n",
    "else:\n",
    "    print(\"You are too young to vote.\")\n"
   ]
  },
  {
   "cell_type": "code",
   "execution_count": 182,
   "id": "0b5169f8-62c1-4303-9e8a-247cd4e4a3fe",
   "metadata": {},
   "outputs": [
    {
     "name": "stdin",
     "output_type": "stream",
     "text": [
      "Enter value for a:  6\n",
      "Enter value for b:  7\n",
      "Enter value for c:  8\n"
     ]
    },
    {
     "name": "stdout",
     "output_type": "stream",
     "text": [
      "No conditions matched.\n"
     ]
    }
   ],
   "source": [
    "a = int(input(\"Enter value for a: \"))\n",
    "b = int(input(\"Enter value for b: \"))\n",
    "c = int(input(\"Enter value for c: \"))\n",
    "\n",
    "printed = False\n",
    "\n",
    "# Condition 1\n",
    "if a > b and b > c:\n",
    "    print(\"Condition 1: a is greater than b AND b is greater than c\")\n",
    "    printed = True  \n",
    "\n",
    "# Condition 2\n",
    "if a == 10 or c == 1:\n",
    "    print(\"Condition 2: a equals 10 OR c equals 1\")\n",
    "    printed = True\n",
    "\n",
    "# Condition 3\n",
    "if not (b > a):\n",
    "    print(\"Condition 3: b is NOT greater than a\")\n",
    "    printed = True\n",
    "\n",
    "# Condition 4\n",
    "if (a > b and b > c) or not (c > 0):\n",
    "    print(\"Condition 4: (a > b AND b > c) OR NOT (c > 0)\")\n",
    "    printed = True\n",
    "\n",
    "# If none of the above conditions are true\n",
    "if not printed:\n",
    "    print(\"No conditions matched.\")\n"
   ]
  },
  {
   "cell_type": "markdown",
   "id": "0a27121d-899a-4cf3-9655-0910d4c663dd",
   "metadata": {},
   "source": [
    "# 3.Loops\n"
   ]
  },
  {
   "cell_type": "code",
   "execution_count": 183,
   "id": "0867e8a2-6c97-4550-acc7-6f3cb0d87459",
   "metadata": {},
   "outputs": [
    {
     "name": "stdout",
     "output_type": "stream",
     "text": [
      "apple\n",
      "banana\n",
      "cherry\n"
     ]
    }
   ],
   "source": [
    "# For loop \n",
    "fruits = [\"apple\", \"banana\", \"cherry\"]\n",
    "\n",
    "for fruit in fruits:\n",
    "    print(fruit)\n"
   ]
  },
  {
   "cell_type": "code",
   "execution_count": 184,
   "id": "d29358b0-4a21-416d-b8b6-c662fdc8798e",
   "metadata": {},
   "outputs": [
    {
     "name": "stdout",
     "output_type": "stream",
     "text": [
      "Count: 0\n",
      "Count: 1\n",
      "Count: 2\n",
      "Count: 3\n",
      "Count: 4\n"
     ]
    }
   ],
   "source": [
    "# While loop \n",
    "count = 0\n",
    "\n",
    "while count < 5:\n",
    "    print(\"Count:\", count)\n",
    "    count += 1  # Increment by 1\n"
   ]
  },
  {
   "cell_type": "code",
   "execution_count": 185,
   "id": "1d7e5534-9228-4f68-bb56-2fc3802941db",
   "metadata": {},
   "outputs": [
    {
     "name": "stdout",
     "output_type": "stream",
     "text": [
      "Break example: 0\n",
      "Break example: 1\n",
      "Break example: 2\n",
      "Continue example: 0\n",
      "Continue example: 1\n",
      "Continue example: 2\n",
      "Continue example: 4\n",
      "Pass example finished\n"
     ]
    }
   ],
   "source": [
    "# break, continue and pass\n",
    "\n",
    "for i in range(5):\n",
    "    if i == 3:\n",
    "        break          # Exit the loop when i is 3\n",
    "    print(\"Break example:\", i)\n",
    "\n",
    "for i in range(5):\n",
    "    if i == 3:\n",
    "        continue       # Skips printing when i is 3\n",
    "    print(\"Continue example:\", i)\n",
    "\n",
    "for i in range(3):\n",
    "    pass              # Does nothing, placeholder\n",
    "print(\"Pass example finished\")\n"
   ]
  },
  {
   "cell_type": "code",
   "execution_count": 186,
   "id": "e181b575-cb88-492c-89df-313079fd268f",
   "metadata": {},
   "outputs": [
    {
     "name": "stdout",
     "output_type": "stream",
     "text": [
      "0\n",
      "1\n",
      "2\n",
      "3\n",
      "4\n"
     ]
    }
   ],
   "source": [
    "# Looping with range()\n",
    "for i in range(5):\n",
    "    print(i)\n"
   ]
  },
  {
   "cell_type": "code",
   "execution_count": 187,
   "id": "c68fd4dc-c100-4803-9433-b4d4ef5c6e4c",
   "metadata": {},
   "outputs": [
    {
     "name": "stdout",
     "output_type": "stream",
     "text": [
      "Index 0: apple\n",
      "Index 1: banana\n",
      "Index 2: cherry\n"
     ]
    }
   ],
   "source": [
    "# Looping with enumerate()\n",
    "\n",
    "fruits = [\"apple\", \"banana\", \"cherry\"]\n",
    "\n",
    "for index, fruit in enumerate(fruits):\n",
    "    print(f\"Index {index}: {fruit}\")\n"
   ]
  },
  {
   "cell_type": "code",
   "execution_count": 188,
   "id": "99edd256-c880-467e-96a5-887b2c71abb2",
   "metadata": {},
   "outputs": [
    {
     "name": "stdout",
     "output_type": "stream",
     "text": [
      "Aaditi is 21 years old.\n",
      "Rose is 20 years old.\n",
      "Natasha is 19 years old.\n"
     ]
    }
   ],
   "source": [
    "# Looping with zip()\n",
    "\n",
    "names = [\"Aaditi\", \"Rose\", \"Natasha\"]\n",
    "ages = [21, 20, 19]\n",
    "\n",
    "for name, age in zip(names, ages):\n",
    "    print(f\"{name} is {age} years old.\")\n"
   ]
  },
  {
   "cell_type": "markdown",
   "id": "b68c3b08-38ee-41b9-942e-0f5a9252d08e",
   "metadata": {},
   "source": [
    "# 4.Data Structure\n"
   ]
  },
  {
   "cell_type": "code",
   "execution_count": 189,
   "id": "e46ed5f3-2762-4e97-8b92-1407857175f3",
   "metadata": {},
   "outputs": [
    {
     "name": "stdout",
     "output_type": "stream",
     "text": [
      "Original list: ['apple', 'banana', 'mango']\n",
      "First fruit: apple\n",
      "First two fruits: ['apple', 'banana']\n",
      "Updated list: ['apple', 'orange', 'mango']\n",
      "After appending: ['apple', 'orange', 'mango', 'grapes']\n",
      "After removing apple: ['orange', 'mango', 'grapes']\n"
     ]
    }
   ],
   "source": [
    "# Lists\n",
    "fruits = [\"apple\", \"banana\", \"mango\"]\n",
    "print(\"Original list:\", fruits)\n",
    "\n",
    "# Indexing\n",
    "print(\"First fruit:\", fruits[0])\n",
    "\n",
    "# Slicing\n",
    "print(\"First two fruits:\", fruits[:2])\n",
    "\n",
    "# Updating\n",
    "fruits[1] = \"orange\"\n",
    "print(\"Updated list:\", fruits)\n",
    "\n",
    "# Adding\n",
    "fruits.append(\"grapes\")\n",
    "print(\"After appending:\", fruits)\n",
    "\n",
    "# Removing\n",
    "fruits.remove(\"apple\")\n",
    "print(\"After removing apple:\", fruits)\n"
   ]
  },
  {
   "cell_type": "code",
   "execution_count": 190,
   "id": "580be9d9-973c-467f-a78d-5ff4bad3e242",
   "metadata": {},
   "outputs": [
    {
     "name": "stdout",
     "output_type": "stream",
     "text": [
      "20\n",
      "(10, 20)\n"
     ]
    }
   ],
   "source": [
    "# Tuples\n",
    "dimensions = (10, 20, 30)\n",
    "\n",
    "# Indexing\n",
    "print(dimensions[1])  \n",
    "\n",
    "# Slicing\n",
    "print(dimensions[:2]) \n",
    "\n",
    "# Tuples are immutable\n"
   ]
  },
  {
   "cell_type": "code",
   "execution_count": 191,
   "id": "2d77230a-7ecb-40fb-b98c-f041d47ffc20",
   "metadata": {},
   "outputs": [
    {
     "name": "stdout",
     "output_type": "stream",
     "text": [
      "Nikil\n",
      "{'name': 'Nikil', 'age': 25, 'email': 'nikil7@example.com'}\n"
     ]
    }
   ],
   "source": [
    "# Dictionary\n",
    "person = {\n",
    "    \"name\": \"Nikil\",\n",
    "    \"age\": 20,\n",
    "    \"city\": \"Bhaktapur\"\n",
    "}\n",
    "\n",
    "# Accessing\n",
    "print(person[\"name\"])  \n",
    "\n",
    "# Updating\n",
    "person[\"age\"] = 25\n",
    "\n",
    "# Adding\n",
    "person[\"email\"] = \"nikil7@example.com\"\n",
    "\n",
    "# Deleting\n",
    "del person[\"city\"]\n",
    "\n",
    "print(person)  \n"
   ]
  },
  {
   "cell_type": "code",
   "execution_count": 192,
   "id": "c5eff75b-87fe-4375-9d1b-5c484f43567a",
   "metadata": {},
   "outputs": [
    {
     "name": "stdout",
     "output_type": "stream",
     "text": [
      "{1, 2, 3, 4}\n",
      "{1, 2, 4, 5}\n"
     ]
    }
   ],
   "source": [
    "# Sets\n",
    "numbers = {1, 2, 3, 2, 4}\n",
    "print(numbers)  \n",
    "\n",
    "# Adding\n",
    "numbers.add(5)\n",
    "\n",
    "# Removing\n",
    "numbers.remove(3)\n",
    "\n",
    "print(numbers)  \n"
   ]
  },
  {
   "cell_type": "code",
   "execution_count": 193,
   "id": "bef69a6b-1f96-4541-8ea2-e3c2ac329e2d",
   "metadata": {},
   "outputs": [
    {
     "name": "stdin",
     "output_type": "stream",
     "text": [
      "Enter a number:  5\n"
     ]
    },
    {
     "name": "stdout",
     "output_type": "stream",
     "text": [
      "Squares: [25]\n"
     ]
    }
   ],
   "source": [
    "#Comprehensions (list, dict, set)\n",
    "# List Comprehension\n",
    "nums = input(\"Enter a number: \").split()\n",
    "num_list = [int(n) for n in nums]\n",
    "squares = [x**2 for x in num_list]\n",
    "print(\"Squares:\", squares)"
   ]
  },
  {
   "cell_type": "code",
   "execution_count": 194,
   "id": "aa71361d-d5d6-4c9f-b81a-45475af79a1e",
   "metadata": {},
   "outputs": [
    {
     "name": "stdin",
     "output_type": "stream",
     "text": [
      "Enter words for set comprehension:  man\n"
     ]
    },
    {
     "name": "stdout",
     "output_type": "stream",
     "text": [
      "First letter : {'m'}\n"
     ]
    }
   ],
   "source": [
    "# Set Comprehension\n",
    "\n",
    "words = input(\"Enter words for set comprehension: \").split()\n",
    "first_letters = {word[0] for word in words}\n",
    "print(\"First letter :\", first_letters)\n",
    "\n"
   ]
  },
  {
   "cell_type": "code",
   "execution_count": 195,
   "id": "77316db6-e23e-40e2-aba2-473cd7bd5ad5",
   "metadata": {},
   "outputs": [
    {
     "name": "stdin",
     "output_type": "stream",
     "text": [
      "Enter numbers with spacing:  2 3 4 \n"
     ]
    },
    {
     "name": "stdout",
     "output_type": "stream",
     "text": [
      "Number-Square dictionary: {2: 4, 3: 9, 4: 16}\n"
     ]
    }
   ],
   "source": [
    "# Dictionary Comprehension\n",
    "numbers = input(\"Enter numbers with spacing: \").split()\n",
    "numbers = [int(num) for num in numbers]\n",
    "\n",
    "squares_dict = {num: num ** 2 for num in numbers}\n",
    "print(\"Number-Square dictionary:\", squares_dict)\n"
   ]
  },
  {
   "cell_type": "markdown",
   "id": "f8c901b9-0d9d-4227-b5ef-e66f727c555d",
   "metadata": {},
   "source": [
    "# 5.Functions"
   ]
  },
  {
   "cell_type": "code",
   "execution_count": 196,
   "id": "8c8d4f7d-a16c-42a1-9f3b-e7b49a4a9f6d",
   "metadata": {},
   "outputs": [
    {
     "name": "stdout",
     "output_type": "stream",
     "text": [
      "Hello! Welcome to Shrestha Niwas.\n"
     ]
    }
   ],
   "source": [
    "# defining a funtion\n",
    "\n",
    "def greeting():\n",
    "    print(\"Hello! Welcome to Shrestha Niwas.\")\n",
    "\n",
    "greeting() # calling a funtion\n"
   ]
  },
  {
   "cell_type": "code",
   "execution_count": 197,
   "id": "872a0855-0e25-40b5-b354-6528dd74f8c6",
   "metadata": {},
   "outputs": [
    {
     "name": "stdin",
     "output_type": "stream",
     "text": [
      "Enter first number:  4\n",
      "Enter second number:  5\n"
     ]
    },
    {
     "name": "stdout",
     "output_type": "stream",
     "text": [
      "Sum: 9\n"
     ]
    }
   ],
   "source": [
    "# Arguments and return values\n",
    "\n",
    "def add(a, b):\n",
    "    return a + b\n",
    "\n",
    "x = int(input(\"Enter first number: \"))\n",
    "y = int(input(\"Enter second number: \"))\n",
    "print(\"Sum:\", add(x, y))\n"
   ]
  },
  {
   "cell_type": "code",
   "execution_count": 198,
   "id": "2dd07551-5bdd-498b-bbb5-9dd88fa1d822",
   "metadata": {},
   "outputs": [
    {
     "name": "stdout",
     "output_type": "stream",
     "text": [
      "Hello, Guest!\n",
      "Hello, Sanas!\n",
      "Hello, Shrestha!\n"
     ]
    }
   ],
   "source": [
    "# Default and Keyword arguments\n",
    "\n",
    "def guest(name=\"Guest\"):\n",
    "    print(f\"Hello, {name}!\")\n",
    "\n",
    "guest()                # Uses default\n",
    "guest(\"Sanas\")         # Positional argument\n",
    "guest(name=\"Shrestha\") # Keyword argument"
   ]
  },
  {
   "cell_type": "code",
   "execution_count": 199,
   "id": "cbfbbed2-c57a-4c54-bcdb-3c440eb36d86",
   "metadata": {},
   "outputs": [
    {
     "name": "stdout",
     "output_type": "stream",
     "text": [
      "Positional arguments: (1, 2, 3)\n",
      "Keyword arguments: {'name': 'Sanas', 'age': 21}\n"
     ]
    }
   ],
   "source": [
    "# *args and *kwargs\n",
    "def show_args(*args):\n",
    "    print(\"Positional arguments:\", args)\n",
    "\n",
    "def show_kwargs(**kwargs):\n",
    "    print(\"Keyword arguments:\", kwargs)\n",
    "\n",
    "show_args(1, 2, 3)\n",
    "show_kwargs(name=\"Sanas\", age=21)\n",
    "\n"
   ]
  },
  {
   "cell_type": "code",
   "execution_count": 200,
   "id": "39e59236-3e8e-49da-a6f0-25b781f35ed6",
   "metadata": {},
   "outputs": [
    {
     "name": "stdout",
     "output_type": "stream",
     "text": [
      "Squares: [1, 4, 9, 16]\n"
     ]
    }
   ],
   "source": [
    "# Lambda with map()\n",
    "\n",
    "numbers = [1, 2, 3, 4]\n",
    "squares = list(map(lambda x: x ** 2, numbers))\n",
    "print(\"Squares:\", squares)"
   ]
  },
  {
   "cell_type": "code",
   "execution_count": 201,
   "id": "25c7a8cd-608f-49a3-a63e-3b4eb1fd692a",
   "metadata": {},
   "outputs": [
    {
     "name": "stdout",
     "output_type": "stream",
     "text": [
      "Even numbers: [6, 8]\n"
     ]
    }
   ],
   "source": [
    "# Lambda with filter()\n",
    "\n",
    "numbers = [5, 6, 7, 8, 9]\n",
    "evens = list(filter(lambda x: x % 2 == 0, numbers))\n",
    "print(\"Even numbers:\", evens)"
   ]
  },
  {
   "cell_type": "code",
   "execution_count": 202,
   "id": "8c92e1b1-adb3-4d9c-9620-784bfce2ae78",
   "metadata": {},
   "outputs": [
    {
     "name": "stdout",
     "output_type": "stream",
     "text": [
      "Sorted by age: [('Gita', 18), ('Sita', 20), ('Rita', 22)]\n"
     ]
    }
   ],
   "source": [
    "# lambda with Sorting\n",
    "\n",
    "students = [(\"Sita\", 20), (\"Gita\", 18), (\"Rita\", 22)]\n",
    "sorted_students = sorted(students, key=lambda x: x[1])\n",
    "print(\"Sorted by age:\", sorted_students)"
   ]
  },
  {
   "cell_type": "code",
   "execution_count": 203,
   "id": "76784eb4-0272-4d5a-bf5f-9e7032a6291e",
   "metadata": {},
   "outputs": [
    {
     "name": "stdout",
     "output_type": "stream",
     "text": [
      "Sum: 8\n"
     ]
    }
   ],
   "source": [
    "# Lambda for short functions\n",
    "add = lambda a, b: a + b\n",
    "print(\"Sum:\", add(5, 3))"
   ]
  },
  {
   "cell_type": "code",
   "execution_count": 204,
   "id": "e6925453-ebb6-4071-a14e-2ad8a9998b07",
   "metadata": {},
   "outputs": [
    {
     "name": "stdout",
     "output_type": "stream",
     "text": [
      "Inside function (local counter): 1\n",
      "Outside function (global counter): 0\n"
     ]
    }
   ],
   "source": [
    "# Scope and global keywords\n",
    "counter = 0  \n",
    "\n",
    "def increment():\n",
    "    counter = 1  # This creates a local variable, doesn't change the global one\n",
    "    print(\"Inside function (local counter):\", counter)\n",
    "\n",
    "increment()\n",
    "print(\"Outside function (global counter):\", counter)\n"
   ]
  },
  {
   "cell_type": "code",
   "execution_count": 205,
   "id": "8113033a-006c-4f6b-acc6-74d5ed830fda",
   "metadata": {},
   "outputs": [
    {
     "name": "stdout",
     "output_type": "stream",
     "text": [
      "Inside function (global counter): 1\n",
      "Outside function (global counter): 1\n"
     ]
    }
   ],
   "source": [
    "counter = 0  \n",
    "\n",
    "def increment():\n",
    "    global counter  # Declares that we want to use the global variable\n",
    "    counter += 1\n",
    "    print(\"Inside function (global counter):\", counter)\n",
    "\n",
    "increment()\n",
    "print(\"Outside function (global counter):\", counter)"
   ]
  },
  {
   "cell_type": "markdown",
   "id": "06b0f9d0-0b66-462e-99a9-a4f8fcc7250f",
   "metadata": {},
   "source": [
    "# 6.Basic String and File Operations"
   ]
  },
  {
   "cell_type": "code",
   "execution_count": 206,
   "id": "6c9936d1-6f21-4726-9f19-622d0c1a84c2",
   "metadata": {},
   "outputs": [
    {
     "name": "stdout",
     "output_type": "stream",
     "text": [
      "Hello, Sambridhi!\n",
      "hello, sambridhi!\n",
      "HELLO, SAMBRIDHI!\n",
      "Hello, Sambridhi!\n",
      "['Hello', ' Sambridhi!']\n"
     ]
    }
   ],
   "source": [
    "#  String methods and formatting\n",
    "\n",
    "text = \"Hello, Sambridhi!\"\n",
    "\n",
    "print(text.strip())      # Removes leading/trailing whitespace\n",
    "print(text.lower())      # Converts to lowercase\n",
    "print(text.upper())      # Converts to uppercase\n",
    "print(text.replace(\"Python\", \"World\"))  # Replace substring\n",
    "print(text.split(\",\"))   # Split string by comma\n"
   ]
  },
  {
   "cell_type": "code",
   "execution_count": 207,
   "id": "52b0e0e7-b3d1-47e6-9e7f-edd1916f4162",
   "metadata": {},
   "outputs": [
    {
     "name": "stdout",
     "output_type": "stream",
     "text": [
      "My name is Sana and I am 22 years old.\n"
     ]
    }
   ],
   "source": [
    "# .format()\n",
    "name = \"Sana\"\n",
    "age = 22\n",
    "print(\"My name is {} and I am {} years old.\".format(name, age))"
   ]
  },
  {
   "cell_type": "code",
   "execution_count": 208,
   "id": "3b535d8e-5b12-4757-b9dd-d47a3f7c152f",
   "metadata": {},
   "outputs": [
    {
     "name": "stdout",
     "output_type": "stream",
     "text": [
      "My name is Sana and I am 22 years old.\n"
     ]
    }
   ],
   "source": [
    "# f-string()\n",
    "name = \"Sana\"\n",
    "age = 22\n",
    "print(f\"My name is {name} and I am {age} years old.\")"
   ]
  },
  {
   "cell_type": "code",
   "execution_count": 132,
   "id": "c8c0b4f0-fabc-4bf9-baf7-7232de635f67",
   "metadata": {},
   "outputs": [],
   "source": [
    "# Reading/writing files (open(), with statement, read/write modes)"
   ]
  },
  {
   "cell_type": "code",
   "execution_count": 209,
   "id": "e0bb1d78-c650-4d82-bf4f-31f0ed66241a",
   "metadata": {},
   "outputs": [],
   "source": [
    "# Writing to file\n",
    "with open(\"Sambridhi.txt\", \"w\") as file:\n",
    "    file.write(\"Hello Sambridhi!\\n\")\n",
    "    file.write(\"This file was written using Python.\")"
   ]
  },
  {
   "cell_type": "code",
   "execution_count": 210,
   "id": "0c5ab3fa-fbab-45a8-8578-70843d1bcd40",
   "metadata": {},
   "outputs": [
    {
     "name": "stdout",
     "output_type": "stream",
     "text": [
      "Hello Sambridhi!\n",
      "This file was written using Python.\n"
     ]
    }
   ],
   "source": [
    "# Reading to file\n",
    "with open(\"Sambridhi.txt\", \"r\") as file:\n",
    "    content = file.read()\n",
    "    print(content)  \n"
   ]
  },
  {
   "cell_type": "code",
   "execution_count": 211,
   "id": "939ec0a5-24dd-4dc9-8992-9cc4f22b4b8a",
   "metadata": {},
   "outputs": [],
   "source": [
    "# Appending to file\n",
    "with open(\"sambridhi.txt\", \"a\") as file:\n",
    "    file.write(\"\\nThis line was appended.\\n\")\n"
   ]
  },
  {
   "cell_type": "code",
   "execution_count": 212,
   "id": "d425e8f1-f816-499e-897c-55af5bf4f4ac",
   "metadata": {},
   "outputs": [
    {
     "name": "stdout",
     "output_type": "stream",
     "text": [
      "Before: Hello Sambridhi!\n",
      "This file was written using Python.\n",
      "This line was appended.\n",
      "\n"
     ]
    }
   ],
   "source": [
    "with open(\"sambridhi.txt\", \"r+\") as file:\n",
    "    print(\"Before:\", file.read())\n"
   ]
  },
  {
   "cell_type": "code",
   "execution_count": 213,
   "id": "447ed5e0-4f4b-47d5-9855-b66c46e29c14",
   "metadata": {},
   "outputs": [],
   "source": [
    "def eligible(n):\n",
    "    if n > 18:\n",
    "        return \"Eligible\"\n",
    "    else:\n",
    "        return \"Not eligible\""
   ]
  },
  {
   "cell_type": "code",
   "execution_count": null,
   "id": "d201de1b-7164-4d6b-b4a3-2d5867a3dc7d",
   "metadata": {},
   "outputs": [],
   "source": []
  }
 ],
 "metadata": {
  "kernelspec": {
   "display_name": "Python 3 (ipykernel)",
   "language": "python",
   "name": "python3"
  },
  "language_info": {
   "codemirror_mode": {
    "name": "ipython",
    "version": 3
   },
   "file_extension": ".py",
   "mimetype": "text/x-python",
   "name": "python",
   "nbconvert_exporter": "python",
   "pygments_lexer": "ipython3",
   "version": "3.12.8"
  }
 },
 "nbformat": 4,
 "nbformat_minor": 5
}
