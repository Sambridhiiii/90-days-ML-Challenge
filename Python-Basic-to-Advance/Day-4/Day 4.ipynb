{
 "cells": [
  {
   "cell_type": "markdown",
   "id": "6aefc9d2-7d95-4b92-b840-33e1bcb6ac8e",
   "metadata": {},
   "source": [
    "# 15. Type Hints & Annotations"
   ]
  },
  {
   "cell_type": "markdown",
   "id": "d7738897-c88f-4745-8c19-313451c7c452",
   "metadata": {},
   "source": [
    "##### Type hints are a way to annotate Python code with expected types for variables, function arguments, and return values."
   ]
  },
  {
   "cell_type": "code",
   "execution_count": 59,
   "id": "dc9c0ac9-ec4f-4644-9384-de45f7635459",
   "metadata": {},
   "outputs": [],
   "source": [
    "## Function annotation\n",
    "def greet(name: str) -> str:\n",
    "    return \"Hello, \" + name"
   ]
  },
  {
   "cell_type": "markdown",
   "id": "1d513517-b6c4-4012-a87f-773ef87c285c",
   "metadata": {},
   "source": [
    "#### name: str → The function expects the parameter name to be a string."
   ]
  },
  {
   "cell_type": "code",
   "execution_count": 58,
   "id": "3833fd5e-31da-45a7-becf-4dfd3b0bfa75",
   "metadata": {},
   "outputs": [],
   "source": [
    "## Variable Annotation\n",
    "age: int = 25\n",
    "pi: float = 3.14\n",
    "active: bool = True"
   ]
  },
  {
   "cell_type": "markdown",
   "id": "b4ba9fec-4c67-40ec-bac8-3042c6350e93",
   "metadata": {},
   "source": [
    "#### age: int → This tells that the variable age should store an integer."
   ]
  },
  {
   "cell_type": "code",
   "execution_count": 3,
   "id": "d51f1123-ca6f-4174-b8dd-48bef158285b",
   "metadata": {},
   "outputs": [],
   "source": [
    "# Class Annotation (with or without dataclass)\n",
    "class Student:\n",
    "    name: str\n",
    "    age: int\n",
    "\n",
    "    def __init__(self, name: str, age: int) -> None:\n",
    "        self.name = name\n",
    "        self.age = age"
   ]
  },
  {
   "cell_type": "markdown",
   "id": "b00cd38b-fd0c-4fca-93ad-9315bcf3d21e",
   "metadata": {},
   "source": [
    "#### name: str, age: int → These attributes are expected to be a string and an integer, respectively."
   ]
  },
  {
   "cell_type": "code",
   "execution_count": 4,
   "id": "ae81bcd4-04b7-44f3-8a01-cfafef519e9d",
   "metadata": {},
   "outputs": [],
   "source": [
    "## Combined with typing modules\n",
    "from typing import List, Optional\n",
    "\n",
    "\n",
    "def average(scores: List[int]) -> float:\n",
    "    return sum(scores) / len(scores)\n",
    "\n",
    "\n",
    "def get_user_email(user_id: int) -> Optional[str]:\n",
    "    if user_id == 1:\n",
    "        return \"alice@example.com\"\n",
    "    return None"
   ]
  },
  {
   "cell_type": "markdown",
   "id": "aca6e03b-5843-4b0d-8781-694e5380e374",
   "metadata": {},
   "source": [
    "#### List[int] → A list containing integers. Optional[str] → The variable can be a string or None."
   ]
  },
  {
   "cell_type": "markdown",
   "id": "7a323e18-499a-4956-931e-9edaaadcd2ec",
   "metadata": {},
   "source": [
    "## Static type checking with mypy\n"
   ]
  },
  {
   "cell_type": "code",
   "execution_count": 14,
   "id": "11bfc2e7-704d-4dc3-b36a-910ba5807383",
   "metadata": {},
   "outputs": [
    {
     "name": "stdout",
     "output_type": "stream",
     "text": [
      "Collecting mypy\n",
      "  Downloading mypy-1.17.1-cp312-cp312-win_amd64.whl.metadata (2.2 kB)\n",
      "Requirement already satisfied: typing_extensions>=4.6.0 in c:\\users\\sambridhi shrestha\\appdata\\local\\programs\\python\\python312\\lib\\site-packages (from mypy) (4.14.1)\n",
      "Collecting mypy_extensions>=1.0.0 (from mypy)\n",
      "  Downloading mypy_extensions-1.1.0-py3-none-any.whl.metadata (1.1 kB)\n",
      "Collecting pathspec>=0.9.0 (from mypy)\n",
      "  Downloading pathspec-0.12.1-py3-none-any.whl.metadata (21 kB)\n",
      "Downloading mypy-1.17.1-cp312-cp312-win_amd64.whl (9.6 MB)\n",
      "   ---------------------------------------- 0.0/9.6 MB ? eta -:--:--\n",
      "   ---------------- ----------------------- 3.9/9.6 MB 29.4 MB/s eta 0:00:01\n",
      "   ----------------------------------- ---- 8.4/9.6 MB 22.6 MB/s eta 0:00:01\n",
      "   ---------------------------------------- 9.6/9.6 MB 20.5 MB/s eta 0:00:00\n",
      "Downloading mypy_extensions-1.1.0-py3-none-any.whl (5.0 kB)\n",
      "Downloading pathspec-0.12.1-py3-none-any.whl (31 kB)\n",
      "Installing collected packages: pathspec, mypy_extensions, mypy\n",
      "Successfully installed mypy-1.17.1 mypy_extensions-1.1.0 pathspec-0.12.1\n"
     ]
    },
    {
     "name": "stderr",
     "output_type": "stream",
     "text": [
      "\n",
      "[notice] A new release of pip is available: 25.0.1 -> 25.2\n",
      "[notice] To update, run: python.exe -m pip install --upgrade pip\n"
     ]
    }
   ],
   "source": [
    "! pip install mypy"
   ]
  },
  {
   "cell_type": "markdown",
   "id": "ea5f3647-87e8-42a5-ba35-dc0e48f33083",
   "metadata": {},
   "source": [
    "#### mypy is a static type checker for Python. It checks your code for type consistency based on annotations without executing it."
   ]
  },
  {
   "cell_type": "code",
   "execution_count": 22,
   "id": "5efc563a-9d82-4037-b253-1b15ffb1dd1a",
   "metadata": {},
   "outputs": [
    {
     "name": "stdout",
     "output_type": "stream",
     "text": [
      "Hello, Alice\n"
     ]
    }
   ],
   "source": [
    "## Static type checking with mypy\n",
    "def greet(name: str) -> str:\n",
    "    return \"Hello, \" + name\n",
    "\n",
    "\n",
    "print(greet(\"Alice\"))"
   ]
  },
  {
   "cell_type": "code",
   "execution_count": 23,
   "id": "0b0754e9-39c2-46db-8c8b-4467fe5e0048",
   "metadata": {},
   "outputs": [],
   "source": [
    "## Using typing module (List, Dict, Union, Optional, etc.)"
   ]
  },
  {
   "cell_type": "markdown",
   "id": "77837dab-e3c3-4a75-9cd7-bdea0b8a662f",
   "metadata": {},
   "source": [
    "#### A sequence of elements where all items are of the same type."
   ]
  },
  {
   "cell_type": "code",
   "execution_count": 24,
   "id": "11fdc0d3-c61a-4b5d-ac6a-10d71fd96af1",
   "metadata": {},
   "outputs": [
    {
     "name": "stdout",
     "output_type": "stream",
     "text": [
      "60\n"
     ]
    }
   ],
   "source": [
    "from typing import List\n",
    "\n",
    "\n",
    "def total(scores: List[int]) -> int:\n",
    "    return sum(scores)\n",
    "\n",
    "\n",
    "print(total([10, 20, 30]))"
   ]
  },
  {
   "cell_type": "markdown",
   "id": "9a321f62-2491-4dc8-83d2-9a8a6749689a",
   "metadata": {},
   "source": [
    "#### A mapping between keys and values, where keys and values have fixed types."
   ]
  },
  {
   "cell_type": "code",
   "execution_count": 18,
   "id": "aa5f96ea-6552-4ffa-8c9e-40121a97f006",
   "metadata": {},
   "outputs": [],
   "source": [
    "from typing import Dict\n",
    "\n",
    "\n",
    "def user_age() -> Dict[str, int]:\n",
    "    return {\"Alice\": 25, \"Bob\": 30}"
   ]
  },
  {
   "cell_type": "markdown",
   "id": "d5a99aaf-bddf-450a-a7cf-d79fa0abd91f",
   "metadata": {},
   "source": [
    "#### A fixed-size, ordered container where each position can hold a value of a different, predefined type."
   ]
  },
  {
   "cell_type": "code",
   "execution_count": 19,
   "id": "a3186811-53a7-4f0b-ac48-59a604ccd327",
   "metadata": {},
   "outputs": [],
   "source": [
    "from typing import Tuple\n",
    "\n",
    "\n",
    "def get_user() -> Tuple[str, int]:\n",
    "    return (\"Alice\", 25)"
   ]
  },
  {
   "cell_type": "markdown",
   "id": "e43b4b28-60c1-405b-b197-f913e617759a",
   "metadata": {},
   "source": [
    "#### An unordered collection of unique elements of a specific type."
   ]
  },
  {
   "cell_type": "code",
   "execution_count": 20,
   "id": "6cc08199-0fdc-4a26-95af-dbe430ccf189",
   "metadata": {},
   "outputs": [],
   "source": [
    "from typing import Set\n",
    "\n",
    "\n",
    "def get_tags() -> Set[str]:\n",
    "    return {\"python\", \"typing\", \"mypy\"}"
   ]
  },
  {
   "cell_type": "markdown",
   "id": "3b4db301-04af-41d2-b593-fa5c00500ea5",
   "metadata": {},
   "source": [
    "#### A value that can either be of the specified type or None."
   ]
  },
  {
   "cell_type": "code",
   "execution_count": 25,
   "id": "0842eea8-4d40-4e95-bd41-7c02f5bb7669",
   "metadata": {},
   "outputs": [],
   "source": [
    "from typing import Optional\n",
    "\n",
    "\n",
    "def get_email(user_id: int) -> Optional[str]:\n",
    "    if user_id == 1:\n",
    "        return \"alice@example.com\"\n",
    "    return None"
   ]
  },
  {
   "cell_type": "markdown",
   "id": "e35167a7-6717-45ef-a466-36ea52ce6515",
   "metadata": {},
   "source": [
    "## Dataclasses"
   ]
  },
  {
   "cell_type": "code",
   "execution_count": 26,
   "id": "cb3ea6ed-716d-46c9-88f7-3473761bec5a",
   "metadata": {},
   "outputs": [
    {
     "name": "stdout",
     "output_type": "stream",
     "text": [
      "Collecting dataclasses\n",
      "  Downloading dataclasses-0.6-py3-none-any.whl.metadata (3.0 kB)\n",
      "Downloading dataclasses-0.6-py3-none-any.whl (14 kB)\n",
      "Installing collected packages: dataclasses\n",
      "Successfully installed dataclasses-0.6\n"
     ]
    },
    {
     "name": "stderr",
     "output_type": "stream",
     "text": [
      "\n",
      "[notice] A new release of pip is available: 25.0.1 -> 25.2\n",
      "[notice] To update, run: python.exe -m pip install --upgrade pip\n"
     ]
    }
   ],
   "source": [
    "!pip install dataclasses"
   ]
  },
  {
   "cell_type": "markdown",
   "id": "81d99ae9-834d-44b0-88bd-e242125ceb60",
   "metadata": {},
   "source": [
    "#### Dataclasses is a module that automatically generates special methods like __init__, __repr__, __eq__ etc. for classes."
   ]
  },
  {
   "cell_type": "code",
   "execution_count": 32,
   "id": "905c9aec-12a6-4800-b6f3-d6d3eb06890b",
   "metadata": {},
   "outputs": [
    {
     "name": "stdout",
     "output_type": "stream",
     "text": [
      "GfgArticle(title='DataClasses', author='sambridhi', language='Python', upvotes=0)\n"
     ]
    }
   ],
   "source": [
    "# Importing dataclass module\n",
    "from dataclasses import dataclass\n",
    "\n",
    "\n",
    "@dataclass\n",
    "class GfgArticle:\n",
    "    \"\"\"A class for holding an article content\"\"\"\n",
    "\n",
    "    # Attributes Declaration\n",
    "    # using Type Hints\n",
    "\n",
    "    title: str\n",
    "    author: str\n",
    "    language: str\n",
    "    upvotes: int\n",
    "\n",
    "\n",
    "# A DataClass object\n",
    "article = GfgArticle(\"DataClasses\", \"sambridhi\", \"Python\", 0)\n",
    "print(article)"
   ]
  },
  {
   "cell_type": "markdown",
   "id": "5ebe2d34-5f3d-4a1a-863c-d8281dd4695e",
   "metadata": {},
   "source": [
    "#### The classes store data, checking two objects if they have the same data is a very common task that's needed with dataclasses. This is accomplished by using the == operator. "
   ]
  },
  {
   "cell_type": "code",
   "execution_count": 33,
   "id": "2dbee801-19b9-4b76-a949-3546a16b3b60",
   "metadata": {},
   "outputs": [
    {
     "name": "stdout",
     "output_type": "stream",
     "text": [
      "DataClass Equal: True\n",
      "Normal Class Equal: False\n"
     ]
    }
   ],
   "source": [
    "## Eqaulity of Dataclasses\n",
    "class NormalArticle:\n",
    "    \"\"\"A class for holding an article content\"\"\"\n",
    "\n",
    "    # Equivalent Constructor\n",
    "    def __init__(self, title, author, language, upvotes):\n",
    "        self.title = title\n",
    "        self.author = author\n",
    "        self.language = language\n",
    "        self.upvotes = upvotes\n",
    "\n",
    "\n",
    "# Two DataClass objects\n",
    "dClassArticle1 = GfgArticle(\"DataClasses\", \"Sambridhi\", \"Python\", 0)\n",
    "dClassArticle2 = GfgArticle(\"DataClasses\", \"Sambridhi\", \"Python\", 0)\n",
    "\n",
    "# Two objects of a normal class\n",
    "article1 = NormalArticle(\"DataClasses\", \"Sambridhi\", \"Python\", 0)\n",
    "article2 = NormalArticle(\"DataClasses\", \"Sambridhi\", \"Python\", 0)\n",
    "\n",
    "print(\"DataClass Equal:\", dClassArticle1 == dClassArticle2)\n",
    "print(\"Normal Class Equal:\", article1 == article2)"
   ]
  },
  {
   "cell_type": "markdown",
   "id": "9a2dd857-b5dc-418b-9a4f-9b24d7c1a92e",
   "metadata": {},
   "source": [
    "# 16 . Testing and Debugging"
   ]
  },
  {
   "cell_type": "code",
   "execution_count": 60,
   "id": "9c9cf430-f8e1-4a67-abec-b68c1e0252fb",
   "metadata": {},
   "outputs": [
    {
     "name": "stderr",
     "output_type": "stream",
     "text": [
      ".\n",
      "----------------------------------------------------------------------\n",
      "Ran 1 test in 0.001s\n",
      "\n",
      "OK\n"
     ]
    }
   ],
   "source": [
    "import unittest\n",
    "\n",
    "\n",
    "def add(a, b):\n",
    "    return a + b\n",
    "\n",
    "\n",
    "class TestMath(unittest.TestCase):\n",
    "\n",
    "    def test_add(self):\n",
    "        self.assertEqual(add(2, 3), 5)\n",
    "        self.assertNotEqual(add(2, 2), 5)\n",
    "\n",
    "\n",
    "if __name__ == \"__main__\":\n",
    "    unittest.TextTestRunner().run(unittest.TestLoader().loadTestsFromTestCase(TestMath))"
   ]
  },
  {
   "cell_type": "code",
   "execution_count": 73,
   "id": "7a471951-857a-4b07-b806-83416383f2a5",
   "metadata": {},
   "outputs": [
    {
     "name": "stdout",
     "output_type": "stream",
     "text": [
      "\u001b[1m============================= test session starts =============================\u001b[0m\n",
      "platform win32 -- Python 3.12.8, pytest-8.4.1, pluggy-1.6.0\n",
      "rootdir: C:\\Users\\Sambridhi Shrestha\\Documents\\Python week 1\n",
      "plugins: anyio-4.8.0\n",
      "collected 1 item\n",
      "\n",
      "test_sample.py \u001b[32m.\u001b[0m\u001b[32m                                                         [100%]\u001b[0m\n",
      "\n",
      "\u001b[32m============================== \u001b[32m\u001b[1m1 passed\u001b[0m\u001b[32m in 0.02s\u001b[0m\u001b[32m ==============================\u001b[0m\n"
     ]
    }
   ],
   "source": [
    "# test file\n",
    "with open(\"test_sample.py\", \"w\") as f:\n",
    "    f.write(\n",
    "        \"\"\"\n",
    "def add(a, b):\n",
    "    return a + b\n",
    "\n",
    "def test_add():\n",
    "    assert add(1, 2) == 3\n",
    "    assert add(-1, 1) == 0\n",
    "\"\"\"\n",
    "    )\n",
    "\n",
    "!python -m pytest test_sample.py"
   ]
  },
  {
   "cell_type": "markdown",
   "id": "fd98e3ee-5ceb-4906-a83b-a79bf8cf0f88",
   "metadata": {},
   "source": [
    "# 17. Regular Expressions\n"
   ]
  },
  {
   "cell_type": "markdown",
   "id": "fe521b69-a378-4ff0-8a6b-1b07bd009cd0",
   "metadata": {},
   "source": [
    "## a. re module"
   ]
  },
  {
   "cell_type": "markdown",
   "id": "b6cc7794-0866-43a1-890c-a02f7c084091",
   "metadata": {},
   "source": [
    "### The re module in Python stands for Regular Expressions. It provides a set of functions that allows you to search, match, and manipulate strings using patterns."
   ]
  },
  {
   "cell_type": "code",
   "execution_count": 36,
   "id": "383b399c-d70e-4ddc-bde1-7d562e5e3011",
   "metadata": {},
   "outputs": [],
   "source": [
    "import re"
   ]
  },
  {
   "cell_type": "markdown",
   "id": "ca66d848-e125-4beb-adb5-e13512a82203",
   "metadata": {},
   "source": [
    "### re.search()\tFinds the first match anywhere in a string"
   ]
  },
  {
   "cell_type": "code",
   "execution_count": 38,
   "id": "7dedce25-6ed1-49f1-9387-8324a3ae321e",
   "metadata": {},
   "outputs": [
    {
     "name": "stdout",
     "output_type": "stream",
     "text": [
      "Sam\n"
     ]
    }
   ],
   "source": [
    "import re\n",
    "\n",
    "text = \"Hello, my name is Sam.\"\n",
    "pattern = r\"Sam\"\n",
    "\n",
    "match = re.search(pattern, text)\n",
    "print(match.group())"
   ]
  },
  {
   "cell_type": "markdown",
   "id": "66d93348-53ea-4803-8fb7-69c118fe41c5",
   "metadata": {},
   "source": [
    "#### re.match() Checks for a match only at the beginning"
   ]
  },
  {
   "cell_type": "code",
   "execution_count": 42,
   "id": "dac01bcc-a541-42c8-9367-d59e4b3e0c7a",
   "metadata": {},
   "outputs": [
    {
     "name": "stdout",
     "output_type": "stream",
     "text": [
      "<re.Match object; span=(0, 3), match='Sam'>\n",
      "None\n"
     ]
    }
   ],
   "source": [
    "text = \"Sam likes Python.\"\n",
    "print(re.match(r\"Sam\", text))\n",
    "print(re.match(r\"Python\", text))"
   ]
  },
  {
   "cell_type": "markdown",
   "id": "9de94578-f5f3-4be5-9df6-978782be348a",
   "metadata": {},
   "source": [
    "#### re.findall() Returns all matching substrings as a list"
   ]
  },
  {
   "cell_type": "code",
   "execution_count": 43,
   "id": "6acdca11-bfd6-4373-a840-ebbfa2fa4d5f",
   "metadata": {},
   "outputs": [
    {
     "name": "stdout",
     "output_type": "stream",
     "text": [
      "['apple', 'apple']\n"
     ]
    }
   ],
   "source": [
    "text = \"I love apple, banana, and apple again.\"\n",
    "print(re.findall(r\"apple\", text))"
   ]
  },
  {
   "cell_type": "markdown",
   "id": "0c9c7731-4740-4fd3-b588-faee1cc9d27c",
   "metadata": {},
   "source": [
    "#### re.sub() Replaces matches with something else"
   ]
  },
  {
   "cell_type": "code",
   "execution_count": 45,
   "id": "b7f13832-fce1-4f9c-8c08-2ddb06437cc4",
   "metadata": {},
   "outputs": [
    {
     "name": "stdout",
     "output_type": "stream",
     "text": [
      "Java is easy. Java is powerful.\n"
     ]
    }
   ],
   "source": [
    "text = \"Python is easy. Python is powerful.\"\n",
    "new_text = re.sub(r\"Python\", \"Java\", text)\n",
    "print(new_text)"
   ]
  },
  {
   "cell_type": "code",
   "execution_count": null,
   "id": "873fa053-a38a-4fdf-9dcd-3881de850b76",
   "metadata": {},
   "outputs": [],
   "source": []
  },
  {
   "cell_type": "markdown",
   "id": "d0b9cbe4-8826-4fb4-9cda-d66bc91cdbe2",
   "metadata": {},
   "source": [
    "## Groups and Capturing"
   ]
  },
  {
   "cell_type": "markdown",
   "id": "22ce7b0f-fa95-4f7c-8072-e91ab108e654",
   "metadata": {},
   "source": [
    "#### In regular expressions, groups are portions of the pattern enclosed in parentheses () that are captured separately from the rest of the match."
   ]
  },
  {
   "cell_type": "code",
   "execution_count": 49,
   "id": "5e56033e-308f-4d7e-95e2-58c2ace5a30d",
   "metadata": {},
   "outputs": [
    {
     "name": "stdout",
     "output_type": "stream",
     "text": [
      "Full match: My name is Sam and I am 21\n",
      "Name: Sam\n",
      "Age: 21\n"
     ]
    }
   ],
   "source": [
    "import re\n",
    "\n",
    "text = \"My name is Sam and I am 21 years old.\"\n",
    "match = re.search(r\"My name is (\\w+) and I am (\\d+)\", text)\n",
    "\n",
    "if match:\n",
    "    print(\"Full match:\", match.group(0))\n",
    "    print(\"Name:\", match.group(1))\n",
    "    print(\"Age:\", match.group(2))"
   ]
  },
  {
   "cell_type": "code",
   "execution_count": 50,
   "id": "00b404ef-d1c5-477a-94b4-e99c7315eeeb",
   "metadata": {},
   "outputs": [
    {
     "name": "stdout",
     "output_type": "stream",
     "text": [
      "Username: user123\n",
      "Domain: gmail.com\n"
     ]
    }
   ],
   "source": [
    "text = \"Contact: user123@gmail.com\"\n",
    "match = re.search(r\"(\\w+)@(\\w+\\.\\w+)\", text)\n",
    "\n",
    "if match:\n",
    "    print(\"Username:\", match.group(1))\n",
    "    print(\"Domain:\", match.group(2))"
   ]
  },
  {
   "cell_type": "code",
   "execution_count": 52,
   "id": "8658bf16-a8de-4be7-afd6-6fa6347cf499",
   "metadata": {},
   "outputs": [],
   "source": [
    "# non-capturing group\n",
    "pattern = r\"(?:Mr|Ms)\\. (\\w+)\"\n",
    "text = \"Sambridhi\"\n",
    "match = re.search(pattern, text)"
   ]
  },
  {
   "cell_type": "code",
   "execution_count": 56,
   "id": "b8ca761f-394d-4b5e-9b0b-df3c9259ca16",
   "metadata": {},
   "outputs": [
    {
     "name": "stdout",
     "output_type": "stream",
     "text": [
      "Sambridhi\n",
      "Shrestha\n"
     ]
    }
   ],
   "source": [
    "# named groups\n",
    "pattern = r\"(?P<first>\\w+)-(?P<last>\\w+)\"\n",
    "text = \"Sambridhi-Shrestha\"\n",
    "match = re.search(pattern, text)\n",
    "\n",
    "print(match.group(\"first\"))\n",
    "print(match.group(\"last\"))"
   ]
  },
  {
   "cell_type": "code",
   "execution_count": null,
   "id": "0d2903b5-0493-45ac-b2f1-70bece329d50",
   "metadata": {},
   "outputs": [],
   "source": []
  },
  {
   "cell_type": "code",
   "execution_count": null,
   "id": "7de94160-4143-4455-b2ea-913cb32188ae",
   "metadata": {},
   "outputs": [],
   "source": []
  }
 ],
 "metadata": {
  "kernelspec": {
   "display_name": "Python 3 (ipykernel)",
   "language": "python",
   "name": "python3"
  },
  "language_info": {
   "codemirror_mode": {
    "name": "ipython",
    "version": 3
   },
   "file_extension": ".py",
   "mimetype": "text/x-python",
   "name": "python",
   "nbconvert_exporter": "python",
   "pygments_lexer": "ipython3",
   "version": "3.12.8"
  }
 },
 "nbformat": 4,
 "nbformat_minor": 5
}
