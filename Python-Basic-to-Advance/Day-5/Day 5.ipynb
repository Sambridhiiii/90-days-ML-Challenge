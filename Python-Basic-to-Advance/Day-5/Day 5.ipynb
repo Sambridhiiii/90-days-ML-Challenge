{
 "cells": [
  {
   "cell_type": "markdown",
   "id": "d082bf46-aa3e-4f6f-85db-8fbfefab2c7f",
   "metadata": {},
   "source": [
    "# 24.Packaging and Distribution"
   ]
  },
  {
   "cell_type": "markdown",
   "id": "ed0dd131-5763-4ea3-a205-2944e80d6583",
   "metadata": {},
   "source": [
    "### 🗝️Key Points of Packaging\n",
    "<ol>\n",
    "    <li><p>Organizes Python code into a structured format for reuse.\n",
    "\n",
    "<li><p> Includes metadata (name, version, author, dependencies).\n",
    "    \n",
    " <li><p> Uses tools like setuptools and pyproject.toml for configuration.\n",
    "    \n",
    "   <li><p> Makes projects installable via pip. \n",
    "</ol>\n"
   ]
  },
  {
   "cell_type": "markdown",
   "id": "56305f2a-26b8-4082-8d5d-2df596d52024",
   "metadata": {},
   "source": [
    "### 🗝️Key Points of Distribution\n",
    "<ol>\n",
    "    <li><p>Converts packaged code into distributable files (.tar.gz, .whl).\n",
    "\n",
    "<li><p> wheel creates built distributions for faster installation.\n",
    "    \n",
    " <li><p> twine securely uploads packages to PyPI or private repositories.\n",
    "     \n",
    "   <li><p> Enables easy sharing and installation for other developers.\n",
    "</ol>"
   ]
  },
  {
   "cell_type": "markdown",
   "id": "cd970f71-ce07-4e97-b8e4-ecb72963fc35",
   "metadata": {},
   "source": [
    "# setuptools\n"
   ]
  },
  {
   "cell_type": "markdown",
   "id": "db237958-fc9b-43a3-b6e1-125029f5bbb3",
   "metadata": {},
   "source": [
    "### 📦 What it is:  \n",
    "   A library that helps you build and distribute Python packages.\n",
    "\n",
    "### ⚙️ Why:  \n",
    "   Handles dependencies, package discovery, and distribution formats.\n",
    "\n",
    "### 🛠️ Where used:  \n",
    "   In `setup.py` or `pyproject.toml` to define package metadata.\n"
   ]
  },
  {
   "cell_type": "code",
   "execution_count": 123,
   "id": "d74cc75f-d2db-4451-9005-ca05da428336",
   "metadata": {},
   "outputs": [
    {
     "name": "stdout",
     "output_type": "stream",
     "text": [
      "Python 3.12.8\n",
      "pip 25.2 from C:\\Users\\Sambridhi Shrestha\\AppData\\Local\\Programs\\Python\\Python312\\Lib\\site-packages\\pip (python 3.12)\n",
      "\n"
     ]
    }
   ],
   "source": [
    "!python --version\n",
    "!pip --version"
   ]
  },
  {
   "cell_type": "code",
   "execution_count": 124,
   "id": "8abbcfab-c34d-4fa7-9561-3a2c1c269d98",
   "metadata": {},
   "outputs": [
    {
     "name": "stdout",
     "output_type": "stream",
     "text": [
      "Requirement already satisfied: setuptools in c:\\users\\sambridhi shrestha\\appdata\\local\\programs\\python\\python312\\lib\\site-packages (80.9.0)\n"
     ]
    }
   ],
   "source": [
    "!pip install setuptools"
   ]
  },
  {
   "cell_type": "code",
   "execution_count": 125,
   "id": "ac0509be-91c4-4066-aa4d-149330cc93c0",
   "metadata": {},
   "outputs": [
    {
     "name": "stdout",
     "output_type": "stream",
     "text": [
      "Requirement already satisfied: build in c:\\users\\sambridhi shrestha\\appdata\\local\\programs\\python\\python312\\lib\\site-packages (1.3.0)\n",
      "Requirement already satisfied: packaging>=19.1 in c:\\users\\sambridhi shrestha\\appdata\\local\\programs\\python\\python312\\lib\\site-packages (from build) (24.2)\n",
      "Requirement already satisfied: pyproject_hooks in c:\\users\\sambridhi shrestha\\appdata\\local\\programs\\python\\python312\\lib\\site-packages (from build) (1.2.0)\n",
      "Requirement already satisfied: colorama in c:\\users\\sambridhi shrestha\\appdata\\local\\programs\\python\\python312\\lib\\site-packages (from build) (0.4.6)\n"
     ]
    }
   ],
   "source": [
    "!pip install build"
   ]
  },
  {
   "cell_type": "code",
   "execution_count": 126,
   "id": "13461ab8-563a-47e6-b71f-263429353451",
   "metadata": {},
   "outputs": [
    {
     "name": "stdout",
     "output_type": "stream",
     "text": [
      "Requirement already satisfied: pip in c:\\users\\sambridhi shrestha\\appdata\\local\\programs\\python\\python312\\lib\\site-packages (25.2)\n"
     ]
    }
   ],
   "source": [
    "!pip install --upgrade pip"
   ]
  },
  {
   "cell_type": "code",
   "execution_count": 127,
   "id": "c48b2ffd-bc42-4dff-9455-a73accaf4768",
   "metadata": {},
   "outputs": [
    {
     "name": "stdout",
     "output_type": "stream",
     "text": [
      "Overwriting setup.py\n"
     ]
    }
   ],
   "source": [
    "%%writefile setup.py\n",
    "from setuptools import setup, find_packages\n",
    "\n",
    "setup(\n",
    "    name=\"my_package\",\n",
    "    version=\"0.1.0\",\n",
    "    packages=find_packages(),\n",
    "    python_requires='>=3.6',\n",
    ")"
   ]
  },
  {
   "cell_type": "markdown",
   "id": "6bc16a13-0f8d-41fc-a44c-8602b8abd695",
   "metadata": {},
   "source": [
    "# wheel"
   ]
  },
  {
   "cell_type": "markdown",
   "id": "f37790ab-c19c-4b7f-ab95-2bbe2c6e8f7b",
   "metadata": {},
   "source": [
    "### 🛍️ What it is: \n",
    "   A built distribution format (`.whl`) for Python.\n",
    "\n",
    "### ⚡ Why:\n",
    "   Installs faster than source distributions (`.tar.gz`) because no build step is needed.\n",
    "\n",
    "### 📦 Where: \n",
    "   You build `.whl` files before uploading to PyPI.\n"
   ]
  },
  {
   "cell_type": "code",
   "execution_count": 14,
   "id": "679e4405-7df7-45ad-a7b4-1e6eca172d34",
   "metadata": {},
   "outputs": [
    {
     "name": "stdout",
     "output_type": "stream",
     "text": [
      "Requirement already satisfied: wheel in c:\\users\\sambridhi shrestha\\appdata\\local\\programs\\python\\python312\\lib\\site-packages (0.45.1)\n"
     ]
    }
   ],
   "source": [
    "!pip install wheel"
   ]
  },
  {
   "cell_type": "code",
   "execution_count": 15,
   "id": "391ab52b-9ff6-44e0-9e0d-761d0c6c2f96",
   "metadata": {},
   "outputs": [
    {
     "name": "stdout",
     "output_type": "stream",
     "text": [
      "* Creating isolated environment: venv+pip...\n",
      "* Installing packages in isolated environment:\n",
      "  - setuptools >= 40.8.0\n",
      "* Getting build dependencies for sdist...\n",
      "running egg_info\n",
      "creating my_package.egg-info\n",
      "writing my_package.egg-info\\PKG-INFO\n",
      "writing dependency_links to my_package.egg-info\\dependency_links.txt\n",
      "writing top-level names to my_package.egg-info\\top_level.txt\n",
      "writing manifest file 'my_package.egg-info\\SOURCES.txt'\n",
      "reading manifest file 'my_package.egg-info\\SOURCES.txt'\n",
      "writing manifest file 'my_package.egg-info\\SOURCES.txt'\n",
      "* Building sdist...\n",
      "running sdist\n",
      "running egg_info\n",
      "writing my_package.egg-info\\PKG-INFO\n",
      "writing dependency_links to my_package.egg-info\\dependency_links.txt\n",
      "writing top-level names to my_package.egg-info\\top_level.txt\n",
      "reading manifest file 'my_package.egg-info\\SOURCES.txt'\n",
      "writing manifest file 'my_package.egg-info\\SOURCES.txt'\n",
      "running check\n",
      "creating my_package-0.1.0\n",
      "creating my_package-0.1.0\\my_package.egg-info\n",
      "copying files to my_package-0.1.0...\n",
      "copying setup.py -> my_package-0.1.0\n",
      "copying my_package.egg-info\\PKG-INFO -> my_package-0.1.0\\my_package.egg-info\n",
      "copying my_package.egg-info\\SOURCES.txt -> my_package-0.1.0\\my_package.egg-info\n",
      "copying my_package.egg-info\\dependency_links.txt -> my_package-0.1.0\\my_package.egg-info\n",
      "copying my_package.egg-info\\top_level.txt -> my_package-0.1.0\\my_package.egg-info\n",
      "copying my_package.egg-info\\SOURCES.txt -> my_package-0.1.0\\my_package.egg-info\n",
      "Writing my_package-0.1.0\\setup.cfg\n",
      "Creating tar archive\n",
      "removing 'my_package-0.1.0' (and everything under it)\n",
      "* Building wheel from sdist\n",
      "* Creating isolated environment: venv+pip...\n",
      "* Installing packages in isolated environment:\n",
      "  - setuptools >= 40.8.0\n",
      "* Getting build dependencies for wheel...\n",
      "running egg_info\n",
      "writing my_package.egg-info\\PKG-INFO\n",
      "writing dependency_links to my_package.egg-info\\dependency_links.txt\n",
      "writing top-level names to my_package.egg-info\\top_level.txt\n",
      "reading manifest file 'my_package.egg-info\\SOURCES.txt'\n",
      "writing manifest file 'my_package.egg-info\\SOURCES.txt'\n",
      "* Building wheel...\n",
      "running bdist_wheel\n",
      "running build\n",
      "installing to build\\bdist.win-amd64\\wheel\n",
      "running install\n",
      "running install_egg_info\n",
      "running egg_info\n",
      "writing my_package.egg-info\\PKG-INFO\n",
      "writing dependency_links to my_package.egg-info\\dependency_links.txt\n",
      "writing top-level names to my_package.egg-info\\top_level.txt\n",
      "reading manifest file 'my_package.egg-info\\SOURCES.txt'\n",
      "writing manifest file 'my_package.egg-info\\SOURCES.txt'\n",
      "Copying my_package.egg-info to build\\bdist.win-amd64\\wheel\\.\\my_package-0.1.0-py3.12.egg-info\n",
      "running install_scripts\n",
      "creating build\\bdist.win-amd64\\wheel\\my_package-0.1.0.dist-info\\WHEEL\n",
      "creating 'C:\\Users\\Sambridhi Shrestha\\Documents\\Python week 1\\dist\\.tmp-xl28ks9n\\my_package-0.1.0-py3-none-any.whl' and adding 'build\\bdist.win-amd64\\wheel' to it\n",
      "adding 'my_package-0.1.0.dist-info/METADATA'\n",
      "adding 'my_package-0.1.0.dist-info/WHEEL'\n",
      "adding 'my_package-0.1.0.dist-info/top_level.txt'\n",
      "adding 'my_package-0.1.0.dist-info/RECORD'\n",
      "removing build\\bdist.win-amd64\\wheel\n",
      "Successfully built my_package-0.1.0.tar.gz and my_package-0.1.0-py3-none-any.whl\n"
     ]
    },
    {
     "name": "stderr",
     "output_type": "stream",
     "text": [
      "warning: sdist: standard file not found: should have one of README, README.rst, README.txt, README.md\n",
      "\n"
     ]
    }
   ],
   "source": [
    "!python -m build"
   ]
  },
  {
   "cell_type": "markdown",
   "id": "351aa0e7-89b2-4e72-a2f7-cf4cf6726082",
   "metadata": {},
   "source": [
    "# twine"
   ]
  },
  {
   "cell_type": "markdown",
   "id": "ab6fc247-bc80-41d5-8d7a-36817a01fc12",
   "metadata": {},
   "source": [
    "### 📤 What it is:\n",
    "   A utility for uploading packages to PyPI.\n",
    "\n",
    "### 🔒 Why:  \n",
    "   Secure upload (HTTPS, token-based), recommended over `setup.py upload`.\n",
    "\n",
    "### 🚀 Where:  \n",
    "   After building your `.whl` and `.tar.gz` files.\n"
   ]
  },
  {
   "cell_type": "code",
   "execution_count": 16,
   "id": "ad8a2fcc-4bff-4eb0-978f-865f66b36c95",
   "metadata": {},
   "outputs": [
    {
     "name": "stdout",
     "output_type": "stream",
     "text": [
      "Processing c:\\users\\sambridhi shrestha\\documents\\python week 1\\dist\\my_package-0.1.0-py3-none-any.whl\n",
      "Installing collected packages: my-package\n",
      "Successfully installed my-package-0.1.0\n"
     ]
    }
   ],
   "source": [
    "!pip install dist/my_package-0.1.0-py3-none-any.whl\n"
   ]
  },
  {
   "cell_type": "code",
   "execution_count": 17,
   "id": "19571351-3e2f-4aea-b997-81723d34eeac",
   "metadata": {},
   "outputs": [
    {
     "name": "stdout",
     "output_type": "stream",
     "text": [
      "Requirement already satisfied: twine in c:\\users\\sambridhi shrestha\\appdata\\local\\programs\\python\\python312\\lib\\site-packages (6.1.0)\n",
      "Requirement already satisfied: readme-renderer>=35.0 in c:\\users\\sambridhi shrestha\\appdata\\local\\programs\\python\\python312\\lib\\site-packages (from twine) (44.0)\n",
      "Requirement already satisfied: requests>=2.20 in c:\\users\\sambridhi shrestha\\appdata\\local\\programs\\python\\python312\\lib\\site-packages (from twine) (2.32.3)\n",
      "Requirement already satisfied: requests-toolbelt!=0.9.0,>=0.8.0 in c:\\users\\sambridhi shrestha\\appdata\\local\\programs\\python\\python312\\lib\\site-packages (from twine) (1.0.0)\n",
      "Requirement already satisfied: urllib3>=1.26.0 in c:\\users\\sambridhi shrestha\\appdata\\local\\programs\\python\\python312\\lib\\site-packages (from twine) (2.5.0)\n",
      "Requirement already satisfied: keyring>=15.1 in c:\\users\\sambridhi shrestha\\appdata\\local\\programs\\python\\python312\\lib\\site-packages (from twine) (25.6.0)\n",
      "Requirement already satisfied: rfc3986>=1.4.0 in c:\\users\\sambridhi shrestha\\appdata\\local\\programs\\python\\python312\\lib\\site-packages (from twine) (2.0.0)\n",
      "Requirement already satisfied: rich>=12.0.0 in c:\\users\\sambridhi shrestha\\appdata\\local\\programs\\python\\python312\\lib\\site-packages (from twine) (14.1.0)\n",
      "Requirement already satisfied: packaging>=24.0 in c:\\users\\sambridhi shrestha\\appdata\\local\\programs\\python\\python312\\lib\\site-packages (from twine) (24.2)\n",
      "Requirement already satisfied: id in c:\\users\\sambridhi shrestha\\appdata\\local\\programs\\python\\python312\\lib\\site-packages (from twine) (1.5.0)\n",
      "Requirement already satisfied: pywin32-ctypes>=0.2.0 in c:\\users\\sambridhi shrestha\\appdata\\local\\programs\\python\\python312\\lib\\site-packages (from keyring>=15.1->twine) (0.2.3)\n",
      "Requirement already satisfied: jaraco.classes in c:\\users\\sambridhi shrestha\\appdata\\local\\programs\\python\\python312\\lib\\site-packages (from keyring>=15.1->twine) (3.4.0)\n",
      "Requirement already satisfied: jaraco.functools in c:\\users\\sambridhi shrestha\\appdata\\local\\programs\\python\\python312\\lib\\site-packages (from keyring>=15.1->twine) (4.2.1)\n",
      "Requirement already satisfied: jaraco.context in c:\\users\\sambridhi shrestha\\appdata\\local\\programs\\python\\python312\\lib\\site-packages (from keyring>=15.1->twine) (6.0.1)\n",
      "Requirement already satisfied: nh3>=0.2.14 in c:\\users\\sambridhi shrestha\\appdata\\local\\programs\\python\\python312\\lib\\site-packages (from readme-renderer>=35.0->twine) (0.3.0)\n",
      "Requirement already satisfied: docutils>=0.21.2 in c:\\users\\sambridhi shrestha\\appdata\\local\\programs\\python\\python312\\lib\\site-packages (from readme-renderer>=35.0->twine) (0.22)\n",
      "Requirement already satisfied: Pygments>=2.5.1 in c:\\users\\sambridhi shrestha\\appdata\\local\\programs\\python\\python312\\lib\\site-packages (from readme-renderer>=35.0->twine) (2.19.1)\n",
      "Requirement already satisfied: charset-normalizer<4,>=2 in c:\\users\\sambridhi shrestha\\appdata\\local\\programs\\python\\python312\\lib\\site-packages (from requests>=2.20->twine) (3.4.1)\n",
      "Requirement already satisfied: idna<4,>=2.5 in c:\\users\\sambridhi shrestha\\appdata\\local\\programs\\python\\python312\\lib\\site-packages (from requests>=2.20->twine) (3.10)\n",
      "Requirement already satisfied: certifi>=2017.4.17 in c:\\users\\sambridhi shrestha\\appdata\\local\\programs\\python\\python312\\lib\\site-packages (from requests>=2.20->twine) (2025.7.14)\n",
      "Requirement already satisfied: markdown-it-py>=2.2.0 in c:\\users\\sambridhi shrestha\\appdata\\local\\programs\\python\\python312\\lib\\site-packages (from rich>=12.0.0->twine) (3.0.0)\n",
      "Requirement already satisfied: mdurl~=0.1 in c:\\users\\sambridhi shrestha\\appdata\\local\\programs\\python\\python312\\lib\\site-packages (from markdown-it-py>=2.2.0->rich>=12.0.0->twine) (0.1.2)\n",
      "Requirement already satisfied: more-itertools in c:\\users\\sambridhi shrestha\\appdata\\local\\programs\\python\\python312\\lib\\site-packages (from jaraco.classes->keyring>=15.1->twine) (10.7.0)\n",
      "Uploading distributions to https://upload.pypi.org/legacy/\n",
      "ERROR    InvalidDistribution: Unknown distribution format: 'mypackage'         \n"
     ]
    }
   ],
   "source": [
    "!pip install twine\n",
    "## Uploading built packages(python -m build)\n",
    "!twine upload dist/*"
   ]
  },
  {
   "cell_type": "markdown",
   "id": "3aaa4f3c-5aad-4551-b58f-71b8b90a688f",
   "metadata": {},
   "source": [
    "## pyproject.toml"
   ]
  },
  {
   "cell_type": "markdown",
   "id": "5cd00cc9-d04c-415a-8d93-f05f189c0cbd",
   "metadata": {},
   "source": [
    "### 📄 What it is: \n",
    "   A modern configuration file for Python projects (PEP 518/621).\n",
    "\n",
    "### ⚙️ Why: \n",
    "   Replaces `setup.py` for many cases, standardizes build dependencies and metadata.\n",
    "\n",
    "### 📂 Where:  \n",
    "   Root of your project.\n"
   ]
  },
  {
   "cell_type": "code",
   "execution_count": 24,
   "id": "beb1de23-e207-42a7-9513-05e5f1b794d8",
   "metadata": {},
   "outputs": [
    {
     "name": "stdout",
     "output_type": "stream",
     "text": [
      "Requirement already satisfied: hatch in c:\\users\\sambridhi shrestha\\appdata\\local\\programs\\python\\python312\\lib\\site-packages (1.14.1)\n",
      "Requirement already satisfied: click>=8.0.6 in c:\\users\\sambridhi shrestha\\appdata\\local\\programs\\python\\python312\\lib\\site-packages (from hatch) (8.2.1)\n",
      "Requirement already satisfied: hatchling>=1.26.3 in c:\\users\\sambridhi shrestha\\appdata\\local\\programs\\python\\python312\\lib\\site-packages (from hatch) (1.27.0)\n",
      "Requirement already satisfied: httpx>=0.22.0 in c:\\users\\sambridhi shrestha\\appdata\\local\\programs\\python\\python312\\lib\\site-packages (from hatch) (0.28.1)\n",
      "Requirement already satisfied: hyperlink>=21.0.0 in c:\\users\\sambridhi shrestha\\appdata\\local\\programs\\python\\python312\\lib\\site-packages (from hatch) (21.0.0)\n",
      "Requirement already satisfied: keyring>=23.5.0 in c:\\users\\sambridhi shrestha\\appdata\\local\\programs\\python\\python312\\lib\\site-packages (from hatch) (25.6.0)\n",
      "Requirement already satisfied: packaging>=23.2 in c:\\users\\sambridhi shrestha\\appdata\\local\\programs\\python\\python312\\lib\\site-packages (from hatch) (24.2)\n",
      "Requirement already satisfied: pexpect~=4.8 in c:\\users\\sambridhi shrestha\\appdata\\local\\programs\\python\\python312\\lib\\site-packages (from hatch) (4.9.0)\n",
      "Requirement already satisfied: platformdirs>=2.5.0 in c:\\users\\sambridhi shrestha\\appdata\\local\\programs\\python\\python312\\lib\\site-packages (from hatch) (4.3.6)\n",
      "Requirement already satisfied: rich>=11.2.0 in c:\\users\\sambridhi shrestha\\appdata\\local\\programs\\python\\python312\\lib\\site-packages (from hatch) (14.1.0)\n",
      "Requirement already satisfied: shellingham>=1.4.0 in c:\\users\\sambridhi shrestha\\appdata\\local\\programs\\python\\python312\\lib\\site-packages (from hatch) (1.5.4)\n",
      "Requirement already satisfied: tomli-w>=1.0 in c:\\users\\sambridhi shrestha\\appdata\\local\\programs\\python\\python312\\lib\\site-packages (from hatch) (1.2.0)\n",
      "Requirement already satisfied: tomlkit>=0.11.1 in c:\\users\\sambridhi shrestha\\appdata\\local\\programs\\python\\python312\\lib\\site-packages (from hatch) (0.13.3)\n",
      "Requirement already satisfied: userpath~=1.7 in c:\\users\\sambridhi shrestha\\appdata\\local\\programs\\python\\python312\\lib\\site-packages (from hatch) (1.9.2)\n",
      "Requirement already satisfied: uv>=0.5.23 in c:\\users\\sambridhi shrestha\\appdata\\local\\programs\\python\\python312\\lib\\site-packages (from hatch) (0.8.6)\n",
      "Requirement already satisfied: virtualenv>=20.26.6 in c:\\users\\sambridhi shrestha\\appdata\\local\\programs\\python\\python312\\lib\\site-packages (from hatch) (20.33.1)\n",
      "Requirement already satisfied: zstandard<1 in c:\\users\\sambridhi shrestha\\appdata\\local\\programs\\python\\python312\\lib\\site-packages (from hatch) (0.23.0)\n",
      "Requirement already satisfied: ptyprocess>=0.5 in c:\\users\\sambridhi shrestha\\appdata\\local\\programs\\python\\python312\\lib\\site-packages (from pexpect~=4.8->hatch) (0.7.0)\n",
      "Requirement already satisfied: colorama in c:\\users\\sambridhi shrestha\\appdata\\local\\programs\\python\\python312\\lib\\site-packages (from click>=8.0.6->hatch) (0.4.6)\n",
      "Requirement already satisfied: pathspec>=0.10.1 in c:\\users\\sambridhi shrestha\\appdata\\local\\programs\\python\\python312\\lib\\site-packages (from hatchling>=1.26.3->hatch) (0.12.1)\n",
      "Requirement already satisfied: pluggy>=1.0.0 in c:\\users\\sambridhi shrestha\\appdata\\local\\programs\\python\\python312\\lib\\site-packages (from hatchling>=1.26.3->hatch) (1.6.0)\n",
      "Requirement already satisfied: trove-classifiers in c:\\users\\sambridhi shrestha\\appdata\\local\\programs\\python\\python312\\lib\\site-packages (from hatchling>=1.26.3->hatch) (2025.8.6.13)\n",
      "Requirement already satisfied: anyio in c:\\users\\sambridhi shrestha\\appdata\\local\\programs\\python\\python312\\lib\\site-packages (from httpx>=0.22.0->hatch) (4.8.0)\n",
      "Requirement already satisfied: certifi in c:\\users\\sambridhi shrestha\\appdata\\local\\programs\\python\\python312\\lib\\site-packages (from httpx>=0.22.0->hatch) (2025.7.14)\n",
      "Requirement already satisfied: httpcore==1.* in c:\\users\\sambridhi shrestha\\appdata\\local\\programs\\python\\python312\\lib\\site-packages (from httpx>=0.22.0->hatch) (1.0.7)\n",
      "Requirement already satisfied: idna in c:\\users\\sambridhi shrestha\\appdata\\local\\programs\\python\\python312\\lib\\site-packages (from httpx>=0.22.0->hatch) (3.10)\n",
      "Requirement already satisfied: h11<0.15,>=0.13 in c:\\users\\sambridhi shrestha\\appdata\\local\\programs\\python\\python312\\lib\\site-packages (from httpcore==1.*->httpx>=0.22.0->hatch) (0.14.0)\n",
      "Requirement already satisfied: pywin32-ctypes>=0.2.0 in c:\\users\\sambridhi shrestha\\appdata\\local\\programs\\python\\python312\\lib\\site-packages (from keyring>=23.5.0->hatch) (0.2.3)\n",
      "Requirement already satisfied: jaraco.classes in c:\\users\\sambridhi shrestha\\appdata\\local\\programs\\python\\python312\\lib\\site-packages (from keyring>=23.5.0->hatch) (3.4.0)\n",
      "Requirement already satisfied: jaraco.functools in c:\\users\\sambridhi shrestha\\appdata\\local\\programs\\python\\python312\\lib\\site-packages (from keyring>=23.5.0->hatch) (4.2.1)\n",
      "Requirement already satisfied: jaraco.context in c:\\users\\sambridhi shrestha\\appdata\\local\\programs\\python\\python312\\lib\\site-packages (from keyring>=23.5.0->hatch) (6.0.1)\n",
      "Requirement already satisfied: markdown-it-py>=2.2.0 in c:\\users\\sambridhi shrestha\\appdata\\local\\programs\\python\\python312\\lib\\site-packages (from rich>=11.2.0->hatch) (3.0.0)\n",
      "Requirement already satisfied: pygments<3.0.0,>=2.13.0 in c:\\users\\sambridhi shrestha\\appdata\\local\\programs\\python\\python312\\lib\\site-packages (from rich>=11.2.0->hatch) (2.19.1)\n",
      "Requirement already satisfied: mdurl~=0.1 in c:\\users\\sambridhi shrestha\\appdata\\local\\programs\\python\\python312\\lib\\site-packages (from markdown-it-py>=2.2.0->rich>=11.2.0->hatch) (0.1.2)\n",
      "Requirement already satisfied: distlib<1,>=0.3.7 in c:\\users\\sambridhi shrestha\\appdata\\local\\programs\\python\\python312\\lib\\site-packages (from virtualenv>=20.26.6->hatch) (0.4.0)\n",
      "Requirement already satisfied: filelock<4,>=3.12.2 in c:\\users\\sambridhi shrestha\\appdata\\local\\programs\\python\\python312\\lib\\site-packages (from virtualenv>=20.26.6->hatch) (3.18.0)\n",
      "Requirement already satisfied: sniffio>=1.1 in c:\\users\\sambridhi shrestha\\appdata\\local\\programs\\python\\python312\\lib\\site-packages (from anyio->httpx>=0.22.0->hatch) (1.3.1)\n",
      "Requirement already satisfied: typing_extensions>=4.5 in c:\\users\\sambridhi shrestha\\appdata\\local\\programs\\python\\python312\\lib\\site-packages (from anyio->httpx>=0.22.0->hatch) (4.14.1)\n",
      "Requirement already satisfied: more-itertools in c:\\users\\sambridhi shrestha\\appdata\\local\\programs\\python\\python312\\lib\\site-packages (from jaraco.classes->keyring>=23.5.0->hatch) (10.7.0)\n"
     ]
    }
   ],
   "source": [
    "! pip install hatch"
   ]
  },
  {
   "cell_type": "code",
   "execution_count": 44,
   "id": "f7b67a4e-1a1d-4cd8-8fce-eb4c8dac2681",
   "metadata": {},
   "outputs": [
    {
     "name": "stdout",
     "output_type": "stream",
     "text": [
      "Overwriting pyproject.toml\n"
     ]
    }
   ],
   "source": [
    "%%writefile pyproject.toml\n",
    "[build-system]\n",
    "requires = [\"setuptools>=61.0\", \"wheel\"]\n",
    "build-backend = \"setuptools.build_meta\"\n",
    "\n",
    "[project]\n",
    "name = \"my_package\"\n",
    "version = \"0.1.0\"\n",
    "description = \"My example package built with pyproject.toml\"\n",
    "authors = [\n",
    "    { name = \"Sambridhi\", email = \"sam7@gmail.com\" }\n",
    "]\n",
    "readme = \"README.md\"\n",
    "requires-python = \">=3.6\"\n",
    "license = { text = \"MIT\" }\n",
    "classifiers = [\n",
    "    \"Programming Language :: Python :: 3\",\n",
    "    \"License :: OSI Approved :: MIT License\",\n",
    "    \"Operating System :: OS Independent\"\n",
    "]\n",
    "\n",
    "dependencies = [\n",
    "    # Example: \"requests>=2.25.1\"\n",
    "]\n",
    "\n",
    "[project.urls]\n",
    "Homepage = \"https://your-homepage.example.com\""
   ]
  },
  {
   "cell_type": "markdown",
   "id": "6a4c493d-7ad6-4df7-9db5-379e125cc192",
   "metadata": {},
   "source": [
    "# 25.Code Quality and Automation"
   ]
  },
  {
   "cell_type": "markdown",
   "id": "64d4c1c1-313a-4342-8dcf-1ab392996457",
   "metadata": {},
   "source": [
    "-> Code quality refers to the characteristics that make code easy to understand, maintain, and extend. "
   ]
  },
  {
   "cell_type": "markdown",
   "id": "c4d649bf-b90c-4857-a6f0-290d2e2d325f",
   "metadata": {},
   "source": [
    "# Linters (flake8,pylint)"
   ]
  },
  {
   "cell_type": "markdown",
   "id": "6a475009-34e5-4958-b574-a28ab4a2581c",
   "metadata": {},
   "source": [
    "## What is it: 🧐  \n",
    "   Linters analyze your code without running it to detect:\n",
    "\n",
    "### They find: 🔍  \n",
    "   - Syntax errors  \n",
    "   - Code style violations (PEP 8, etc.)  \n",
    "   - Possible bugs or bad practices  \n",
    "   - Unused imports and variables  \n",
    "   - Complexity warnings\n"
   ]
  },
  {
   "cell_type": "markdown",
   "id": "9385b04a-d3e2-43df-affc-68e1fc031986",
   "metadata": {},
   "source": [
    "# flake8"
   ]
  },
  {
   "cell_type": "markdown",
   "id": "c4c1d7bd-14bc-4e31-a34a-4932719dd7bc",
   "metadata": {},
   "source": [
    "### 📌 What:\n",
    "   flake8 is a Python tool that combines PyFlakes, pycodestyle (formerly pep8), and McCabe complexity checker to check your code for style violations, logical errors, and complexity.\n",
    "\n",
    "### 🤔 Why use it: \n",
    "   - Enforces PEP 8 style guidelines  \n",
    "   - Detects syntax errors and undefined names  \n",
    "   - Checks code complexity to avoid overly complex functions  \n",
    "   - Helps maintain clean and readable code  \n",
    "   - Easy to integrate with editors and CI pipelines\n",
    "\n",
    "### 📍 Where to use:\n",
    "   - Run from the command line (`flake8 yourfile.py`)  \n",
    "   - Integrated into IDEs and code editors for real-time feedback  \n",
    "   - Used in Continuous Integration to automatically check code style  \n",
    "   - Useful in pre-commit hooks to prevent committing bad code\n"
   ]
  },
  {
   "cell_type": "code",
   "execution_count": 48,
   "id": "6d862043-fd96-40ba-b193-dc71de894330",
   "metadata": {},
   "outputs": [],
   "source": [
    "#python -m pip install flake8 (do this in terminal)"
   ]
  },
  {
   "cell_type": "code",
   "execution_count": 52,
   "id": "0c53a9e6-20c9-4275-9656-a1c6b5e1fc0d",
   "metadata": {},
   "outputs": [
    {
     "name": "stdout",
     "output_type": "stream",
     "text": [
      "test.py:5:1: E302 expected 2 blank lines, found 1\n"
     ]
    }
   ],
   "source": [
    "!flake8 test.py"
   ]
  },
  {
   "cell_type": "markdown",
   "id": "3036b6ee-1612-4381-9a36-89b895cc22ff",
   "metadata": {},
   "source": [
    "# pylint"
   ]
  },
  {
   "cell_type": "markdown",
   "id": "83f01844-9853-4cc2-acdb-5c95e63c5f5a",
   "metadata": {},
   "source": [
    "### 📌 What:\n",
    "   Static code analyzer for Python that checks errors, style, and code smells.\n",
    "\n",
    "### 💡Why use it:  \n",
    "   - Catches bugs and issues before runtime  \n",
    "   - Enforces coding standards (PEP 8)  \n",
    "   - Detects unused variables, imports, and bad practices  \n",
    "   - Highly configurable and extensible\n",
    "\n",
    "### 📍 **Where to use:**  \n",
    "   - Command line (`pylint yourfile.py`)  \n",
    "   - Integrated in IDEs (VS Code, PyCharm, etc.)  \n",
    "   - In CI/CD pipelines for automated quality checks  \n",
    "   - During code reviews to maintain code quality\n"
   ]
  },
  {
   "cell_type": "code",
   "execution_count": 49,
   "id": "1c3018fa-c24b-4688-ae46-ebad18726174",
   "metadata": {},
   "outputs": [],
   "source": [
    "code = \"\"\"a = 1\n",
    "b = 2\n",
    "print(a + b)\n",
    "\"\"\"\n",
    "\n",
    "with open(\"pylint.py\", \"w\") as f:\n",
    "    f.write(code)"
   ]
  },
  {
   "cell_type": "code",
   "execution_count": 54,
   "id": "b5c0a171-3f01-41a7-aea5-4c69741dfbaa",
   "metadata": {
    "scrolled": true
   },
   "outputs": [
    {
     "name": "stdout",
     "output_type": "stream",
     "text": [
      "************* Module pylint\n",
      "pylint.py:1:0: C0114: Missing module docstring (missing-module-docstring)\n",
      "pylint.py:1:0: C0103: Constant name \"a\" doesn't conform to UPPER_CASE naming style (invalid-name)\n",
      "pylint.py:2:0: C0103: Constant name \"b\" doesn't conform to UPPER_CASE naming style (invalid-name)\n",
      "\n",
      "-----------------------------------\n",
      "Your code has been rated at 0.00/10\n",
      "\n"
     ]
    }
   ],
   "source": [
    "!pylint pylint.py"
   ]
  },
  {
   "cell_type": "markdown",
   "id": "00e39af6-820b-4486-8059-877f37142021",
   "metadata": {},
   "source": [
    "# Fromatters (black,isort)"
   ]
  },
  {
   "cell_type": "markdown",
   "id": "2860eee3-778b-45fa-83cc-c911420b73d5",
   "metadata": {},
   "source": [
    "# black"
   ]
  },
  {
   "cell_type": "markdown",
   "id": "82ce1105-5b3d-4daa-af21-9450e277756c",
   "metadata": {},
   "source": [
    "### 📌What is Black?  \n",
    "Black is an automatic Python code formatter that reformats your code to a consistent style.  \n",
    "\n",
    "### 💡 Why use Black?  \n",
    "- Consistency: Code looks the same everywhere.  \n",
    "- Saves time: No manual whitespace or indentation fixes.  \n",
    "- No style arguments: Just run Black and move on.  \n",
    "- Integrates well: Works with editors, pre-commit hooks, CI pipelines.\n",
    "\n",
    "### 📍 Where to use Black?  \n",
    "- Run locally before committing.  \n",
    "- Add to CI/CD for formatting checks.  \n",
    "- Integrate with IDEs (VS Code, PyCharm) for on-save formatting.  \n",
    "- Use as a pre-commit hook to auto-format staged files.\n"
   ]
  },
  {
   "cell_type": "code",
   "execution_count": 92,
   "id": "621ed09c-0e2e-45cb-8e29-64ed7dca2b32",
   "metadata": {},
   "outputs": [
    {
     "name": "stdout",
     "output_type": "stream",
     "text": [
      "Requirement already satisfied: black in c:\\users\\sambridhi shrestha\\appdata\\local\\programs\\python\\python312\\lib\\site-packages (25.1.0)\n",
      "Requirement already satisfied: click>=8.0.0 in c:\\users\\sambridhi shrestha\\appdata\\local\\programs\\python\\python312\\lib\\site-packages (from black) (8.2.1)\n",
      "Requirement already satisfied: mypy-extensions>=0.4.3 in c:\\users\\sambridhi shrestha\\appdata\\local\\programs\\python\\python312\\lib\\site-packages (from black) (1.1.0)\n",
      "Requirement already satisfied: packaging>=22.0 in c:\\users\\sambridhi shrestha\\appdata\\local\\programs\\python\\python312\\lib\\site-packages (from black) (24.2)\n",
      "Requirement already satisfied: pathspec>=0.9.0 in c:\\users\\sambridhi shrestha\\appdata\\local\\programs\\python\\python312\\lib\\site-packages (from black) (0.12.1)\n",
      "Requirement already satisfied: platformdirs>=2 in c:\\users\\sambridhi shrestha\\appdata\\local\\programs\\python\\python312\\lib\\site-packages (from black) (4.3.6)\n",
      "Requirement already satisfied: colorama in c:\\users\\sambridhi shrestha\\appdata\\local\\programs\\python\\python312\\lib\\site-packages (from click>=8.0.0->black) (0.4.6)\n"
     ]
    }
   ],
   "source": [
    "!pip install black"
   ]
  },
  {
   "cell_type": "code",
   "execution_count": 93,
   "id": "dc7bd722-35fa-4a3b-8be9-cdfaa988d907",
   "metadata": {
    "scrolled": true
   },
   "outputs": [],
   "source": [
    "# Create a messy Python file for formatting\n",
    "code = \"\"\"\n",
    "import numpy as np\n",
    "import sys\n",
    "from numpy import arange,argmax\n",
    "def addition(a   ,       b):\n",
    "    ans=a+      b\n",
    "    \n",
    "    return ans\n",
    "def subtraction(a   ,       b):\n",
    "    ans=a      -      b\n",
    "    return ans\n",
    "a = arange(5)\n",
    "print(a)\n",
    "print(argmax(a))\n",
    "\"\"\"\n",
    "\n",
    "# Save to test.py\n",
    "with open(\"black.py\", \"w\") as f:\n",
    "    f.write(code)"
   ]
  },
  {
   "cell_type": "code",
   "execution_count": 94,
   "id": "9b357d12-3ed6-4a3f-a399-dfe301be2936",
   "metadata": {
    "scrolled": true
   },
   "outputs": [
    {
     "name": "stdout",
     "output_type": "stream",
     "text": [
      "\n",
      "import numpy as np\n",
      "import sys\n",
      "from numpy import arange,argmax\n",
      "def addition(a   ,       b):\n",
      "    ans=a+      b\n",
      "    \n",
      "    return ans\n",
      "def subtraction(a   ,       b):\n",
      "    ans=a      -      b\n",
      "    return ans\n",
      "a = arange(5)\n",
      "print(a)\n",
      "print(argmax(a))\n",
      "\n"
     ]
    }
   ],
   "source": [
    "# Display the original unformatted code\n",
    "with open(\"black.py\", \"r\") as f:\n",
    "    print(f.read())\n"
   ]
  },
  {
   "cell_type": "code",
   "execution_count": 95,
   "id": "d1cdad95-8306-4e44-8113-1e0f9891fc49",
   "metadata": {},
   "outputs": [
    {
     "name": "stderr",
     "output_type": "stream",
     "text": [
      "reformatted black.py\n",
      "\n",
      "All done! \\u2728 \\U0001f370 \\u2728\n",
      "1 file reformatted.\n"
     ]
    }
   ],
   "source": [
    "# Format the code file with Black\n",
    "!black black.py\n"
   ]
  },
  {
   "cell_type": "code",
   "execution_count": 96,
   "id": "581ac278-f073-4c1f-8ad8-92d33ddba16b",
   "metadata": {},
   "outputs": [
    {
     "name": "stdout",
     "output_type": "stream",
     "text": [
      "import numpy as np\n",
      "import sys\n",
      "from numpy import arange, argmax\n",
      "\n",
      "\n",
      "def addition(a, b):\n",
      "    ans = a + b\n",
      "\n",
      "    return ans\n",
      "\n",
      "\n",
      "def subtraction(a, b):\n",
      "    ans = a - b\n",
      "    return ans\n",
      "\n",
      "\n",
      "a = arange(5)\n",
      "print(a)\n",
      "print(argmax(a))\n",
      "\n"
     ]
    }
   ],
   "source": [
    "# Display the code after Black formatting\n",
    "with open(\"black.py\", \"r\") as f:\n",
    "    print(f.read())\n"
   ]
  },
  {
   "cell_type": "markdown",
   "id": "7a7a569d-5711-490b-873d-1ee986b4f0b8",
   "metadata": {},
   "source": [
    "# Isort"
   ]
  },
  {
   "cell_type": "markdown",
   "id": "c33f16f8-6dad-4759-b1da-9fdee4618dbf",
   "metadata": {},
   "source": [
    "### 📌What is isort?\n",
    "`isort` automatically sorts and groups Python import statements:  \n",
    "- Standard library  \n",
    "- Third-party packages  \n",
    "- Local imports  \n",
    "\n",
    "### 💡 Why use isort?\n",
    "- Keeps imports tidy and consistent\n",
    "- Makes dependency lines easier to read and review\n",
    "- Prevents merge conflicts caused by different import ordering\n",
    "- Works well with Black → `--profile black`\n",
    "\n",
    "## 📍 Where to use isort?\n",
    "- Locally before commit – format staged files\n",
    "- In CI – check import order with:\n",
    "  ```bash\n",
    "  isort --check-only\n"
   ]
  },
  {
   "cell_type": "code",
   "execution_count": 97,
   "id": "5aab2ee1-c97b-422e-823f-9b4691caef82",
   "metadata": {},
   "outputs": [
    {
     "name": "stdout",
     "output_type": "stream",
     "text": [
      "Requirement already satisfied: isort in c:\\users\\sambridhi shrestha\\appdata\\local\\programs\\python\\python312\\lib\\site-packages (6.0.1)\n"
     ]
    }
   ],
   "source": [
    "# Install isort in Jupyter Notebook\n",
    "!pip install isort\n"
   ]
  },
  {
   "cell_type": "code",
   "execution_count": 99,
   "id": "1f55a6c2-beea-4eae-a03c-e779ed043b2e",
   "metadata": {},
   "outputs": [],
   "source": [
    "# Create a messy Python file with imports in random order\n",
    "code = \"\"\"\n",
    "import numpy as np\n",
    "import sys\n",
    "from numpy import arange,argmax\n",
    "def addition(a   ,       b):\n",
    "    ans=a+      b\n",
    "    return ans\n",
    "def subtraction(a   ,       b):\n",
    "    ans=a      -      b\n",
    "    return ans\n",
    "a = arange(5)\n",
    "print(a)\n",
    "print(argmax(a))\n",
    "\"\"\"\n",
    "\n",
    "# Save to test.py\n",
    "with open(\"isort.py\", \"w\") as f:\n",
    "    f.write(code)"
   ]
  },
  {
   "cell_type": "code",
   "execution_count": 104,
   "id": "8e505f5d-bad3-43f5-8fe0-8f648657b557",
   "metadata": {},
   "outputs": [
    {
     "name": "stdout",
     "output_type": "stream",
     "text": [
      "\n",
      "import numpy as np\n",
      "import sys\n",
      "from numpy import arange,argmax\n",
      "def addition(a   ,       b):\n",
      "    ans=a+      b\n",
      "    return ans\n",
      "def subtraction(a   ,       b):\n",
      "    ans=a      -      b\n",
      "    return ans\n",
      "a = arange(5)\n",
      "print(a)\n",
      "print(argmax(a))\n",
      "\n"
     ]
    }
   ],
   "source": [
    "# Display the original code before sorting imports\n",
    "with open(\"isort.py\", \"r\") as f:\n",
    "    print(f.read())\n"
   ]
  },
  {
   "cell_type": "code",
   "execution_count": 107,
   "id": "16d38ad1-acc3-4dd2-aabb-8a298a5400a5",
   "metadata": {},
   "outputs": [],
   "source": [
    "!isort isort.py"
   ]
  },
  {
   "cell_type": "code",
   "execution_count": 108,
   "id": "b3c817fb-fe2d-448d-877f-e24634bee6af",
   "metadata": {},
   "outputs": [
    {
     "name": "stdout",
     "output_type": "stream",
     "text": [
      "\n",
      "import sys\n",
      "\n",
      "import numpy as np\n",
      "from numpy import arange, argmax\n",
      "\n",
      "\n",
      "def addition(a   ,       b):\n",
      "    ans=a+      b\n",
      "    return ans\n",
      "def subtraction(a   ,       b):\n",
      "    ans=a      -      b\n",
      "    return ans\n",
      "a = arange(5)\n",
      "print(a)\n",
      "print(argmax(a))\n",
      "\n"
     ]
    }
   ],
   "source": [
    "# Display the code after sorting imports\n",
    "with open(\"isort.py\", \"r\") as f:\n",
    "    print(f.read())\n"
   ]
  },
  {
   "cell_type": "markdown",
   "id": "aca5bc46-e89b-444d-a874-8be966357c13",
   "metadata": {},
   "source": [
    "## Pre-commit hooks"
   ]
  },
  {
   "cell_type": "markdown",
   "id": "2830bf02-2f6f-46b5-b1f4-533bcd091dba",
   "metadata": {},
   "source": [
    "### 📌 What is Pre-commit?  \n",
    "Pre-commit is a framework for managing and maintaining multi-language pre-commit hooks. These hooks run automatically before each commit to catch issues early.\n",
    "\n",
    "### 💡 Why use Pre-commit?  \n",
    "- Catch errors early: Prevent bad code, formatting errors, or security issues from entering the codebase.  \n",
    "- Save time: Automate repetitive tasks like formatting, linting, or running tests before committing.  \n",
    "- Enforce consistency: Ensure code style and quality standards are always followed.  \n",
    "- Improve collaboration: Make sure all contributors run the same checks regardless of their environment.\n",
    "\n",
    "### 📍 Where to use Pre-commit?  \n",
    "- In local development environments to run checks before committing code.  \n",
    "- Integrated in Continuous Integration (CI) pipelines for automated code quality enforcement.  \n",
    "- In code repositories that want to enforce standards and reduce bugs before code merges.\n"
   ]
  },
  {
   "cell_type": "code",
   "execution_count": null,
   "id": "9b3ad5ac-0629-4fa9-a133-41890214304c",
   "metadata": {},
   "outputs": [],
   "source": []
  },
  {
   "cell_type": "code",
   "execution_count": 128,
   "id": "49ea5b57-3024-43f1-9c88-795d1c41db4f",
   "metadata": {
    "scrolled": true
   },
   "outputs": [
    {
     "name": "stdout",
     "output_type": "stream",
     "text": [
      "Requirement already satisfied: pre-commit in c:\\users\\sambridhi shrestha\\appdata\\local\\programs\\python\\python312\\lib\\site-packages (4.2.0)\n",
      "Requirement already satisfied: cfgv>=2.0.0 in c:\\users\\sambridhi shrestha\\appdata\\local\\programs\\python\\python312\\lib\\site-packages (from pre-commit) (3.4.0)\n",
      "Requirement already satisfied: identify>=1.0.0 in c:\\users\\sambridhi shrestha\\appdata\\local\\programs\\python\\python312\\lib\\site-packages (from pre-commit) (2.6.12)\n",
      "Requirement already satisfied: nodeenv>=0.11.1 in c:\\users\\sambridhi shrestha\\appdata\\local\\programs\\python\\python312\\lib\\site-packages (from pre-commit) (1.9.1)\n",
      "Requirement already satisfied: pyyaml>=5.1 in c:\\users\\sambridhi shrestha\\appdata\\local\\programs\\python\\python312\\lib\\site-packages (from pre-commit) (6.0.2)\n",
      "Requirement already satisfied: virtualenv>=20.10.0 in c:\\users\\sambridhi shrestha\\appdata\\local\\programs\\python\\python312\\lib\\site-packages (from pre-commit) (20.33.1)\n",
      "Requirement already satisfied: distlib<1,>=0.3.7 in c:\\users\\sambridhi shrestha\\appdata\\local\\programs\\python\\python312\\lib\\site-packages (from virtualenv>=20.10.0->pre-commit) (0.4.0)\n",
      "Requirement already satisfied: filelock<4,>=3.12.2 in c:\\users\\sambridhi shrestha\\appdata\\local\\programs\\python\\python312\\lib\\site-packages (from virtualenv>=20.10.0->pre-commit) (3.18.0)\n",
      "Requirement already satisfied: platformdirs<5,>=3.9.1 in c:\\users\\sambridhi shrestha\\appdata\\local\\programs\\python\\python312\\lib\\site-packages (from virtualenv>=20.10.0->pre-commit) (4.3.6)\n"
     ]
    }
   ],
   "source": [
    "! pip install pre-commit\n"
   ]
  },
  {
   "cell_type": "code",
   "execution_count": 129,
   "id": "1a7ff4a3-9f82-4dd2-ad5e-12018838d0da",
   "metadata": {},
   "outputs": [
    {
     "name": "stdout",
     "output_type": "stream",
     "text": [
      ".pre-commit-config.yaml created successfully!\n"
     ]
    }
   ],
   "source": [
    "config_content = \"\"\"\n",
    "repos:\n",
    "-   repo: https://github.com/pre-commit/pre-commit-hooks\n",
    "    rev: v4.5.0\n",
    "    hooks:\n",
    "    -   id: trailing-whitespace\n",
    "    -   id: end-of-file-fixer\n",
    "    -   id: check-yaml\n",
    "-   repo: https://github.com/psf/black-pre-commit-mirror\n",
    "    rev: 24.1.1\n",
    "    hooks:\n",
    "    -   id: black\n",
    "        language_version: python3.11\n",
    "        args: [\"--line-length=79\"]\n",
    "-   repo: https://github.com/pycqa/isort\n",
    "    rev: 5.13.2\n",
    "    hooks:\n",
    "    -   id: isort\n",
    "-   repo: https://github.com/pycqa/flake8\n",
    "    rev: 7.0.0\n",
    "    hooks:\n",
    "    -   id: flake8\n",
    "\"\"\"\n",
    "\n",
    "# Write the config file to the current directory\n",
    "with open(\".pre-commit-config.yaml\", \"w\") as file:\n",
    "    file.write(config_content)\n",
    "\n",
    "print(\".pre-commit-config.yaml created successfully!\")\n"
   ]
  },
  {
   "cell_type": "code",
   "execution_count": 130,
   "id": "26a3f608-10d5-4815-8a2a-7e271d590c54",
   "metadata": {},
   "outputs": [
    {
     "name": "stdout",
     "output_type": "stream",
     "text": [
      "pre-commit installed at .git\\hooks\\pre-commit\n"
     ]
    }
   ],
   "source": [
    "!pre-commit install"
   ]
  },
  {
   "cell_type": "code",
   "execution_count": 131,
   "id": "c678e069-83a0-451c-832c-28da4caca210",
   "metadata": {},
   "outputs": [
    {
     "name": "stdout",
     "output_type": "stream",
     "text": [
      "[INFO] Installing environment for https://github.com/psf/black-pre-commit-mirror.\n",
      "[INFO] Once installed this environment will be reused.\n",
      "[INFO] This may take a few minutes...\n",
      "An unexpected error has occurred: CalledProcessError: command: ('C:\\\\Users\\\\Sambridhi Shrestha\\\\AppData\\\\Local\\\\Programs\\\\Python\\\\Python312\\\\python.exe', '-mvirtualenv', 'C:\\\\Users\\\\Sambridhi Shrestha\\\\.cache\\\\pre-commit\\\\repo84g6rx_9\\\\py_env-python3.11', '-p', 'python3.11')\n",
      "return code: 1\n",
      "stdout:\n",
      "    RuntimeError: failed to find interpreter for Builtin discover of python_spec='python3.11'\n",
      "stderr: (none)\n",
      "Check the log at C:\\Users\\Sambridhi Shrestha\\.cache\\pre-commit\\pre-commit.log\n"
     ]
    }
   ],
   "source": [
    "!pre-commit run --all-files\n"
   ]
  },
  {
   "cell_type": "markdown",
   "id": "74680f4d-e4eb-4bd3-a6ab-3513a03b6644",
   "metadata": {},
   "source": [
    "# 26.Python Internals (Theory)\n",
    "\n",
    "### 🎯 1. Bytecode and CPython Interpreter\n",
    "- Python code is compiled into bytecode, a platform-independent, low-level set of instructions.\n",
    "- CPython executes this bytecode via a virtual machine.\n",
    "- Bytecode enables portability and faster execution.\n",
    "- `.pyc` files store compiled bytecode.\n",
    "\n",
    "---\n",
    "\n",
    "### 🎯 2. Global Interpreter Lock (GIL)\n",
    "- A mutex that allows only one thread to execute Python bytecode at a time.\n",
    "- Ensures thread safety and simplifies memory management.\n",
    "- Limits true parallelism for CPU-bound threads.\n",
    "- I/O-bound threads and multiprocessing can bypass GIL limitations.\n",
    "\n",
    "---\n",
    "\n",
    "### 🎯 3. Memory Model and Object Lifecycle\n",
    "- Python manages memory in a private heap.\n",
    "- Uses reference counting to track object usage; objects are deleted when references drop to zero.\n",
    "- Garbage collector handles cyclic references.\n",
    "- Object lifecycle: creation → usage → deletion.\n"
   ]
  },
  {
   "cell_type": "code",
   "execution_count": 3,
   "id": "b7c45901-e416-4438-8dd9-a653c91f35d8",
   "metadata": {},
   "outputs": [
    {
     "name": "stdout",
     "output_type": "stream",
     "text": [
      "  4           0 RESUME                   0\n",
      "\n",
      "  5           2 LOAD_FAST                0 (a)\n",
      "              4 LOAD_FAST                1 (b)\n",
      "              6 BINARY_OP                0 (+)\n",
      "             10 RETURN_VALUE\n"
     ]
    }
   ],
   "source": [
    "## byte code\n",
    "import dis\n",
    "\n",
    "def add(a, b):\n",
    "    return a + b\n",
    "\n",
    "dis.dis(add)"
   ]
  },
  {
   "cell_type": "code",
   "execution_count": 15,
   "id": "b661f1d2-e9fd-4e06-960b-74e5fe0974ff",
   "metadata": {},
   "outputs": [
    {
     "name": "stdout",
     "output_type": "stream",
     "text": [
      "Time taken with threads: 5.01 seconds\n"
     ]
    }
   ],
   "source": [
    "## GIL using multithreading\n",
    "import threading\n",
    "import time\n",
    "\n",
    "def cpu_bound_task():\n",
    "    x = 0\n",
    "    for _ in range(10**7):\n",
    "        x += 1\n",
    "\n",
    "start = time.time()\n",
    "\n",
    "threads = []\n",
    "for _ in range(2):  # Two threads\n",
    "    t = threading.Thread(target=cpu_bound_task)\n",
    "    t.start()\n",
    "    threads.append(t)\n",
    "\n",
    "for t in threads:\n",
    "    t.join()\n",
    "\n",
    "end = time.time()\n",
    "print(f\"Time taken with threads: {end - start:.2f} seconds\")"
   ]
  },
  {
   "cell_type": "code",
   "execution_count": 21,
   "id": "e8d9acf9-dec0-40f5-9876-6d39b15fda69",
   "metadata": {},
   "outputs": [],
   "source": [
    "gil_demo = \"\"\"from multiprocessing import Process\n",
    "import time\n",
    "\n",
    "def cpu_bound_task():\n",
    "    x = 0\n",
    "    for _ in range(10**7):\n",
    "        x += 1\n",
    "\n",
    "if __name__ == \"__main__\":\n",
    "    start = time.time()\n",
    "\n",
    "    processes = []\n",
    "    for _ in range(2):\n",
    "        p = Process(target=cpu_bound_task)\n",
    "        p.start()\n",
    "        processes.append(p)\n",
    "\n",
    "    for p in processes:\n",
    "        p.join()\n",
    "\n",
    "    end = time.time()\n",
    "    print(f\"Time taken with processes: {end - start:.2f} seconds\")\"\"\"\n",
    "\n",
    "with open(\"gil_demo.py\", \"w\") as g:\n",
    "    g.write(gil_demo)"
   ]
  },
  {
   "cell_type": "code",
   "execution_count": 18,
   "id": "e6816efd-be36-4e2e-a81f-54335a86b995",
   "metadata": {},
   "outputs": [
    {
     "name": "stdout",
     "output_type": "stream",
     "text": [
      "Time taken with processes: 0.29 seconds\n"
     ]
    }
   ],
   "source": [
    "# error due to execution in jupyter notebook\n",
    "from multiprocessing import Process\n",
    "import time\n",
    "\n",
    "def cpu_bound_task():\n",
    "    x = 0\n",
    "    for _ in range(10**7):\n",
    "        x += 1\n",
    "\n",
    "if __name__ == \"__main__\":\n",
    "    start = time.time()\n",
    "\n",
    "    processes = []\n",
    "    for _ in range(2):\n",
    "        p = Process(target=cpu_bound_task)\n",
    "        p.start()\n",
    "        processes.append(p)\n",
    "\n",
    "    for p in processes:\n",
    "        p.join()\n",
    "\n",
    "    end = time.time()\n",
    "    print(f\"Time taken with processes: {end - start:.2f} seconds\")"
   ]
  }
 ],
 "metadata": {
  "kernelspec": {
   "display_name": "Python 3 (ipykernel)",
   "language": "python",
   "name": "python3"
  },
  "language_info": {
   "codemirror_mode": {
    "name": "ipython",
    "version": 3
   },
   "file_extension": ".py",
   "mimetype": "text/x-python",
   "name": "python",
   "nbconvert_exporter": "python",
   "pygments_lexer": "ipython3",
   "version": "3.12.8"
  }
 },
 "nbformat": 4,
 "nbformat_minor": 5
}
