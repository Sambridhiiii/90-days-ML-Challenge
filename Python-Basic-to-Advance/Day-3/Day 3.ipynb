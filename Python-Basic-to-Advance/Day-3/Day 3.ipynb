{
 "cells": [
  {
   "cell_type": "markdown",
   "id": "201ec389-2938-431b-841a-0388cc649c25",
   "metadata": {},
   "source": [
    "## 13. Advanced OOP"
   ]
  },
  {
   "cell_type": "markdown",
   "id": "7fb743ee-c2db-4a9f-b386-bdc2cbbb2dc6",
   "metadata": {},
   "source": [
    "#### When a class is derived from more than one base class it is called multiple Inheritance. "
   ]
  },
  {
   "cell_type": "code",
   "execution_count": 9,
   "id": "e70f3c51-16f5-4465-8576-aaf1445c8e9d",
   "metadata": {},
   "outputs": [
    {
     "name": "stdout",
     "output_type": "stream",
     "text": [
      "I enjoy gardening.\n",
      "I enjoy cooking.\n",
      "I enjoy playing football.\n"
     ]
    }
   ],
   "source": [
    "## Muliple Inheritance\n",
    "class Father:\n",
    "    def gardening(self):\n",
    "        print(\"I enjoy gardening.\")\n",
    "\n",
    "\n",
    "class Mother:\n",
    "    def cooking(self):\n",
    "        print(\"I enjoy cooking.\")\n",
    "\n",
    "\n",
    "class Child(Father, Mother):\n",
    "    def sports(self):\n",
    "        print(\"I enjoy playing football.\")\n",
    "\n",
    "\n",
    "c = Child()\n",
    "c.gardening()\n",
    "c.cooking()\n",
    "c.sports()"
   ]
  },
  {
   "cell_type": "markdown",
   "id": "6abac8ea-736b-464b-8a3e-60dbad72e1e7",
   "metadata": {},
   "source": [
    "#### MRO follows a specific sequence to determine which method to invoke when it encounters multiple classes with the same method name."
   ]
  },
  {
   "cell_type": "code",
   "execution_count": 10,
   "id": "e5e38055-744d-4bbd-bd7d-c9404030b488",
   "metadata": {},
   "outputs": [
    {
     "name": "stdout",
     "output_type": "stream",
     "text": [
      "B\n",
      "(<class '__main__.D'>, <class '__main__.B'>, <class '__main__.C'>, <class '__main__.A'>, <class 'object'>)\n"
     ]
    }
   ],
   "source": [
    "# MRO (Method Resolution Order)\n",
    "class A:\n",
    "    def show(self):\n",
    "        print(\"A\")\n",
    "\n",
    "\n",
    "class B(A):\n",
    "    def show(self):\n",
    "        print(\"B\")\n",
    "\n",
    "\n",
    "class C(A):\n",
    "    def show(self):\n",
    "        print(\"C\")\n",
    "\n",
    "\n",
    "class D(B, C):  # MRO: D -> B -> C -> A\n",
    "    pass\n",
    "\n",
    "\n",
    "d = D()\n",
    "d.show()  # Output: B (B is checked before C)\n",
    "print(D.__mro__)"
   ]
  },
  {
   "cell_type": "markdown",
   "id": "c4973ac2-bdcc-4462-a501-dd048237f345",
   "metadata": {},
   "source": [
    "#### Class method is used to manipulate or access class-level data."
   ]
  },
  {
   "cell_type": "code",
   "execution_count": 11,
   "id": "d89efbba-7666-4aa9-858d-9c10951f44da",
   "metadata": {},
   "outputs": [
    {
     "name": "stdout",
     "output_type": "stream",
     "text": [
      "Count: 1\n"
     ]
    }
   ],
   "source": [
    "# Class Method\n",
    "class MyClass:\n",
    "    count = 0\n",
    "\n",
    "    @classmethod\n",
    "    def increase_count(cls):\n",
    "        cls.count += 1\n",
    "        print(\"Count:\", cls.count)\n",
    "\n",
    "\n",
    "MyClass.increase_count()"
   ]
  },
  {
   "cell_type": "markdown",
   "id": "01046fd5-dd2d-4116-b832-c5912241087e",
   "metadata": {},
   "source": [
    "#### Static method is used to group utility functions logically under a class."
   ]
  },
  {
   "cell_type": "code",
   "execution_count": 12,
   "id": "c56e2739-15d7-448d-9a28-30a86a36d475",
   "metadata": {},
   "outputs": [
    {
     "name": "stdout",
     "output_type": "stream",
     "text": [
      "25\n"
     ]
    }
   ],
   "source": [
    "# Static Method\n",
    "class Calculator:\n",
    "    @staticmethod\n",
    "    def square(x):\n",
    "        return x * x\n",
    "\n",
    "\n",
    "print(Calculator.square(5))  # Output: 25"
   ]
  },
  {
   "cell_type": "markdown",
   "id": "af440453-333e-405b-9cb5-839058314a23",
   "metadata": {},
   "source": [
    "#### To customize class creation logic like auto-registration, validation, or injection of properties."
   ]
  },
  {
   "cell_type": "code",
   "execution_count": 16,
   "id": "063be0bb-c2c6-46d0-bb07-493e1ee753a6",
   "metadata": {},
   "outputs": [
    {
     "name": "stdout",
     "output_type": "stream",
     "text": [
      "Creating class: MyClass\n"
     ]
    }
   ],
   "source": [
    "# MetaClasses\n",
    "class MyMeta(type):\n",
    "    def __new__(cls, name, bases, dct):  # core part\n",
    "        print(f\"Creating class: {name}\")\n",
    "        return super().__new__(cls, name, bases, dct)\n",
    "\n",
    "\n",
    "class MyClass(metaclass=MyMeta):\n",
    "    pass"
   ]
  },
  {
   "cell_type": "markdown",
   "id": "1aca025f-21d4-4ae5-810a-1be426d879a7",
   "metadata": {},
   "source": [
    "#### @property decorator is a built-in decorator in Python which is helpful in defining the properties effortlessly without manually calling the inbuilt function property()."
   ]
  },
  {
   "cell_type": "code",
   "execution_count": 26,
   "id": "5d47ce88-d126-467b-9b47-70bb607fe686",
   "metadata": {},
   "outputs": [
    {
     "name": "stdout",
     "output_type": "stream",
     "text": [
      "50\n",
      "Deleting price...\n"
     ]
    }
   ],
   "source": [
    "# @property decorator\n",
    "\n",
    "\n",
    "class Product:\n",
    "    def __init__(self, price):\n",
    "        self._price = price\n",
    "\n",
    "    @property\n",
    "    def price(self):\n",
    "        return self._price\n",
    "\n",
    "    @price.setter\n",
    "    def price(self, value):\n",
    "        if value < 0:\n",
    "            raise ValueError(\"Price cannot be negative.\")\n",
    "        self._price = value\n",
    "\n",
    "    @price.deleter\n",
    "    def price(self):\n",
    "        print(\"Deleting price...\")\n",
    "        del self._price\n",
    "\n",
    "\n",
    "item = Product(50)\n",
    "print(item.price)  # 50\n",
    "item.price = 60\n",
    "del item.price"
   ]
  },
  {
   "cell_type": "markdown",
   "id": "90240bf5-fcf0-4e0f-a54d-dbfd665444df",
   "metadata": {},
   "source": [
    "#### Threading module allows running multiple threads (lightweight processes) within the same program."
   ]
  },
  {
   "cell_type": "code",
   "execution_count": 27,
   "id": "15c63969-32ac-45c6-af73-7c20e719f316",
   "metadata": {},
   "outputs": [
    {
     "name": "stdout",
     "output_type": "stream",
     "text": [
      "Hello from thread!\n"
     ]
    }
   ],
   "source": [
    "# threading\n",
    "import threading\n",
    "\n",
    "\n",
    "def print_hello():\n",
    "    print(\"Hello from thread!\")\n",
    "\n",
    "\n",
    "t = threading.Thread(target=print_hello)\n",
    "t.start()\n",
    "t.join()  # Wait for thread to finish"
   ]
  },
  {
   "cell_type": "markdown",
   "id": "7bef660c-dd84-4e91-b386-68cb558a2ddb",
   "metadata": {},
   "source": [
    "## 14. Concurrency and Parallelism"
   ]
  },
  {
   "cell_type": "markdown",
   "id": "ed10408d-6a5d-4382-9f9b-76b297e96ef1",
   "metadata": {
    "jp-MarkdownHeadingCollapsed": true
   },
   "source": [
    "#### Multiprocessing refers to the ability of a system to support more than one processor at the same time. "
   ]
  },
  {
   "cell_type": "code",
   "execution_count": 31,
   "id": "15d03919-64ab-4003-9966-a8f74edd3403",
   "metadata": {},
   "outputs": [],
   "source": [
    "## multiprocessing\n",
    "from multiprocessing import Process\n",
    "\n",
    "\n",
    "def square(n):\n",
    "    print(n * n)\n",
    "\n",
    "\n",
    "p = Process(target=square, args=(5,))\n",
    "p.start()\n",
    "p.join()"
   ]
  },
  {
   "cell_type": "markdown",
   "id": "d29eff3f-6333-4b17-ac48-20208827a837",
   "metadata": {},
   "source": [
    "#### Async keyword in Python is used to define asynchronous functions, which allow tasks to run without blocking the execution of other code."
   ]
  },
  {
   "cell_type": "code",
   "execution_count": 37,
   "id": "80844be4-ad6b-43ee-8558-20c2b7b1cb07",
   "metadata": {
    "scrolled": true
   },
   "outputs": [
    {
     "name": "stdout",
     "output_type": "stream",
     "text": [
      "File content: My name is Sambridhi Shrestha\n"
     ]
    }
   ],
   "source": [
    "import aiofiles\n",
    "import asyncio\n",
    "\n",
    "\n",
    "async def write_then_read():\n",
    "    # Write content to the file\n",
    "    async with aiofiles.open(\"Sam.txt\", mode=\"w\") as f:\n",
    "        await f.write(\"My name is Sambridhi Shrestha\")\n",
    "\n",
    "    # Now read the content back\n",
    "    async with aiofiles.open(\"Sam.txt\", mode=\"r\") as f:\n",
    "        content = await f.read()\n",
    "        print(\"File content:\", content)\n",
    "\n",
    "\n",
    "await write_then_read()"
   ]
  },
  {
   "cell_type": "code",
   "execution_count": 38,
   "id": "0dd788db-09b8-495f-b6d6-e53cdbdfd700",
   "metadata": {},
   "outputs": [],
   "source": [
    "## async def\n",
    "async def greet():\n",
    "    print(\"Hello\")"
   ]
  },
  {
   "cell_type": "code",
   "execution_count": 39,
   "id": "ed67d53a-bc1b-4c02-955f-041662e11287",
   "metadata": {},
   "outputs": [
    {
     "name": "stdout",
     "output_type": "stream",
     "text": [
      "Hello from an async function!\n"
     ]
    }
   ],
   "source": [
    "import asyncio\n",
    "\n",
    "\n",
    "async def greet():\n",
    "    print(\"Hello from an async function!\")\n",
    "\n",
    "\n",
    "# Just use await directly\n",
    "await greet()"
   ]
  },
  {
   "cell_type": "code",
   "execution_count": 40,
   "id": "7cddea53-76e0-410c-9d8a-a71d9f488f7a",
   "metadata": {},
   "outputs": [
    {
     "name": "stdout",
     "output_type": "stream",
     "text": [
      "Received: 0\n",
      "Received: 1\n",
      "Received: 2\n"
     ]
    }
   ],
   "source": [
    "import asyncio\n",
    "\n",
    "\n",
    "# Async generator\n",
    "async def async_counter():\n",
    "    for i in range(3):\n",
    "        await asyncio.sleep(1)\n",
    "        yield i\n",
    "\n",
    "\n",
    "# Async function to use async for\n",
    "async def run_async_for():\n",
    "    async for number in async_counter():\n",
    "        print(f\"Received: {number}\")\n",
    "\n",
    "\n",
    "await run_async_for()"
   ]
  },
  {
   "cell_type": "code",
   "execution_count": 41,
   "id": "f51e1c69-d630-4fda-9511-7f18af1d4dd1",
   "metadata": {},
   "outputs": [
    {
     "name": "stdout",
     "output_type": "stream",
     "text": [
      "Opening resource...\n",
      "Using Resource\n",
      "Closing resource...\n"
     ]
    }
   ],
   "source": [
    "import asyncio\n",
    "from contextlib import asynccontextmanager\n",
    "\n",
    "\n",
    "# Async context manager\n",
    "@asynccontextmanager\n",
    "async def open_resource():\n",
    "    print(\"Opening resource...\")\n",
    "    await asyncio.sleep(1)\n",
    "    yield \"Resource\"\n",
    "    print(\"Closing resource...\")\n",
    "    await asyncio.sleep(1)\n",
    "\n",
    "\n",
    "# Use async with\n",
    "async def use_resource():\n",
    "    async with open_resource() as res:\n",
    "        print(f\"Using {res}\")\n",
    "\n",
    "\n",
    "await use_resource()"
   ]
  },
  {
   "cell_type": "markdown",
   "id": "9444b9c1-55ba-444b-89ed-ae934f28fcb4",
   "metadata": {},
   "source": [
    "### Used to prevent multiple threads from modifying the same data at the same time."
   ]
  },
  {
   "cell_type": "code",
   "execution_count": null,
   "id": "1ba4122e-81c4-4d25-bbf4-351ccd522f69",
   "metadata": {},
   "outputs": [],
   "source": []
  },
  {
   "cell_type": "code",
   "execution_count": null,
   "id": "ae148f14-6200-4b27-a026-19f601982d5f",
   "metadata": {},
   "outputs": [],
   "source": []
  }
 ],
 "metadata": {
  "kernelspec": {
   "display_name": "Python 3 (ipykernel)",
   "language": "python",
   "name": "python3"
  },
  "language_info": {
   "codemirror_mode": {
    "name": "ipython",
    "version": 3
   },
   "file_extension": ".py",
   "mimetype": "text/x-python",
   "name": "python",
   "nbconvert_exporter": "python",
   "pygments_lexer": "ipython3",
   "version": "3.12.8"
  }
 },
 "nbformat": 4,
 "nbformat_minor": 5
}
