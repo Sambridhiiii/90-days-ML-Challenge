{
 "cells": [
  {
   "cell_type": "markdown",
   "id": "77326bea-1c57-4740-936a-6b292c088020",
   "metadata": {},
   "source": [
    "# Feature Engineering"
   ]
  },
  {
   "cell_type": "markdown",
   "id": "a1039806-4886-45cf-9d47-5ea7a9eece46",
   "metadata": {},
   "source": [
    "### ❓ What is it?\n",
    "Feature engineering is the process of transforming raw data into useful features that help machine learning models perform better.\n",
    "\n",
    "### 💡 Why do we do it?\n",
    "-  Improve accuracy  \n",
    "-  Reduce overfitting  \n",
    "-  Boost interpretability  \n",
    "-  Increase efficiency  \n",
    "\n",
    "### 📍 Where is it used?\n",
    "-  Encoding categorical variables (e.g., one-hot encoding)  \n",
    "-  Scaling, transforming, binning, deriving new features  \n",
    "-  In sklearn pipelines (preprocessing + modeling)\n"
   ]
  },
  {
   "cell_type": "markdown",
   "id": "8e7b878c-a178-4fb0-9a89-0f1530a9d0b9",
   "metadata": {},
   "source": [
    "## Common Techniques in Feature Engineering"
   ]
  },
  {
   "cell_type": "code",
   "execution_count": 11,
   "id": "947431a5-bd2e-4fc5-b3b0-84fc825c3c1f",
   "metadata": {},
   "outputs": [
    {
     "name": "stdout",
     "output_type": "stream",
     "text": [
      "Requirement already satisfied: nltk in c:\\users\\sambridhi shrestha\\appdata\\local\\programs\\python\\python312\\lib\\site-packages (3.9.1)\n",
      "Requirement already satisfied: click in c:\\users\\sambridhi shrestha\\appdata\\local\\programs\\python\\python312\\lib\\site-packages (from nltk) (8.2.1)\n",
      "Requirement already satisfied: joblib in c:\\users\\sambridhi shrestha\\appdata\\local\\programs\\python\\python312\\lib\\site-packages (from nltk) (1.4.2)\n",
      "Requirement already satisfied: regex>=2021.8.3 in c:\\users\\sambridhi shrestha\\appdata\\local\\programs\\python\\python312\\lib\\site-packages (from nltk) (2025.7.34)\n",
      "Requirement already satisfied: tqdm in c:\\users\\sambridhi shrestha\\appdata\\local\\programs\\python\\python312\\lib\\site-packages (from nltk) (4.67.1)\n",
      "Requirement already satisfied: colorama in c:\\users\\sambridhi shrestha\\appdata\\local\\programs\\python\\python312\\lib\\site-packages (from click->nltk) (0.4.6)\n"
     ]
    }
   ],
   "source": [
    "!pip install nltk"
   ]
  },
  {
   "cell_type": "code",
   "execution_count": 12,
   "id": "7d03eca0-0bf5-459e-a76c-f82a3eaa22c6",
   "metadata": {},
   "outputs": [
    {
     "name": "stdout",
     "output_type": "stream",
     "text": [
      "=== One-Hot Encoding ===\n",
      "   Color_Blue  Color_Green  Color_Red\n",
      "0       False        False       True\n",
      "1        True        False      False\n",
      "2       False         True      False\n",
      "3        True        False      False \n",
      "\n",
      "=== Binning ===\n",
      "   Age Age_Group\n",
      "0   23     21-40\n",
      "1   45     41-60\n",
      "2   18      0-20\n",
      "3   34     21-40\n",
      "4   67       61+\n",
      "5   50     41-60\n",
      "6   21     21-40 \n",
      "\n",
      "=== Text Preprocessing ===\n",
      "Cleaned Texts: ['sampl sentence.', 'text data preprocess important.']\n",
      "Vectorized Text:\n",
      " [[0 0 0 1 1 0]\n",
      " [1 1 1 0 0 1]] \n",
      "\n",
      "=== Address Feature Extraction ===\n",
      "                     Full_Address      Street         City Zipcode\n",
      "0  123 Elm St, Springfield, 12345  123 Elm St  Springfield   12345\n",
      "1  456 Oak Rd, Shelbyville, 67890  456 Oak Rd  Shelbyville   67890\n"
     ]
    },
    {
     "name": "stderr",
     "output_type": "stream",
     "text": [
      "[nltk_data] Downloading package stopwords to C:\\Users\\Sambridhi\n",
      "[nltk_data]     Shrestha\\AppData\\Roaming\\nltk_data...\n",
      "[nltk_data]   Package stopwords is already up-to-date!\n"
     ]
    }
   ],
   "source": [
    "# ===============================\n",
    "# Feature Engineering Examples\n",
    "# ===============================\n",
    "\n",
    "import pandas as pd\n",
    "import nltk\n",
    "from nltk.corpus import stopwords\n",
    "from nltk.stem import PorterStemmer\n",
    "from sklearn.feature_extraction.text import CountVectorizer\n",
    "\n",
    "# Download stopwords if not already\n",
    "nltk.download('stopwords')\n",
    "\n",
    "# -------------------------------\n",
    "# 1. One-Hot Encoding\n",
    "# -------------------------------\n",
    "data = {'Color': ['Red', 'Blue', 'Green', 'Blue']}\n",
    "df = pd.DataFrame(data)\n",
    "\n",
    "df_encoded = pd.get_dummies(df, columns=['Color'], prefix='Color')\n",
    "print(\"=== One-Hot Encoding ===\")\n",
    "print(df_encoded, \"\\n\")\n",
    "\n",
    "# -------------------------------\n",
    "# 2. Binning\n",
    "# -------------------------------\n",
    "data = {'Age': [23, 45, 18, 34, 67, 50, 21]}\n",
    "df = pd.DataFrame(data)\n",
    "\n",
    "bins = [0, 20, 40, 60, 100]\n",
    "labels = ['0-20', '21-40', '41-60', '61+']\n",
    "\n",
    "df['Age_Group'] = pd.cut(df['Age'], bins=bins, labels=labels, right=False)\n",
    "print(\"=== Binning ===\")\n",
    "print(df, \"\\n\")\n",
    "\n",
    "# -------------------------------\n",
    "# 3. Text Data Processing\n",
    "# -------------------------------\n",
    "texts = [\"This is a sample sentence.\", \"Text data preprocessing is important.\"]\n",
    "\n",
    "stop_words = set(stopwords.words('english'))\n",
    "stemmer = PorterStemmer()\n",
    "vectorizer = CountVectorizer()\n",
    "\n",
    "def preprocess_text(text):\n",
    "    words = text.split()\n",
    "    words = [stemmer.stem(word)\n",
    "             for word in words if word.lower() not in stop_words]\n",
    "    return \" \".join(words)\n",
    "\n",
    "cleaned_texts = [preprocess_text(text) for text in texts]\n",
    "X = vectorizer.fit_transform(cleaned_texts)\n",
    "\n",
    "print(\"=== Text Preprocessing ===\")\n",
    "print(\"Cleaned Texts:\", cleaned_texts)\n",
    "print(\"Vectorized Text:\\n\", X.toarray(), \"\\n\")\n",
    "\n",
    "\n",
    "# 4. Extracting Features from Address\n",
    "data = {'Full_Address': [\n",
    "    '123 Elm St, Springfield, 12345',\n",
    "    '456 Oak Rd, Shelbyville, 67890'\n",
    "]}\n",
    "df = pd.DataFrame(data)\n",
    "\n",
    "df[['Street', 'City', 'Zipcode']] = df['Full_Address'].str.extract(\n",
    "    r'([0-9]+\\s[\\w\\s]+),\\s([\\w\\s]+),\\s(\\d+)'\n",
    ")\n",
    "\n",
    "print(\"=== Address Feature Extraction ===\")\n",
    "print(df)\n"
   ]
  },
  {
   "cell_type": "markdown",
   "id": "a5e207c0-e55b-403c-88b3-0b41c7c79d1f",
   "metadata": {},
   "source": [
    "##  Polynomial Features"
   ]
  },
  {
   "cell_type": "markdown",
   "id": "ec0b2173-fe54-4487-9662-5b0d15eba61d",
   "metadata": {},
   "source": [
    "### ❓ What is it?\n",
    "Polynomial features expand original inputs by adding new features that are powers (e.g., squared, cubic) and interaction terms, enabling models to capture nonlinear relationships.\n",
    "\n",
    "### 💡 Why use them?\n",
    "- Capture complex, nonlinear patterns with linear models.  \n",
    "- Introduce interaction effects between features.  \n",
    "- Enhance model performance when data relationships are not linear.  \n",
    "\n",
    "### 📍 Where to apply?\n",
    "- In **regression tasks** where linear models underfit the data.  \n",
    "- Within preprocessing **pipelines** (e.g., scikit-learn `PolynomialFeatures` + model), ensuring consistent transformations.  \n"
   ]
  },
  {
   "cell_type": "code",
   "execution_count": 13,
   "id": "384145cd-6a15-409e-883e-9c14dc9e71f5",
   "metadata": {},
   "outputs": [
    {
     "name": "stdout",
     "output_type": "stream",
     "text": [
      "Original X:\n",
      "[1 2 3 4 5]\n",
      "Predictions (degree=2):\n",
      "[ 2.  5. 10. 17. 26.]\n"
     ]
    },
    {
     "data": {
      "image/png": "[encoded data removed]",
      "text/plain": [
       "<Figure size 640x480 with 1 Axes>"
      ]
     },
     "metadata": {},
     "output_type": "display_data"
    }
   ],
   "source": [
    "import numpy as np\n",
    "from sklearn.preprocessing import PolynomialFeatures\n",
    "from sklearn.linear_model import LinearRegression\n",
    "from sklearn.pipeline import make_pipeline\n",
    "import matplotlib.pyplot as plt\n",
    "\n",
    "# Sample data (simple quadratic pattern)\n",
    "X = np.array([[1], [2], [3], [4], [5]])\n",
    "y = np.array([2, 5, 10, 17, 26])  # roughly y = x^2 + 1\n",
    "\n",
    "# Create a pipeline: polynomial features + linear regression\n",
    "degree = 2\n",
    "model = make_pipeline(PolynomialFeatures(degree, include_bias=False),\n",
    "                      LinearRegression())\n",
    "\n",
    "# Train the model\n",
    "model.fit(X, y)\n",
    "\n",
    "# Predict\n",
    "y_pred = model.predict(X)\n",
    "\n",
    "# Display results\n",
    "print(f\"Original X:\\n{X.flatten()}\")\n",
    "print(f\"Predictions (degree={degree}):\\n{y_pred}\")\n",
    "\n",
    "# Optional: visualize fit\n",
    "plt.scatter(X, y, label=\"Actual\")\n",
    "plt.plot(X, y_pred, color='red', label=\"Predicted\")\n",
    "plt.title(f\"Polynomial Regression (degree={degree})\")\n",
    "plt.xlabel(\"X\")\n",
    "plt.ylabel(\"y\")\n",
    "plt.legend()\n",
    "plt.show()\n"
   ]
  },
  {
   "cell_type": "markdown",
   "id": "3d17cbdf-f531-4cc3-a1f6-a8929614b5ff",
   "metadata": {},
   "source": [
    "## Interaction terms "
   ]
  },
  {
   "cell_type": "markdown",
   "id": "0509f6ee-ee7e-4882-a7b0-4d5333c71ed2",
   "metadata": {},
   "source": [
    "### 🌟 What is it?\n",
    "- **Feature interactions** occur when the effect of one feature on the target depends on the value of another — like how BMI depends on both weight and height².  \n",
    "- **Polynomial features** ⚡ capture these interactions by generating feature combinations, such as products  and powers, making them a natural way to model interactions.\n",
    "\n",
    "### 🤔 Why use interaction terms?\n",
    "- Including interaction terms helps uncover non-additive relationships that a model would otherwise miss.  \n",
    "- They make models more expressive 🎨 and capable of reflecting real-world dependencies between features.\n",
    "\n",
    "### 🛠️ Where to apply?\n",
    "- During feature engineering 🧑‍💻, especially when using **PolynomialFeatures** in preprocessing pipelines.  \n",
    "- Particularly useful in **regression** 📈 or **classification** 🤖 setups where underlying relationships between variables are not purely linear."
   ]
  },
  {
   "cell_type": "code",
   "execution_count": 15,
   "id": "5c944181-7270-489c-a299-94670b125379",
   "metadata": {},
   "outputs": [
    {
     "name": "stdout",
     "output_type": "stream",
     "text": [
      "Original Features:\n",
      " [[1 2]\n",
      " [2 3]\n",
      " [3 4]\n",
      " [4 5]\n",
      " [5 6]]\n",
      "\n",
      "Polynomial + Interaction Features:\n",
      " [[ 1.  2.  1.  2.  4.]\n",
      " [ 2.  3.  4.  6.  9.]\n",
      " [ 3.  4.  9. 12. 16.]\n",
      " [ 4.  5. 16. 20. 25.]\n",
      " [ 5.  6. 25. 30. 36.]]\n",
      "\n",
      "Predictions: [ 5. 11. 19. 29. 41.]\n"
     ]
    },
    {
     "data": {
      "image/png": "[encoded data removed]",
      "text/plain": [
       "<Figure size 640x480 with 1 Axes>"
      ]
     },
     "metadata": {},
     "output_type": "display_data"
    }
   ],
   "source": [
    "import numpy as np\n",
    "from sklearn.preprocessing import PolynomialFeatures\n",
    "from sklearn.linear_model import LinearRegression\n",
    "from sklearn.pipeline import make_pipeline\n",
    "import matplotlib.pyplot as plt\n",
    "\n",
    "# Sample dataset with two features\n",
    "X = np.array([[1, 2], [2, 3], [3, 4], [4, 5], [5, 6]])\n",
    "y = np.array([5, 11, 19, 29, 41])  # roughly y = 1*x1 + 2*x2 + x1*x2\n",
    "\n",
    "# Create polynomial features up to degree 2 (includes interaction terms)\n",
    "poly = PolynomialFeatures(degree=2, include_bias=False)\n",
    "X_poly = poly.fit_transform(X)\n",
    "\n",
    "print(\"Original Features:\\n\", X)\n",
    "print(\"\\nPolynomial + Interaction Features:\\n\", X_poly)\n",
    "\n",
    "# Fit a simple linear regression model\n",
    "model = LinearRegression()\n",
    "model.fit(X_poly, y)\n",
    "y_pred = model.predict(X_poly)\n",
    "\n",
    "print(\"\\nPredictions:\", y_pred)\n",
    "\n",
    "# Optional: visualize prediction vs actual (for one feature subset)\n",
    "plt.scatter(range(len(y)), y, label=\"Actual\")\n",
    "plt.scatter(range(len(y_pred)), y_pred, label=\"Predicted\", marker='x')\n",
    "plt.legend()\n",
    "plt.title(\"Model with Interaction Features\")\n",
    "plt.show()"
   ]
  },
  {
   "cell_type": "markdown",
   "id": "52d5c34a-bf52-453f-96b5-a605ec541cd7",
   "metadata": {},
   "source": [
    "##  Regularization"
   ]
  },
  {
   "cell_type": "markdown",
   "id": "427c8170-ebff-40ae-b15b-e6c4f10e36b8",
   "metadata": {},
   "source": [
    "### 📌 What?  \n",
    "Regularization is a technique to reduce **overfitting** by adding a penalty term to the model’s loss function, discouraging large coefficient values.  \n",
    "\n",
    "### 🤔 Why?  \n",
    "- ⚖️ Reduces model complexity and variance.  \n",
    "- 📈 Improves generalization to unseen data.  \n",
    "- 🔄 Enforces a bias–variance tradeoff to achieve better predictive performance.  \n",
    "\n",
    "### 🌍 Where?  \n",
    "- 📊 Used in regression models (linear, logistic, etc.) when overfitting is a concern.  \n",
    "- 🔧 Incorporated into preprocessing pipelines or model definitions (e.g., `sklearn`'s regularized regressors).  "
   ]
  },
  {
   "cell_type": "code",
   "execution_count": 17,
   "id": "c74d9734-2e91-4344-b322-7f7a848f275e",
   "metadata": {},
   "outputs": [
    {
     "name": "stdout",
     "output_type": "stream",
     "text": [
      "Linear Regression MSE: 16.342487842925063\n"
     ]
    }
   ],
   "source": [
    "import numpy as np\n",
    "import matplotlib.pyplot as plt\n",
    "from sklearn.linear_model import LinearRegression, Ridge, Lasso\n",
    "from sklearn.metrics import mean_squared_error\n",
    "from sklearn.model_selection import train_test_split\n",
    "\n",
    "# Generate synthetic data\n",
    "np.random.seed(42)\n",
    "X = np.random.rand(100, 1) * 10\n",
    "y = 3 * X.flatten() + np.random.randn(100) * 5   # linear + noise\n",
    "\n",
    "# Train-Test Split\n",
    "X_train, X_test, y_train, y_test = train_test_split(X, y, test_size=0.2, random_state=42)\n",
    "\n",
    "# Without Regularization (Normal Linear Regression)\n",
    "linear_model = LinearRegression()\n",
    "linear_model.fit(X_train, y_train)\n",
    "y_pred = linear_model.predict(X_test)\n",
    "\n",
    "print(\"Linear Regression MSE:\", mean_squared_error(y_test, y_pred))"
   ]
  },
  {
   "cell_type": "markdown",
   "id": "ef194e05-62bc-479e-b971-70b6a2f8b3a5",
   "metadata": {},
   "source": [
    "##  Lasso (L1 Regularization)  "
   ]
  },
  {
   "cell_type": "markdown",
   "id": "ddfd99a5-1faa-40a0-b4fd-a7949b74738d",
   "metadata": {},
   "source": [
    "### 📌 What?  \n",
    "Adds a penalty equal to the **sum of absolute coefficients**, encouraging sparsity and enabling **feature selection**.  \n",
    "\n",
    "### 🤔 Why?  \n",
    "- ✂️ Reduces irrelevant or redundant features.  \n",
    "- 📉 Yields simpler, more interpretable models.  \n",
    "\n",
    "### 🌍 Where?  \n",
    "- 📊 High-dimensional data or when automatic feature selection is desired.  \n",
    "- 🧾 Useful when interpretability is important or when pruning features improves efficiency.  \n"
   ]
  },
  {
   "cell_type": "code",
   "execution_count": 18,
   "id": "fb963258-321f-4fe8-9e51-596c399a631b",
   "metadata": {},
   "outputs": [
    {
     "name": "stdout",
     "output_type": "stream",
     "text": [
      "Lasso Regression MSE: 16.314236608292816\n",
      "Lasso Coefficients: [2.78753357]\n"
     ]
    }
   ],
   "source": [
    "# =========================\n",
    "# Lasso Regression (L1)\n",
    "# =========================\n",
    "lasso_model = Lasso(alpha=0.1)  # alpha = strength of penalty\n",
    "lasso_model.fit(X_train, y_train)\n",
    "y_pred_lasso = lasso_model.predict(X_test)\n",
    "\n",
    "print(\"Lasso Regression MSE:\", mean_squared_error(y_test, y_pred_lasso))\n",
    "print(\"Lasso Coefficients:\", lasso_model.coef_)\n"
   ]
  },
  {
   "cell_type": "markdown",
   "id": "acd8bd53-eebd-442d-9104-39b53df8b106",
   "metadata": {},
   "source": [
    "## Ridge (L2 Regularization)"
   ]
  },
  {
   "cell_type": "markdown",
   "id": "9e9c7505-7de3-4325-95ff-18a8833730a9",
   "metadata": {},
   "source": [
    "### 📌 What?  \n",
    "Adds a penalty equal to the sum of squared coefficients, encouraging smaller but non-zero weights.  \n",
    "\n",
    "### 🤔 Why?  \n",
    "- 🔗 Handles multicollinearity by distributing weights evenly.  \n",
    "- 🛡️ Stabilizes model estimates without eliminating features.  \n",
    "\n",
    "### 🌍 Where?  \n",
    "- 📊 Regression tasks with correlated input features.  \n",
    "- ⚡ When model stability and performance are prioritized over interpretability.  "
   ]
  },
  {
   "cell_type": "code",
   "execution_count": 20,
   "id": "0a55d05c-ebc3-4980-84d6-a7e6381417d8",
   "metadata": {},
   "outputs": [
    {
     "name": "stdout",
     "output_type": "stream",
     "text": [
      "Ridge Regression MSE: 16.33230456004441\n",
      "Ridge Coefficients: [2.79520419]\n"
     ]
    }
   ],
   "source": [
    "# =========================\n",
    "# Ridge Regression (L2)\n",
    "# =========================\n",
    "ridge_model = Ridge(alpha=1.0)  # alpha = strength of penalty\n",
    "ridge_model.fit(X_train, y_train)\n",
    "y_pred_ridge = ridge_model.predict(X_test)\n",
    "\n",
    "print(\"Ridge Regression MSE:\", mean_squared_error(y_test, y_pred_ridge))\n",
    "print(\"Ridge Coefficients:\", ridge_model.coef_)"
   ]
  },
  {
   "cell_type": "markdown",
   "id": "213253f1-0b08-4ba5-b64a-4a517d8db425",
   "metadata": {},
   "source": [
    "##  Effect on Weights in Regularization\n",
    "\n",
    "### 📌 What?\n",
    "Regularization modifies the **loss function** by adding a penalty on model weights (coefficients) to prevent overfitting:\n",
    "\n",
    "- **L1 Regularization (Lasso)** adds the **sum of absolute values** of coefficients.  \n",
    "  - Some weights shrink exactly to **0**, performing feature selection.  \n",
    "- **L2 Regularization (Ridge)** adds the **sum of squared coefficients**.  \n",
    "  - Weights shrink towards **0** but rarely become exactly zero, stabilizing the model.\n",
    "\n",
    "\n",
    "### 🤔 Why?\n",
    "- Reduces model complexity and prevents overfitting.  \n",
    "- Controls large weights that can dominate predictions.  \n",
    "- Makes models **more interpretable (Lasso)** or **more stable (Ridge)**.  \n",
    "- Helps in handling **multicollinearity** (especially Ridge).\n",
    "\n",
    "\n",
    "### 🌍 Where?\n",
    "- During **feature engineering** for regression or classification models.  \n",
    "- In **high-dimensional datasets** where some features may be irrelevant.  \n",
    "- Within **machine learning pipelines** using `scikit-learn`’s `Lasso` or `Ridge`."
   ]
  },
  {
   "cell_type": "code",
   "execution_count": 21,
   "id": "c40af531-132c-4a76-881e-0719c915665b",
   "metadata": {},
   "outputs": [
    {
     "name": "stdout",
     "output_type": "stream",
     "text": [
      "Original Weights: [60.57748194 98.65152488 64.59172413 57.07783047 35.60967259]\n",
      "Lasso Weights: [61.35643898 98.33811173 60.47349988 54.44439604 35.19693377]\n",
      "Ridge Weights: [61.23949497 97.79581017 60.24721716 54.3702388  35.37785535]\n"
     ]
    },
    {
     "data": {
      "image/png": "[encoded data removed]",
      "text/plain": [
       "<Figure size 1000x500 with 1 Axes>"
      ]
     },
     "metadata": {},
     "output_type": "display_data"
    }
   ],
   "source": [
    "import numpy as np\n",
    "import matplotlib.pyplot as plt\n",
    "from sklearn.linear_model import Lasso, Ridge\n",
    "from sklearn.datasets import make_regression\n",
    "\n",
    "# Generate synthetic data with 5 features\n",
    "X, y, coef = make_regression(n_samples=100, n_features=5, noise=10, coef=True, random_state=42)\n",
    "\n",
    "# Train Lasso and Ridge\n",
    "lasso = Lasso(alpha=0.5).fit(X, y)\n",
    "ridge = Ridge(alpha=1.0).fit(X, y)\n",
    "\n",
    "# Display weights\n",
    "print(\"Original Weights:\", coef)\n",
    "print(\"Lasso Weights:\", lasso.coef_)\n",
    "print(\"Ridge Weights:\", ridge.coef_)\n",
    "\n",
    "# Visualize\n",
    "plt.figure(figsize=(10,5))\n",
    "plt.plot(coef, 'o-', label='Original Weights')\n",
    "plt.plot(lasso.coef_, 's-', label='Lasso Weights')\n",
    "plt.plot(ridge.coef_, 'd-', label='Ridge Weights')\n",
    "plt.xlabel('Feature Index')\n",
    "plt.ylabel('Weight Value')\n",
    "plt.title('Effect of Regularization on Weights')\n",
    "plt.legend()\n",
    "plt.show()"
   ]
  },
  {
   "cell_type": "markdown",
   "id": "4f55a0ee-3e24-42cd-b7e5-7e48d96f1143",
   "metadata": {},
   "source": [
    "## Bagging \n",
    "\n",
    "### 📌 What is Bagging?\n",
    "- Bagging is an **ensemble learning method** used to reduce variance in noisy datasets.  \n",
    "- It works by **randomly sampling the training data with replacement** (bootstrapping) and training multiple weak learners independently.  \n",
    "- Predictions are aggregated:  \n",
    "  - **Regression:** average of predictions (soft voting)  \n",
    "  - **Classification:** majority vote (hard voting)  \n",
    "- **Random Forest** is an extension of bagging with added feature randomness.\n",
    "\n",
    "\n",
    "### 🤔 Why Use Bagging?\n",
    "- Reduces **variance** and prevents overfitting.  \n",
    "- Improves **model generalization** to unseen data.  \n",
    "- Combines multiple weak learners into a **strong learner** for better performance.  \n",
    "- Effective with algorithms that are **unstable** (like Decision Trees).\n",
    "\n",
    "\n",
    "### 🌍 Where to Apply Bagging?\n",
    "- In **high-variance models**, such as unpruned decision trees.  \n",
    "- When building ensemble models to improve accuracy.  \n",
    "- Useful in regression and classification tasks.  \n",
    "- Widely applied in finance, healthcare, IT, and environmental applications for prediction and risk reduction.\n"
   ]
  },
  {
   "cell_type": "markdown",
   "id": "c6fdd7e7-c711-4edc-abba-fc797087b2be",
   "metadata": {},
   "source": [
    "## Bagging for Classification"
   ]
  },
  {
   "cell_type": "code",
   "execution_count": 26,
   "id": "de350e65-6f70-43bd-941d-d0645f276829",
   "metadata": {},
   "outputs": [
    {
     "name": "stdout",
     "output_type": "stream",
     "text": [
      "Bagging Classification Accuracy: 1.0\n"
     ]
    }
   ],
   "source": [
    "# Import libraries\n",
    "from sklearn.datasets import load_iris\n",
    "from sklearn.model_selection import train_test_split\n",
    "from sklearn.ensemble import BaggingClassifier\n",
    "from sklearn.tree import DecisionTreeClassifier\n",
    "from sklearn.metrics import accuracy_score\n",
    "\n",
    "# Load dataset\n",
    "iris = load_iris()\n",
    "X, y = iris.data, iris.target\n",
    "\n",
    "# Split data\n",
    "X_train, X_test, y_train, y_test = train_test_split(X, y, test_size=0.2, random_state=42)\n",
    "\n",
    "# Bagging Classifier\n",
    "bag_clf = BaggingClassifier(\n",
    "    estimator=DecisionTreeClassifier(),\n",
    "    n_estimators=50,\n",
    "    max_samples=0.8,\n",
    "    random_state=42\n",
    ")\n",
    "bag_clf.fit(X_train, y_train)\n",
    "\n",
    "# Predict and evaluate\n",
    "y_pred = bag_clf.predict(X_test)\n",
    "print(\"Bagging Classification Accuracy:\", accuracy_score(y_test, y_pred))\n"
   ]
  },
  {
   "cell_type": "markdown",
   "id": "47947652-2ee7-4523-b546-7d00d05a5876",
   "metadata": {},
   "source": [
    "## Bagging for Regression"
   ]
  },
  {
   "cell_type": "code",
   "execution_count": 28,
   "id": "0a10e065-3d60-4f75-9a0c-5935b9fe3651",
   "metadata": {},
   "outputs": [
    {
     "name": "stdout",
     "output_type": "stream",
     "text": [
      "Bagging Regression MSE: 148.9385026301083\n"
     ]
    }
   ],
   "source": [
    "from sklearn.datasets import make_regression\n",
    "from sklearn.ensemble import BaggingRegressor\n",
    "from sklearn.metrics import mean_squared_error\n",
    "import numpy as np\n",
    "\n",
    "# Generate synthetic regression data\n",
    "X, y = make_regression(n_samples=100, n_features=1, noise=10, random_state=42)\n",
    "\n",
    "# Split data\n",
    "X_train, X_test, y_train, y_test = train_test_split(X, y, test_size=0.2, random_state=42)\n",
    "\n",
    "# Bagging Regressor\n",
    "bag_reg = BaggingRegressor(\n",
    "    estimator=DecisionTreeClassifier(),  # Use DecisionTreeRegressor instead\n",
    "    n_estimators=50,\n",
    "    max_samples=0.8,\n",
    "    random_state=42\n",
    ")\n",
    "from sklearn.tree import DecisionTreeRegressor\n",
    "bag_reg = BaggingRegressor(\n",
    "    estimator=DecisionTreeRegressor(),\n",
    "    n_estimators=50,\n",
    "    max_samples=0.8,\n",
    "    random_state=42\n",
    ")\n",
    "bag_reg.fit(X_train, y_train)\n",
    "\n",
    "# Predict and evaluate\n",
    "y_pred = bag_reg.predict(X_test)\n",
    "mse = mean_squared_error(y_test, y_pred)\n",
    "print(\"Bagging Regression MSE:\", mse)\n"
   ]
  },
  {
   "cell_type": "markdown",
   "id": "efce34ae-6061-4523-a650-3c10002a7970",
   "metadata": {},
   "source": [
    "## Ensemble Methods"
   ]
  },
  {
   "cell_type": "markdown",
   "id": "87393fa1-6787-4ac7-a7fc-c932351fe871",
   "metadata": {},
   "source": [
    "## AdaBoost (Adaptive Boosting)\n",
    "\n",
    "### 📌 What is AdaBoost?\n",
    "- Ensemble learning technique that combines **weak classifiers** to form a **strong classifier**.  \n",
    "- Trains classifiers **sequentially**, focusing on **errors of previous models**.  \n",
    "- Misclassified samples get **higher weights** to improve learning.\n",
    "\n",
    "### 🤔 Why Use AdaBoost?\n",
    "- **Improves Accuracy**: Combines weak learners for better predictions.  \n",
    "- **Reduces Bias & Variance**: Enhances generalization.  \n",
    "- **Handles Complex Data**: Works well where single models underperform.\n",
    "\n",
    "### 🌍 Where to Apply AdaBoost?\n",
    "- **Binary Classification** problems.  \n",
    "- **Imbalanced datasets**.  \n",
    "- **Noisy data**, though sensitive to outliers.\n"
   ]
  },
  {
   "cell_type": "code",
   "execution_count": 33,
   "id": "6e1145f3-a0c1-44ce-88f8-9ac417f0029b",
   "metadata": {},
   "outputs": [
    {
     "name": "stdout",
     "output_type": "stream",
     "text": [
      "Accuracy: 0.8467\n"
     ]
    }
   ],
   "source": [
    "import numpy as np\n",
    "from sklearn.tree import DecisionTreeClassifier\n",
    "from sklearn.metrics import accuracy_score\n",
    "\n",
    "class AdaBoost:\n",
    "    def __init__(self, n_estimators=50):\n",
    "        self.n_estimators = n_estimators\n",
    "        self.alphas = []\n",
    "        self.models = []\n",
    "\n",
    "    def fit(self, X, y):\n",
    "        n_samples, n_features = X.shape\n",
    "        w = np.ones(n_samples) / n_samples  # Initialize weights\n",
    "\n",
    "        for _ in range(self.n_estimators):\n",
    "            model = DecisionTreeClassifier(max_depth=1)\n",
    "            model.fit(X, y, sample_weight=w)\n",
    "            y_pred = model.predict(X)\n",
    "\n",
    "            # Calculate error rate\n",
    "            err = np.sum(w * (y_pred != y)) / np.sum(w)\n",
    "            if err == 0:\n",
    "                break\n",
    "\n",
    "            # Calculate alpha\n",
    "            alpha = 0.5 * np.log((1 - err) / err)\n",
    "            self.alphas.append(alpha)\n",
    "            self.models.append(model)\n",
    "\n",
    "            # Update sample weights\n",
    "            w *= np.exp(-alpha * y * y_pred)\n",
    "            w /= np.sum(w)\n",
    "\n",
    "    def predict(self, X):\n",
    "        pred = np.zeros(X.shape[0])\n",
    "        for model, alpha in zip(self.models, self.alphas):\n",
    "            pred += alpha * model.predict(X)\n",
    "        return np.sign(pred)\n",
    "\n",
    "# Example usage\n",
    "from sklearn.datasets import make_classification\n",
    "from sklearn.model_selection import train_test_split\n",
    "\n",
    "# Create a synthetic dataset\n",
    "X, y = make_classification(n_samples=1000, n_features=20, n_classes=2, random_state=42)\n",
    "y = 2 * y - 1  # Convert labels to {-1, 1}\n",
    "\n",
    "# Split the dataset\n",
    "X_train, X_test, y_train, y_test = train_test_split(X, y, test_size=0.3, random_state=42)\n",
    "\n",
    "# Initialize and train AdaBoost\n",
    "ab = AdaBoost(n_estimators=50)\n",
    "ab.fit(X_train, y_train)\n",
    "\n",
    "# Make predictions\n",
    "y_pred = ab.predict(X_test)\n",
    "\n",
    "# Evaluate accuracy\n",
    "print(f'Accuracy: {accuracy_score(y_test, y_pred):.4f}')"
   ]
  },
  {
   "cell_type": "code",
   "execution_count": 34,
   "id": "d98378f0-a6ab-4747-a34f-c5b58d0cefc8",
   "metadata": {},
   "outputs": [
    {
     "name": "stdout",
     "output_type": "stream",
     "text": [
      "AdaBoost Regression MSE: 4430.620947369858\n"
     ]
    }
   ],
   "source": [
    "# Import libraries\n",
    "from sklearn.datasets import make_regression\n",
    "from sklearn.model_selection import train_test_split\n",
    "from sklearn.ensemble import AdaBoostRegressor\n",
    "from sklearn.tree import DecisionTreeRegressor\n",
    "from sklearn.metrics import mean_squared_error\n",
    "\n",
    "# Generating synthetic regression data\n",
    "X, y = make_regression(n_samples=500, n_features=5, noise=10, random_state=42)\n",
    "\n",
    "# Split into training and testing sets\n",
    "X_train, X_test, y_train, y_test = train_test_split(X, y, test_size=0.2, random_state=42)\n",
    "\n",
    "# AdaBoost Regressor with Decision Stump as base estimator\n",
    "ab_reg = AdaBoostRegressor(\n",
    "    estimator=DecisionTreeRegressor(max_depth=1),  # updated parameter\n",
    "    n_estimators=50,\n",
    "    learning_rate=0.5,\n",
    "    random_state=42\n",
    ")\n",
    "\n",
    "# Train the model\n",
    "ab_reg.fit(X_train, y_train)\n",
    "\n",
    "# Predict on test data\n",
    "y_pred = ab_reg.predict(X_test)\n",
    "\n",
    "# Evaluate performance\n",
    "mse = mean_squared_error(y_test, y_pred)\n",
    "print(\"AdaBoost Regression MSE:\", mse)"
   ]
  },
  {
   "cell_type": "markdown",
   "id": "878bb14b-52e8-4fb0-9018-a670e7dbd40b",
   "metadata": {},
   "source": [
    "##  Gradient Boosting\n",
    "\n",
    "### 📌 What is Gradient Boosting?\n",
    "- Ensemble technique that builds **weak learners sequentially**, each correcting the errors of the previous ones.  \n",
    "- Optimizes a **loss function** using **gradient descent**.  \n",
    "- Commonly uses **decision trees** as weak learners.\n",
    "\n",
    "### 🤔 Why Use Gradient Boosting?\n",
    "- **High Accuracy**: Sequential learning reduces errors step by step.  \n",
    "- **Handles Complex Patterns**: Captures non-linear relationships effectively.  \n",
    "- **Flexible**: Works with different loss functions (e.g., MSE, Log Loss).\n",
    "\n",
    "### 🌍 Where to Apply Gradient Boosting?\n",
    "- **Regression** and **classification** tasks.  \n",
    "- Datasets with **complex relationships**.  \n",
    "- Applications like **risk prediction, fraud detection, and recommendation systems**"
   ]
  },
  {
   "cell_type": "markdown",
   "id": "6243f0c6-1bdc-45de-b73d-939d67f1fa4e",
   "metadata": {},
   "source": [
    "## Gradient Boosting for Classifier"
   ]
  },
  {
   "cell_type": "code",
   "execution_count": 37,
   "id": "cdc96398-b210-4c83-bacd-7968314dbc6d",
   "metadata": {},
   "outputs": [
    {
     "name": "stdout",
     "output_type": "stream",
     "text": [
      "Gradient Boosting Classifier accuracy is : 0.98\n"
     ]
    }
   ],
   "source": [
    "from sklearn.ensemble import GradientBoostingClassifier\n",
    "from sklearn.model_selection import train_test_split\n",
    "from sklearn.metrics import accuracy_score\n",
    "from sklearn.datasets import load_digits\n",
    "\n",
    "SEED = 23\n",
    "\n",
    "X, y = load_digits(return_X_y=True)\n",
    "\n",
    "train_X, test_X, train_y, test_y = train_test_split(X, y, \n",
    "                                                    test_size = 0.25, \n",
    "                                                    random_state = SEED)\n",
    "\n",
    "gbc = GradientBoostingClassifier(n_estimators=300,\n",
    "                                 learning_rate=0.05,\n",
    "                                 random_state=100,\n",
    "                                 max_features=5 )\n",
    "                                 \n",
    "gbc.fit(train_X, train_y)\n",
    "\n",
    "pred_y = gbc.predict(test_X)\n",
    "acc = accuracy_score(test_y, pred_y)\n",
    "print(\"Gradient Boosting Classifier accuracy is : {:.2f}\".format(acc))"
   ]
  },
  {
   "cell_type": "markdown",
   "id": "dbe40352-aad7-4cc5-8c1a-d8d6755e6ff5",
   "metadata": {},
   "source": [
    "## Gradient Boosting for Regression"
   ]
  },
  {
   "cell_type": "code",
   "execution_count": 38,
   "id": "09c719e8-ab44-468c-ae37-36f26af72614",
   "metadata": {},
   "outputs": [
    {
     "name": "stdout",
     "output_type": "stream",
     "text": [
      "Root mean Square error: 56.39\n"
     ]
    }
   ],
   "source": [
    "from sklearn.ensemble import GradientBoostingRegressor\n",
    "from sklearn.model_selection import train_test_split\n",
    "from sklearn.metrics import mean_squared_error\n",
    "from sklearn.datasets import load_diabetes\n",
    "\n",
    "SEED = 23\n",
    "\n",
    "X, y = load_diabetes(return_X_y=True)\n",
    "\n",
    "train_X, test_X, train_y, test_y = train_test_split(X, y, \n",
    "                                                    test_size = 0.25, \n",
    "                                                    random_state = SEED)\n",
    "\n",
    "gbr = GradientBoostingRegressor(loss='absolute_error',\n",
    "                                learning_rate=0.1,\n",
    "                                n_estimators=300,\n",
    "                                max_depth = 1, \n",
    "                                random_state = SEED,\n",
    "                                max_features = 5)\n",
    "\n",
    "gbr.fit(train_X, train_y)\n",
    "\n",
    "pred_y = gbr.predict(test_X)\n",
    "\n",
    "test_rmse = mean_squared_error(test_y, pred_y) ** (1 / 2)\n",
    "\n",
    "print('Root mean Square error: {:.2f}'.format(test_rmse))"
   ]
  },
  {
   "cell_type": "markdown",
   "id": "21d22371-9e09-4380-b90c-13a0657531b0",
   "metadata": {},
   "source": [
    "##  XGBoost (Extreme Gradient Boosting)\n",
    "\n",
    "### 📌 What is XGBoost?\n",
    "- An **optimized version of Gradient Boosting** with better speed and performance.  \n",
    "- Incorporates **regularization** to reduce overfitting.  \n",
    "- Supports **parallel processing** and handles missing data efficiently.\n",
    "\n",
    "### 🤔 Why Use XGBoost?\n",
    "- **Fast and Scalable**: Efficient on large datasets.  \n",
    "- **Regularization**: Reduces overfitting and improves generalization.  \n",
    "- **Highly Accurate**: Often outperforms other ensemble methods.\n",
    "\n",
    "### 🌍 Where to Apply XGBoost?\n",
    "- Large-scale **regression** and **classification** tasks.  \n",
    "- **Finance, healthcare, and e-commerce** for prediction and ranking problems.  \n",
    "- Competitions and real-world problems where **high performance is required**."
   ]
  },
  {
   "cell_type": "markdown",
   "id": "3d2bed59-206b-4129-97c5-9778710a5d4f",
   "metadata": {},
   "source": [
    "## XGBoost Regression"
   ]
  },
  {
   "cell_type": "code",
   "execution_count": 49,
   "id": "84cec26c-9970-42cf-ae04-5566f6f1a564",
   "metadata": {},
   "outputs": [
    {
     "data": {
      "text/plain": [
       "['Requirement already satisfied: xgboost in c:\\\\users\\\\sambridhi shrestha\\\\appdata\\\\local\\\\programs\\\\python\\\\python312\\\\lib\\\\site-packages (3.0.4)',\n",
       " 'Requirement already satisfied: numpy in c:\\\\users\\\\sambridhi shrestha\\\\appdata\\\\local\\\\programs\\\\python\\\\python312\\\\lib\\\\site-packages (from xgboost) (2.2.4)',\n",
       " 'Requirement already satisfied: scipy in c:\\\\users\\\\sambridhi shrestha\\\\appdata\\\\local\\\\programs\\\\python\\\\python312\\\\lib\\\\site-packages (from xgboost) (1.15.2)']"
      ]
     },
     "execution_count": 49,
     "metadata": {},
     "output_type": "execute_result"
    }
   ],
   "source": [
    "# For most Python environments\n",
    "!!pip install xgboost"
   ]
  },
  {
   "cell_type": "code",
   "execution_count": 50,
   "id": "be289ee9-9226-469c-8fda-ddcc07372486",
   "metadata": {},
   "outputs": [
    {
     "name": "stdout",
     "output_type": "stream",
     "text": [
      "Mean Squared Error: 1055.7840650944024\n"
     ]
    }
   ],
   "source": [
    "import xgboost as xgb\n",
    "from sklearn.datasets import make_regression\n",
    "from sklearn.model_selection import train_test_split\n",
    "from sklearn.metrics import mean_squared_error\n",
    "\n",
    "# Generate synthetic regression data\n",
    "X, y = make_regression(n_samples=500, n_features=5, noise=10, random_state=42)\n",
    "\n",
    "# Split into training and testing sets\n",
    "X_train, X_test, y_train, y_test = train_test_split(X, y, test_size=0.2, random_state=42)\n",
    "\n",
    "# Initialize XGBoost Regressor\n",
    "model = xgb.XGBRegressor(objective='reg:squarederror', n_estimators=100, learning_rate=0.1)\n",
    "\n",
    "# Train the model\n",
    "model.fit(X_train, y_train)\n",
    "\n",
    "# Predict on the test set\n",
    "y_pred = model.predict(X_test)\n",
    "\n",
    "# Evaluate performance\n",
    "mse = mean_squared_error(y_test, y_pred)\n",
    "print(f'Mean Squared Error: {mse}')"
   ]
  },
  {
   "cell_type": "markdown",
   "id": "173daa9c-ad76-4ddb-ac53-036fd1d75974",
   "metadata": {},
   "source": [
    "## XGBoost Classification"
   ]
  },
  {
   "cell_type": "code",
   "execution_count": 51,
   "id": "c344f893-360b-4102-ac12-11e17819e683",
   "metadata": {},
   "outputs": [
    {
     "name": "stdout",
     "output_type": "stream",
     "text": [
      "Accuracy: 1.0\n"
     ]
    }
   ],
   "source": [
    "import xgboost as xgb\n",
    "from sklearn.datasets import load_iris\n",
    "from sklearn.model_selection import train_test_split\n",
    "from sklearn.metrics import accuracy_score\n",
    "\n",
    "# Load the Iris dataset\n",
    "data = load_iris()\n",
    "X, y = data.data, data.target\n",
    "\n",
    "# Split into training and testing sets\n",
    "X_train, X_test, y_train, y_test = train_test_split(X, y, test_size=0.2, random_state=42)\n",
    "\n",
    "# Initialize XGBoost Classifier\n",
    "model = xgb.XGBClassifier(objective='multi:softmax', num_class=3, n_estimators=100, learning_rate=0.1)\n",
    "\n",
    "# Train the model\n",
    "model.fit(X_train, y_train)\n",
    "\n",
    "# Predict on the test set\n",
    "y_pred = model.predict(X_test)\n",
    "\n",
    "# Evaluate performance\n",
    "accuracy = accuracy_score(y_test, y_pred)\n",
    "print(f'Accuracy: {accuracy}')"
   ]
  },
  {
   "cell_type": "markdown",
   "id": "d82f0a1a-6854-47c2-894d-b59148c1a256",
   "metadata": {},
   "source": [
    "## Compare Ridge vs Lasso on same dataset"
   ]
  },
  {
   "cell_type": "markdown",
   "id": "61e9abaa-7303-4bce-a8d6-1448cb0e12a5",
   "metadata": {},
   "source": [
    "## 📌What is Done in the code\n",
    "\n",
    "- **Load Dataset**: \n",
    "  - Loaded the Iris dataset using `load_iris()` from `sklearn.datasets`.\n",
    "\n",
    "- **Select Target and Features**: \n",
    "  - Chose petal length as the target variable (`y`).  \n",
    "  - Remaining features are used as predictors (`X`).\n",
    "\n",
    "- **Split Data**: \n",
    "  - Split the dataset into **training** and **testing** sets (80% train, 20% test) using `train_test_split`.\n",
    "\n",
    "- **Initialize Models**: \n",
    "  - **Ridge Regression** (Ridge) with L2 regularization.  \n",
    "  - **Lasso Regression** (Lasso) with L1 regularization.\n",
    "\n",
    "- **Train Models**: \n",
    "  - Fit both Ridge and Lasso on the **training data**.\n",
    "\n",
    "- **Make Predictions**: \n",
    "  - Predict petal length for the **test set** using both models.\n",
    "\n",
    "- **Evaluate Performance**: \n",
    "  - Calculate **Mean Squared Error (MSE)** for Ridge and Lasso predictions.\n",
    "\n",
    "- **Inspect Coefficients** (Optional): \n",
    "  - See how Ridge shrinks coefficients vs Lasso, which may set some to zero."
   ]
  },
  {
   "cell_type": "code",
   "execution_count": 47,
   "id": "d746407b-7b42-4618-8481-10ec0dc846fd",
   "metadata": {},
   "outputs": [
    {
     "name": "stdout",
     "output_type": "stream",
     "text": [
      "Ridge MSE: 0.1287461738107129\n",
      "Lasso MSE: 0.17275238696285136\n",
      "Ridge Coefficients: [ 0.73831951 -0.62706315  1.43454589]\n",
      "Lasso Coefficients: [ 0.51844043 -0.10251673  1.58636102]\n"
     ]
    }
   ],
   "source": [
    "# Import libraries\n",
    "from sklearn.datasets import load_iris\n",
    "from sklearn.model_selection import train_test_split\n",
    "from sklearn.linear_model import Ridge, Lasso\n",
    "from sklearn.metrics import mean_squared_error\n",
    "import pandas as pd\n",
    "\n",
    "# Load Iris dataset\n",
    "iris = load_iris()\n",
    "X = pd.DataFrame(iris.data, columns=iris.feature_names)\n",
    "y = X['petal length (cm)']  # Use petal length as target\n",
    "X = X.drop(columns=['petal length (cm)'])\n",
    "\n",
    "# Split dataset\n",
    "X_train, X_test, y_train, y_test = train_test_split(X, y, test_size=0.2, random_state=42)\n",
    "\n",
    "# Initialize models\n",
    "ridge_model = Ridge(alpha=1.0)\n",
    "lasso_model = Lasso(alpha=0.1)\n",
    "\n",
    "# Train models\n",
    "ridge_model.fit(X_train, y_train)\n",
    "lasso_model.fit(X_train, y_train)\n",
    "\n",
    "# Predictions\n",
    "y_pred_ridge = ridge_model.predict(X_test)\n",
    "y_pred_lasso = lasso_model.predict(X_test)\n",
    "\n",
    "# Evaluate models\n",
    "print(\"Ridge MSE:\", mean_squared_error(y_test, y_pred_ridge))\n",
    "print(\"Lasso MSE:\", mean_squared_error(y_test, y_pred_lasso))\n",
    "\n",
    "# Optional: check coefficients\n",
    "print(\"Ridge Coefficients:\", ridge_model.coef_)\n",
    "print(\"Lasso Coefficients:\", lasso_model.coef_)"
   ]
  },
  {
   "cell_type": "markdown",
   "id": "60b105ae-4a5e-40d5-b6aa-fded48842fb9",
   "metadata": {},
   "source": [
    "## Train a Random Forest and check feature importance"
   ]
  },
  {
   "cell_type": "markdown",
   "id": "c13fb0d7-eed0-4bf3-858a-046dc82a9fc5",
   "metadata": {},
   "source": [
    "## 📌 Random Forest on Iris Dataset: What is Done\n",
    "\n",
    "- **Load Dataset**:  \n",
    "  - Loaded the Iris dataset using `load_iris()` from `sklearn.datasets`.\n",
    "\n",
    "- **Select Target and Features**:  \n",
    "  - Chose **petal length** as the target variable (`y`).  \n",
    "  - Remaining features are used as predictors (`X`).\n",
    "\n",
    "- **Split Data**:  \n",
    "  - Split the dataset into **training** and **testing** sets (80% train, 20% test) using `train_test_split`.\n",
    "\n",
    "- **Initialize Model**:  \n",
    "  - Created a **Random Forest Regressor** with 100 trees (`n_estimators=100`).\n",
    "\n",
    "- **Train Model**:  \n",
    "  - Fit the Random Forest model on the **training data**.\n",
    "\n",
    "- **Check Feature Importance**:  \n",
    "  - Used feature_importances_ to see **how much each feature contributes** to predicting the target.  \n",
    "  - Displayed the results in a **sorted DataFrame** for clarity."
   ]
  },
  {
   "cell_type": "code",
   "execution_count": 54,
   "id": "8ce44ddc-4a96-4c10-9d2a-4b62b38ec4aa",
   "metadata": {},
   "outputs": [
    {
     "name": "stdout",
     "output_type": "stream",
     "text": [
      "             Feature  Importance\n",
      "2   petal width (cm)    0.953738\n",
      "0  sepal length (cm)    0.039046\n",
      "1   sepal width (cm)    0.007215\n"
     ]
    }
   ],
   "source": [
    "# Import libraries\n",
    "from sklearn.datasets import load_iris\n",
    "from sklearn.model_selection import train_test_split\n",
    "from sklearn.ensemble import RandomForestRegressor\n",
    "import pandas as pd\n",
    "\n",
    "# Load Iris dataset\n",
    "iris = load_iris()\n",
    "X = pd.DataFrame(iris.data, columns=iris.feature_names)\n",
    "y = X['petal length (cm)']  # Use petal length as target\n",
    "X = X.drop(columns=['petal length (cm)'])\n",
    "\n",
    "# Split dataset\n",
    "X_train, X_test, y_train, y_test = train_test_split(X, y, test_size=0.2, random_state=42)\n",
    "\n",
    "# Initialize Random Forest Regressor\n",
    "rf_model = RandomForestRegressor(n_estimators=100, random_state=42)\n",
    "\n",
    "# Train the model\n",
    "rf_model.fit(X_train, y_train)\n",
    "\n",
    "# Check feature importance\n",
    "feature_importance = pd.DataFrame({\n",
    "    'Feature': X.columns,\n",
    "    'Importance': rf_model.feature_importances_\n",
    "}).sort_values(by='Importance', ascending=False)\n",
    "\n",
    "print(feature_importance)"
   ]
  },
  {
   "cell_type": "markdown",
   "id": "5328db62-a990-4950-8589-1c7a307e6456",
   "metadata": {},
   "source": [
    "# 📌 Regularization in Machine Learning\n",
    "\n",
    "### What is Regularization?  \n",
    "- Technique to reduce overfitting by adding a penalty term to the loss function.  \n",
    "- Encourages smaller coefficients to improve generalization.\n",
    "\n",
    "### Types of Regularization Penalty Terms  \n",
    "1. **L1 Regularization (Lasso)**  \n",
    "   - Penalty = sum of absolute values of coefficients.  \n",
    "   - Can shrink some coefficients to zero, performing feature selection.\n",
    "\n",
    "2. **L2 Regularization (Ridge)**  \n",
    "   - Penalty = sum of squared values of coefficients.  \n",
    "   - Shrinks coefficients but keeps all features, stabilizing the model.\n",
    "\n",
    "3. **Elastic Net**  \n",
    "   - Combination of L1 and L2 penalties.  \n",
    "   - Balances feature selection and coefficient shrinkage.\n",
    "\n",
    "### Why Use Regularization?  \n",
    "- Reduces **overfitting** and improves **generalization**.  \n",
    "- Controls **model complexity** and prevents very large weights.  \n",
    "- Helps handle **multicollinearity** in regression.\n",
    "\n",
    "### Where to Apply Regularization?  \n",
    "- In **regression models** (Linear, Logistic, etc.) when overfitting occurs.  \n",
    "- In **pipelines** during preprocessing or model definition.  \n",
    "- High-dimensional data where some features may be irrelevant.\n"
   ]
  }
 ],
 "metadata": {
  "kernelspec": {
   "display_name": "Python 3 (ipykernel)",
   "language": "python",
   "name": "python3"
  },
  "language_info": {
   "codemirror_mode": {
    "name": "ipython",
    "version": 3
   },
   "file_extension": ".py",
   "mimetype": "text/x-python",
   "name": "python",
   "nbconvert_exporter": "python",
   "pygments_lexer": "ipython3",
   "version": "3.12.8"
  }
 },
 "nbformat": 4,
 "nbformat_minor": 5
}
