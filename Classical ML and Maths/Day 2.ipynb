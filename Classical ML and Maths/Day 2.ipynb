{
 "cells": [
  {
   "cell_type": "markdown",
   "id": "83771991-2135-42e2-a8e9-6926edef9894",
   "metadata": {},
   "source": [
    "# Model Evaluation and Data preprocessing"
   ]
  },
  {
   "cell_type": "markdown",
   "id": "f6e86d90-335e-47c9-86ce-a581e337a7ba",
   "metadata": {},
   "source": [
    "## 1. 📊 Data Preprocessing in Data Science"
   ]
  },
  {
   "cell_type": "markdown",
   "id": "f57a43b0-0382-47a7-baab-a2db3f696e8c",
   "metadata": {},
   "source": [
    "## 🔍 Why is Data Preprocessing Important?\n",
    "- Clean Data → Removes noise, handles missing values, and fixes inconsistencies.\n",
    "- Standardization & Normalization → Ensures features are on the same scale.\n",
    "- Better Model Accuracy → Reduces bias and variance in predictions.\n",
    "- Faster Training → Optimized data speeds up algorithm convergence.\n",
    "- Reliable Insights → Avoids misleading results due to unprocessed data.\n",
    "\n",
    "---\n",
    "\n",
    "## 🌍 Where is Data Preprocessing Used?\n",
    "- Healthcare → Cleaning patient records before diagnosis prediction.\n",
    "- Finance → Preparing stock market data for forecasting.\n",
    "- E-commerce → Organizing customer purchase data for recommendations.\n",
    "- Social Media → Removing duplicates/spam from user-generated content.\n",
    "- AI in Self-driving Cars → Filtering sensor noise for accurate decision-making.\n"
   ]
  },
  {
   "cell_type": "markdown",
   "id": "c7e70f86-7618-44d7-88c0-00d53726c91c",
   "metadata": {},
   "source": [
    "### Steps in data Preprocessing"
   ]
  },
  {
   "cell_type": "code",
   "execution_count": 23,
   "id": "20a54488-0ecf-481e-ae39-33110e30a782",
   "metadata": {},
   "outputs": [
    {
     "name": "stdout",
     "output_type": "stream",
     "text": [
      "First 5 rows:\n",
      "     x          y\n",
      "0  77  79.775152\n",
      "1  21  23.177279\n",
      "2  22  25.609262\n",
      "3  20  17.857388\n",
      "4  36  41.849864\n",
      "\n",
      "--- Dataset Info ---\n",
      "<class 'pandas.core.frame.DataFrame'>\n",
      "RangeIndex: 300 entries, 0 to 299\n",
      "Data columns (total 2 columns):\n",
      " #   Column  Non-Null Count  Dtype  \n",
      "---  ------  --------------  -----  \n",
      " 0   x       300 non-null    int64  \n",
      " 1   y       300 non-null    float64\n",
      "dtypes: float64(1), int64(1)\n",
      "memory usage: 4.8 KB\n",
      "None\n",
      "\n",
      "--- Null Values ---\n",
      "x    0\n",
      "y    0\n",
      "dtype: int64\n",
      "\n",
      "--- Statistical Summary ---\n",
      "                x           y\n",
      "count  300.000000  300.000000\n",
      "mean    50.936667   51.205051\n",
      "std     28.504286   29.071481\n",
      "min      0.000000   -3.467884\n",
      "25%     27.000000   25.676502\n",
      "50%     53.000000   52.170557\n",
      "75%     73.000000   74.303007\n",
      "max    100.000000  105.591837\n"
     ]
    },
    {
     "data": {
      "image/png": "[encoded data removed]",
      "text/plain": [
       "<Figure size 600x800 with 2 Axes>"
      ]
     },
     "metadata": {},
     "output_type": "display_data"
    },
    {
     "name": "stdout",
     "output_type": "stream",
     "text": [
      "\n",
      "--- Data shape after outlier removal ---\n",
      "(300, 2)\n"
     ]
    }
   ],
   "source": [
    "#Step 1: Import libraries\n",
    "import pandas as pd\n",
    "import numpy as np\n",
    "import matplotlib.pyplot as plt\n",
    "from sklearn.preprocessing import MinMaxScaler, StandardScaler\n",
    "\n",
    "# Step 2: Load dataset\n",
    "df = pd.read_csv(\"train.csv\")\n",
    "print(\"First 5 rows:\\n\", df.head())\n",
    "\n",
    "# Step 3: Dataset info\n",
    "print(\"\\n--- Dataset Info ---\")\n",
    "print(df.info())\n",
    "\n",
    "# Step 4: Check for null values\n",
    "print(\"\\n--- Null Values ---\")\n",
    "print(df.isnull().sum())\n",
    "\n",
    "# Step 5: Statistical summary\n",
    "print(\"\\n--- Statistical Summary ---\")\n",
    "print(df.describe())\n",
    "\n",
    "# Step 6: Outlier detection using Boxplots\n",
    "fig, axs = plt.subplots(len(df.columns), 1, figsize=(6, 4 * len(df.columns)))\n",
    "for i, col in enumerate(df.columns):\n",
    "    axs[i].boxplot(df[col], vert=False)\n",
    "    axs[i].set_ylabel(col)\n",
    "    axs[i].set_title(f\"Boxplot of {col}\")\n",
    "plt.tight_layout()\n",
    "plt.show()\n",
    "\n",
    "#  Step 7: Outlier removal (IQR method)\n",
    "def remove_outliers(data, col, factor=1.5):\n",
    "    q1, q3 = np.percentile(data[col], [25, 75])\n",
    "    iqr = q3 - q1\n",
    "    lower_bound = q1 - (factor * iqr)\n",
    "    upper_bound = q3 + (factor * iqr)\n",
    "    return data[(data[col] >= lower_bound) & (data[col] <= upper_bound)]\n",
    "\n",
    "clean_data = df.copy()\n",
    "for col in df.columns:\n",
    "    clean_data = remove_outliers(clean_data, col)\n",
    "\n",
    "print(\"\\n--- Data shape after outlier removal ---\")\n",
    "print(clean_data.shape)"
   ]
  },
  {
   "cell_type": "markdown",
   "id": "68b9255e-a08f-4a9e-b6d1-8d60ecb0c94d",
   "metadata": {},
   "source": [
    "## Sacling"
   ]
  },
  {
   "cell_type": "markdown",
   "id": "3a40f915-efe4-42cc-ab1d-f72fbe96b810",
   "metadata": {},
   "source": [
    "### **1. StandardScaler**\n",
    "- **What:** Scales features to have mean = 0 and standard deviation = 1 (Standard Normal Distribution).  \n",
    "- **Where to use:**  \n",
    "  - Data is (or should be) normally distributed.\n",
    "  - Algorithms like Logistic Regression, SVM, Neural Networks.\n",
    "- **Why:**  \n",
    "  - Handles features with different units.\n",
    "  - Centers data for faster convergence.\n",
    "- **Advantages:**  \n",
    "  - Standardizes variability across features.\n",
    "- **Disadvantages:**  \n",
    "  - Sensitive to outliers — they can skew the mean/std."
   ]
  },
  {
   "cell_type": "code",
   "execution_count": 24,
   "id": "2dfaa55e-163c-4b77-99f1-22168aca1b14",
   "metadata": {},
   "outputs": [
    {
     "name": "stdout",
     "output_type": "stream",
     "text": [
      "\n",
      "--- Normalized Data Sample ---\n",
      "[[0.77       0.76327937]\n",
      " [0.21       0.24431717]\n",
      " [0.22       0.26661672]\n",
      " [0.2        0.19553756]\n",
      " [0.36       0.41553149]]\n"
     ]
    },
    {
     "data": {
      "image/png": "[encoded data removed]",
      "text/plain": [
       "<Figure size 1200x500 with 2 Axes>"
      ]
     },
     "metadata": {},
     "output_type": "display_data"
    }
   ],
   "source": [
    "import matplotlib.pyplot as plt\n",
    "import seaborn as sns\n",
    "from sklearn.preprocessing import MinMaxScaler, StandardScaler\n",
    "\n",
    "# Step 8: Normalization\n",
    "minmax_scaler = MinMaxScaler()\n",
    "X_normalized = minmax_scaler.fit_transform(clean_data)\n",
    "print(\"\\n--- Normalized Data Sample ---\")\n",
    "print(X_normalized[:5])\n",
    "\n",
    "# Visualization of Normalization\n",
    "plt.figure(figsize=(12, 5))\n",
    "plt.suptitle(\"Normalization vs Original\", fontsize=14)\n",
    "\n",
    "plt.subplot(1, 2, 1)\n",
    "sns.boxplot(data=clean_data)\n",
    "plt.title(\"Original Data (Boxplot)\")\n",
    "\n",
    "plt.subplot(1, 2, 2)\n",
    "sns.boxplot(data=X_normalized)\n",
    "plt.title(\"After Normalization (Boxplot)\")\n",
    "plt.show()"
   ]
  },
  {
   "cell_type": "markdown",
   "id": "1ee6195f-2daf-4fa3-aa9e-e09af85a6063",
   "metadata": {},
   "source": [
    "### **2. MinMaxScaler**\n",
    "- **What:** Scales all features to a fixed range (default \\([0, 1]\\), can be \\([-1, 1]\\)).\n",
    "- **Where to use:**  \n",
    "  - Data is not normally distributed.\n",
    "  - Distance-based algorithms like KNN, K-Means, Neural Networks.\n",
    "- **Why:**  \n",
    "  - Keeps original data distribution.\n",
    "  - Ensures features have the same scale.\n",
    "- **Advantages:**  \n",
    "  - Simple, keeps data shape intact.\n",
    "- **Disadvantages:**  \n",
    "  - Sensitive to outliers.\n",
    "  - Fixed range can cause compression if new extremes appear."
   ]
  },
  {
   "cell_type": "code",
   "execution_count": 25,
   "id": "e50d84b2-9687-4df1-a5c3-4dd2a0cafc76",
   "metadata": {},
   "outputs": [
    {
     "name": "stdout",
     "output_type": "stream",
     "text": [
      "\n",
      "--- Standardized Data Sample ---\n",
      "[[ 0.91589319  0.98439558]\n",
      " [-1.05200623 -0.9657094 ]\n",
      " [-1.01686517 -0.88191435]\n",
      " [-1.08714729 -1.14900861]\n",
      " [-0.52489032 -0.32233713]]\n"
     ]
    },
    {
     "data": {
      "image/png": "[encoded data removed]",
      "text/plain": [
       "<Figure size 1200x500 with 2 Axes>"
      ]
     },
     "metadata": {},
     "output_type": "display_data"
    }
   ],
   "source": [
    "#  Step 9: Standardization\n",
    "std_scaler = StandardScaler()\n",
    "X_standardized = std_scaler.fit_transform(clean_data)\n",
    "print(\"\\n--- Standardized Data Sample ---\")\n",
    "print(X_standardized[:5])\n",
    "\n",
    "#  Visualization of Standardization\n",
    "plt.figure(figsize=(12, 5))\n",
    "plt.suptitle(\"Standardization vs Original\", fontsize=14)\n",
    "\n",
    "plt.subplot(1, 2, 1)\n",
    "sns.histplot(data=clean_data, kde=True)\n",
    "plt.title(\"Original Data (Histogram)\")\n",
    "\n",
    "plt.subplot(1, 2, 2)\n",
    "sns.histplot(data=X_standardized, kde=True)\n",
    "plt.title(\"After Standardization (Histogram)\")\n",
    "plt.show()\n"
   ]
  },
  {
   "cell_type": "markdown",
   "id": "da3206c6-f9c1-45eb-b605-d2963bcf8f79",
   "metadata": {},
   "source": [
    "## One-hot Encoding"
   ]
  },
  {
   "cell_type": "markdown",
   "id": "8bfda62f-2d8d-4bdc-88ab-fac872597c68",
   "metadata": {},
   "source": [
    "## 🧐 What is it?\n",
    "One-hot encoding is a technique to convert categorical data into a numerical format that machine learning models can understand.  \n",
    "It creates binary columns (0/1) for each unique category.\n",
    "\n",
    "---\n",
    "\n",
    "## 💡 Why use it?\n",
    "- **Machine learning algorithms need numbers** — they can’t directly work with text categories.  \n",
    "- **Avoids ordinal bias** — unlike label encoding, one-hot encoding doesn’t assume one category is “greater” than another.  \n",
    "- **Preserves information** — no loss of detail from categorical values.\n",
    "\n",
    "---\n",
    "\n",
    "## 📍 Where is it used?\n",
    "- **Categorical features** like `\"Color\"`, `\"City\"`, `\"Gender\"`.  \n",
    "- **Data preprocessing** before feeding data into ML models such as logistic regression, decision trees, neural networks.  \n",
    "- **Feature engineering** when you want to represent categories in a machine-friendly way.\n",
    "\n",
    "---\n",
    "\n",
    "## 🧩 Example:\n",
    "Original data:\n",
    "\n",
    "| Color |\n",
    "|-------|\n",
    "| Red   |\n",
    "| Blue  |\n",
    "| Green |\n",
    "| Red   |\n",
    "\n",
    "After One-Hot Encoding:\n",
    "\n",
    "| Color_Blue | Color_Green | Color_Red |\n",
    "|------------|-------------|-----------|\n",
    "| 0          | 0           | 1         |\n",
    "| 1          | 0           | 0         |\n",
    "| 0          | 1           | 0         |\n",
    "| 0          | 0           | 1         |\n"
   ]
  },
  {
   "cell_type": "code",
   "execution_count": 28,
   "id": "d8133cb4-24f2-4919-8a2d-d3902bcff980",
   "metadata": {},
   "outputs": [
    {
     "name": "stdout",
     "output_type": "stream",
     "text": [
      "Employee data : \n",
      "   Employee id Gender Remarks\n",
      "0           10      M    Good\n",
      "1           20      F    Nice\n",
      "2           15      F    Good\n",
      "3           25      M   Great\n",
      "4           30      F    Nice\n",
      "Encoded Employee data : \n",
      "   Employee id  Gender_F  Gender_M  Remarks_Good  Remarks_Great  Remarks_Nice\n",
      "0           10       0.0       1.0           1.0            0.0           0.0\n",
      "1           20       1.0       0.0           0.0            0.0           1.0\n",
      "2           15       1.0       0.0           1.0            0.0           0.0\n",
      "3           25       0.0       1.0           0.0            1.0           0.0\n",
      "4           30       1.0       0.0           0.0            0.0           1.0\n"
     ]
    }
   ],
   "source": [
    "## One hot encoding using Scikit Learn \n",
    "## import pandas as pd\n",
    "from sklearn.preprocessing import OneHotEncoder\n",
    "\n",
    "data = {'Employee id': [10, 20, 15, 25, 30],\n",
    "        'Gender': ['M', 'F', 'F', 'M', 'F'],\n",
    "        'Remarks': ['Good', 'Nice', 'Good', 'Great', 'Nice'],\n",
    "        }\n",
    "df = pd.DataFrame(data)\n",
    "print(f\"Employee data : \\n{df}\")\n",
    "\n",
    "categorical_columns = df.select_dtypes(include=['object']).columns.tolist()\n",
    "encoder = OneHotEncoder(sparse_output=False)\n",
    "\n",
    "one_hot_encoded = encoder.fit_transform(df[categorical_columns])\n",
    "\n",
    "one_hot_df = pd.DataFrame(one_hot_encoded, columns=encoder.get_feature_names_out(categorical_columns))\n",
    "\n",
    "df_encoded = pd.concat([df, one_hot_df], axis=1)\n",
    "\n",
    "df_encoded = df_encoded.drop(categorical_columns, axis=1)\n",
    "print(f\"Encoded Employee data : \\n{df_encoded}\")"
   ]
  },
  {
   "cell_type": "markdown",
   "id": "c266495d-8bef-4045-9adb-5bfaa6faa563",
   "metadata": {},
   "source": [
    "## Train Test Split"
   ]
  },
  {
   "cell_type": "markdown",
   "id": "5cc9896e-9f9b-427a-8f74-1801e01a10b2",
   "metadata": {},
   "source": [
    "## ❓ What is Train-Test Split?\n",
    "Train-test split divides a dataset into two parts:  \n",
    "1.  **Training set** – used to train the model.  \n",
    "2.  **Testing set** – used to evaluate the model on unseen data.  \n",
    "\n",
    "---\n",
    "\n",
    "## 🎯 Why is it Used?\n",
    "- **Model Validation:** Test performance on new, unseen data.  \n",
    "- **Prevent Overfitting:** Avoids memorization of training data.  \n",
    "- **Performance Evaluation:** Gives unbiased accuracy estimates.\n",
    "\n",
    "---\n",
    "\n",
    "## 🌍 Where is it Used?\n",
    "- In **supervised ML tasks**: regression & classification.  \n",
    "- Before training models to ensure proper evaluation."
   ]
  },
  {
   "cell_type": "markdown",
   "id": "e6c1d5ee-8d3e-4dc2-a09c-6608aed5d45c",
   "metadata": {},
   "source": [
    "### Train-Test Split on a Sample DataFrame"
   ]
  },
  {
   "cell_type": "code",
   "execution_count": 40,
   "id": "08180c57-8312-45d9-bef5-d20a358bb4a8",
   "metadata": {
    "scrolled": true
   },
   "outputs": [
    {
     "name": "stdout",
     "output_type": "stream",
     "text": [
      "Training Features:\n",
      "    feature1  feature2\n",
      "4         5         1\n",
      "2         3         3\n",
      "0         1         5\n",
      "3         4         2\n",
      "Testing Features:\n",
      "    feature1  feature2\n",
      "1         2         4\n",
      "Training Labels:\n",
      " 4    0\n",
      "2    0\n",
      "0    0\n",
      "3    1\n",
      "Name: target, dtype: int64\n",
      "Testing Labels:\n",
      " 1    1\n",
      "Name: target, dtype: int64\n"
     ]
    }
   ],
   "source": [
    "from sklearn.model_selection import train_test_split\n",
    "import pandas as pd\n",
    "\n",
    "# Sample DataFrame\n",
    "data = {'feature1': [1, 2, 3, 4, 5],\n",
    "        'feature2': [5, 4, 3, 2, 1],\n",
    "        'target': [0, 1, 0, 1, 0]}\n",
    "df = pd.DataFrame(data)\n",
    "\n",
    "# Features and target\n",
    "X = df[['feature1', 'feature2']]\n",
    "y = df['target']\n",
    "\n",
    "# Split the data\n",
    "X_train, X_test, y_train, y_test = train_test_split(X, y, test_size=0.2, random_state=42)\n",
    "\n",
    "print(\"Training Features:\\n\", X_train)\n",
    "print(\"Testing Features:\\n\", X_test)\n",
    "print(\"Training Labels:\\n\", y_train)\n",
    "print(\"Testing Labels:\\n\", y_test)"
   ]
  },
  {
   "cell_type": "markdown",
   "id": "178d13fa-d34a-4cf7-8f73-d9f39e981e62",
   "metadata": {},
   "source": [
    "### Train-Test Split on a CSV Dataset for Machine Learning"
   ]
  },
  {
   "cell_type": "code",
   "execution_count": 41,
   "id": "6ac37e33-a548-40a3-8e1f-0a70979f47e8",
   "metadata": {},
   "outputs": [],
   "source": [
    "# import modules\n",
    "import pandas as pd\n",
    "from sklearn.linear_model import LinearRegression\n",
    "from sklearn.model_selection import train_test_split\n",
    "\n",
    "# read the dataset\n",
    "df = pd.read_csv('train.csv')\n",
    "\n",
    "# get the locations\n",
    "X = df.iloc[:, :-1]\n",
    "y = df.iloc[:, -1]\n",
    "\n",
    "# split the dataset\n",
    "X_train, X_test, y_train, y_test = train_test_split(\n",
    "    X, y, test_size=0.05, random_state=0)"
   ]
  },
  {
   "cell_type": "code",
   "execution_count": 42,
   "id": "c4855df1-526c-4f0a-8943-b15827428201",
   "metadata": {},
   "outputs": [
    {
     "data": {
      "text/html": [
       "<div>\n",
       "<style scoped>\n",
       "    .dataframe tbody tr th:only-of-type {\n",
       "        vertical-align: middle;\n",
       "    }\n",
       "\n",
       "    .dataframe tbody tr th {\n",
       "        vertical-align: top;\n",
       "    }\n",
       "\n",
       "    .dataframe thead th {\n",
       "        text-align: right;\n",
       "    }\n",
       "</style>\n",
       "<table border=\"1\" class=\"dataframe\">\n",
       "  <thead>\n",
       "    <tr style=\"text-align: right;\">\n",
       "      <th></th>\n",
       "      <th>x</th>\n",
       "    </tr>\n",
       "  </thead>\n",
       "  <tbody>\n",
       "    <tr>\n",
       "      <th>74</th>\n",
       "      <td>15</td>\n",
       "    </tr>\n",
       "    <tr>\n",
       "      <th>270</th>\n",
       "      <td>55</td>\n",
       "    </tr>\n",
       "    <tr>\n",
       "      <th>90</th>\n",
       "      <td>67</td>\n",
       "    </tr>\n",
       "    <tr>\n",
       "      <th>229</th>\n",
       "      <td>14</td>\n",
       "    </tr>\n",
       "    <tr>\n",
       "      <th>164</th>\n",
       "      <td>49</td>\n",
       "    </tr>\n",
       "    <tr>\n",
       "      <th>...</th>\n",
       "      <td>...</td>\n",
       "    </tr>\n",
       "    <tr>\n",
       "      <th>251</th>\n",
       "      <td>95</td>\n",
       "    </tr>\n",
       "    <tr>\n",
       "      <th>192</th>\n",
       "      <td>77</td>\n",
       "    </tr>\n",
       "    <tr>\n",
       "      <th>117</th>\n",
       "      <td>90</td>\n",
       "    </tr>\n",
       "    <tr>\n",
       "      <th>47</th>\n",
       "      <td>68</td>\n",
       "    </tr>\n",
       "    <tr>\n",
       "      <th>172</th>\n",
       "      <td>54</td>\n",
       "    </tr>\n",
       "  </tbody>\n",
       "</table>\n",
       "<p>285 rows × 1 columns</p>\n",
       "</div>"
      ],
      "text/plain": [
       "      x\n",
       "74   15\n",
       "270  55\n",
       "90   67\n",
       "229  14\n",
       "164  49\n",
       "..   ..\n",
       "251  95\n",
       "192  77\n",
       "117  90\n",
       "47   68\n",
       "172  54\n",
       "\n",
       "[285 rows x 1 columns]"
      ]
     },
     "execution_count": 42,
     "metadata": {},
     "output_type": "execute_result"
    }
   ],
   "source": [
    "X_train"
   ]
  },
  {
   "cell_type": "code",
   "execution_count": 45,
   "id": "74c41f32-8d3b-4d03-95d9-685b33a9ee9a",
   "metadata": {},
   "outputs": [
    {
     "data": {
      "text/html": [
       "<div>\n",
       "<style scoped>\n",
       "    .dataframe tbody tr th:only-of-type {\n",
       "        vertical-align: middle;\n",
       "    }\n",
       "\n",
       "    .dataframe tbody tr th {\n",
       "        vertical-align: top;\n",
       "    }\n",
       "\n",
       "    .dataframe thead th {\n",
       "        text-align: right;\n",
       "    }\n",
       "</style>\n",
       "<table border=\"1\" class=\"dataframe\">\n",
       "  <thead>\n",
       "    <tr style=\"text-align: right;\">\n",
       "      <th></th>\n",
       "      <th>x</th>\n",
       "    </tr>\n",
       "  </thead>\n",
       "  <tbody>\n",
       "    <tr>\n",
       "      <th>208</th>\n",
       "      <td>67</td>\n",
       "    </tr>\n",
       "    <tr>\n",
       "      <th>188</th>\n",
       "      <td>27</td>\n",
       "    </tr>\n",
       "    <tr>\n",
       "      <th>12</th>\n",
       "      <td>96</td>\n",
       "    </tr>\n",
       "    <tr>\n",
       "      <th>221</th>\n",
       "      <td>100</td>\n",
       "    </tr>\n",
       "    <tr>\n",
       "      <th>239</th>\n",
       "      <td>28</td>\n",
       "    </tr>\n",
       "    <tr>\n",
       "      <th>136</th>\n",
       "      <td>65</td>\n",
       "    </tr>\n",
       "    <tr>\n",
       "      <th>230</th>\n",
       "      <td>37</td>\n",
       "    </tr>\n",
       "    <tr>\n",
       "      <th>206</th>\n",
       "      <td>40</td>\n",
       "    </tr>\n",
       "    <tr>\n",
       "      <th>52</th>\n",
       "      <td>52</td>\n",
       "    </tr>\n",
       "    <tr>\n",
       "      <th>108</th>\n",
       "      <td>89</td>\n",
       "    </tr>\n",
       "    <tr>\n",
       "      <th>290</th>\n",
       "      <td>92</td>\n",
       "    </tr>\n",
       "    <tr>\n",
       "      <th>15</th>\n",
       "      <td>15</td>\n",
       "    </tr>\n",
       "    <tr>\n",
       "      <th>184</th>\n",
       "      <td>37</td>\n",
       "    </tr>\n",
       "    <tr>\n",
       "      <th>248</th>\n",
       "      <td>90</td>\n",
       "    </tr>\n",
       "    <tr>\n",
       "      <th>22</th>\n",
       "      <td>89</td>\n",
       "    </tr>\n",
       "  </tbody>\n",
       "</table>\n",
       "</div>"
      ],
      "text/plain": [
       "       x\n",
       "208   67\n",
       "188   27\n",
       "12    96\n",
       "221  100\n",
       "239   28\n",
       "136   65\n",
       "230   37\n",
       "206   40\n",
       "52    52\n",
       "108   89\n",
       "290   92\n",
       "15    15\n",
       "184   37\n",
       "248   90\n",
       "22    89"
      ]
     },
     "execution_count": 45,
     "metadata": {},
     "output_type": "execute_result"
    }
   ],
   "source": [
    "X_test"
   ]
  },
  {
   "cell_type": "markdown",
   "id": "b011e9fe-0433-4f55-a42d-39f2ca5d57e4",
   "metadata": {},
   "source": [
    "# Evaluation metrics"
   ]
  },
  {
   "cell_type": "markdown",
   "id": "f6588b38-51db-4b4c-854f-22ed65a06f21",
   "metadata": {},
   "source": [
    "##  1. Mean Absolute Error (MAE)\n",
    "**What:** Measures the average absolute difference between the actual and predicted values.  \n",
    "**Why:** Simple to understand and interpret; less sensitive to outliers.  \n",
    "**Where:** Used in regression problems to get an idea of the average prediction error."
   ]
  },
  {
   "cell_type": "code",
   "execution_count": 53,
   "id": "35e79775-f3e1-4467-998f-95a3086ace2a",
   "metadata": {},
   "outputs": [
    {
     "name": "stdout",
     "output_type": "stream",
     "text": [
      "Mean Absolute Error: 0.22000000000000003\n"
     ]
    }
   ],
   "source": [
    "from sklearn.metrics import mean_absolute_error\n",
    "\n",
    "true_values = [2.5, 3.7, 1.8, 4.0, 5.2]\n",
    "predicted_values = [2.1, 3.9, 1.7, 3.8, 5.0]\n",
    "\n",
    "mae = mean_absolute_error(true_values, predicted_values)\n",
    "print(\"Mean Absolute Error:\", mae)\n"
   ]
  },
  {
   "cell_type": "markdown",
   "id": "1c66c113-dd5a-4267-8457-423907f6d023",
   "metadata": {},
   "source": [
    "##  R-squared (R²) Score\n",
    "**What:** Measures the proportion of variance in the dependent variable explained by the model.  \n",
    "**Why:** Indicates how well the model captures the variability of the target; a higher R² means a better fit.  \n",
    "**Where:** Used in regression problems to assess overall goodness of fit.  \n",
    "**How:** Compare the sum of squared residuals (errors) to the total variance."
   ]
  },
  {
   "cell_type": "code",
   "execution_count": 54,
   "id": "fa022fff-2c2e-4443-881a-294922520d0c",
   "metadata": {},
   "outputs": [
    {
     "name": "stdout",
     "output_type": "stream",
     "text": [
      "R-squared (R^2) Score: 0.9588769143505389\n"
     ]
    }
   ],
   "source": [
    "from sklearn.metrics import r2_score\n",
    "\n",
    "true_values = [2.5, 3.7, 1.8, 4.0, 5.2]\n",
    "predicted_values = [2.1, 3.9, 1.7, 3.8, 5.0]\n",
    "\n",
    "r2 = r2_score(true_values, predicted_values)\n",
    "print(\"R-squared (R^2) Score:\", r2)\n"
   ]
  },
  {
   "cell_type": "markdown",
   "id": "bd135702-110f-4e6f-b40d-ae789eb08ff2",
   "metadata": {},
   "source": [
    "##  What is MSE(Mean Squared Error)?\n",
    "Mean Squared Error (MSE) measures the average squared difference between the actual values and the predicted values of a regression model.\n",
    "\n",
    "---\n",
    "##  Why is it Used?\n",
    "- Penalizes larger errors more than Mean Absolute Error (MAE).  \n",
    "- Helps to identify models with significant deviations from true values.  \n",
    "- Provides a single quantitative measure of model performance.\n",
    "\n",
    "---\n",
    "##  Where is it Used?\n",
    "- In regression problems to evaluate the overall prediction accuracy of a model.  \n",
    "- Used during model selection and tuning to compare different regression algorithms."
   ]
  },
  {
   "cell_type": "code",
   "execution_count": 98,
   "id": "5621d0d5-6834-4527-aac1-19af5cab8cbe",
   "metadata": {},
   "outputs": [
    {
     "name": "stdout",
     "output_type": "stream",
     "text": [
      "Mean Squared Error: 0.057999999999999996\n"
     ]
    }
   ],
   "source": [
    "from sklearn.metrics import mean_squared_error\n",
    "\n",
    "true_values = [2.5, 3.7, 1.8, 4.0, 5.2]\n",
    "predicted_values = [2.1, 3.9, 1.7, 3.8, 5.0]\n",
    "\n",
    "mse = mean_squared_error(true_values, predicted_values)\n",
    "print(\"Mean Squared Error:\", mse)"
   ]
  },
  {
   "cell_type": "markdown",
   "id": "4bc9dd95-5deb-481c-93a5-b3d681c4dd83",
   "metadata": {},
   "source": [
    "## Classification: Accuracy, Precision, Recall, F1-score, ROC-AUC"
   ]
  },
  {
   "cell_type": "code",
   "execution_count": 150,
   "id": "be965e0c-1536-4303-9646-c1fbc9b3fb4e",
   "metadata": {},
   "outputs": [
    {
     "name": "stdout",
     "output_type": "stream",
     "text": [
      " Accuracy: 0.9824561403508771\n",
      " Precision: 0.9861111111111112\n",
      " Recall: 0.9861111111111112\n",
      " F1-score: 0.9861111111111112\n",
      " ROC-AUC: 0.9953703703703703\n"
     ]
    }
   ],
   "source": [
    "# =========================\n",
    "# Import libraries\n",
    "# =========================\n",
    "import numpy as np\n",
    "import pandas as pd\n",
    "from sklearn.datasets import load_breast_cancer\n",
    "from sklearn.model_selection import train_test_split\n",
    "from sklearn.preprocessing import StandardScaler\n",
    "from sklearn.linear_model import LogisticRegression\n",
    "from sklearn.metrics import accuracy_score, precision_score, recall_score, f1_score, roc_auc_score\n",
    "\n",
    "# =========================\n",
    "# 1. Load dataset\n",
    "# =========================\n",
    "data = load_breast_cancer()\n",
    "X = pd.DataFrame(data.data, columns=data.feature_names)\n",
    "y = pd.Series(data.target)\n",
    "\n",
    "# =========================\n",
    "# 2. Preprocessing\n",
    "# =========================\n",
    "scaler = StandardScaler()\n",
    "X_scaled = scaler.fit_transform(X)\n",
    "\n",
    "X_train, X_test, y_train, y_test = train_test_split(\n",
    "    X_scaled, y, test_size=0.2, random_state=42, stratify=y\n",
    ")\n",
    "\n",
    "# =========================\n",
    "# 3. Train Logistic Regression\n",
    "# =========================\n",
    "model = LogisticRegression(max_iter=10000)\n",
    "model.fit(X_train, y_train)\n",
    "\n",
    "# =========================\n",
    "# 4. Predictions\n",
    "# =========================\n",
    "y_pred = model.predict(X_test)\n",
    "y_prob = model.predict_proba(X_test)[:, 1]  # Probability for positive class\n",
    "\n",
    "# =========================\n",
    "# 5. Accuracy\n",
    "# =========================\n",
    "accuracy = accuracy_score(y_test, y_pred)\n",
    "print(\" Accuracy:\", accuracy)\n",
    "\n",
    "# =========================\n",
    "# 6. Precision\n",
    "# =========================\n",
    "precision = precision_score(y_test, y_pred)\n",
    "print(\" Precision:\", precision)\n",
    "\n",
    "# =========================\n",
    "# 7. Recall\n",
    "# =========================\n",
    "recall = recall_score(y_test, y_pred)\n",
    "print(\" Recall:\", recall)\n",
    "\n",
    "# =========================\n",
    "# 8. F1-score\n",
    "# =========================\n",
    "f1 = f1_score(y_test, y_pred)\n",
    "print(\" F1-score:\", f1)\n",
    "\n",
    "# =========================\n",
    "# 9. ROC-AUC\n",
    "# =========================\n",
    "roc_auc = roc_auc_score(y_test, y_prob)\n",
    "print(\" ROC-AUC:\", roc_auc)\n"
   ]
  },
  {
   "cell_type": "markdown",
   "id": "53ec3b28-177f-4da7-a1ec-72bbe528624c",
   "metadata": {
    "jp-MarkdownHeadingCollapsed": true
   },
   "source": [
    "## 🔁 Cross-Validation in Machine Learning"
   ]
  },
  {
   "cell_type": "markdown",
   "id": "f349d33a-5c0b-4486-89c7-661c3533b13c",
   "metadata": {},
   "source": [
    "\n",
    "## 📘 What is Cross-Validation?\n",
    "\n",
    "Cross-validation is a statistical technique used to assess how well a machine learning model generalizes to unseen data. It involves partitioning the dataset into multiple subsets, training the model on some subsets, and testing it on the remaining ones. This process is repeated several times, and the results are averaged to provide a more reliable estimate of model performance.\n",
    "\n",
    "## 🎯 Why Use Cross-Validation?\n",
    "\n",
    "- **Prevents Overfitting**: By training and testing the model on different subsets, cross-validation helps ensure that the model doesn't memorize the training data but generalizes well to new, unseen data.\n",
    "  \n",
    "- **Provides Robust Evaluation**: Averaging performance metrics over multiple folds reduces the variance associated with a single train-test split, leading to a more reliable estimate of model performance.\n",
    "\n",
    "- **Maximizes Data Utilization**: Especially useful when dealing with limited data, as each data point gets a chance to be in the test set, making full use of available data.\n",
    "\n",
    "## 🧩 How Does Cross-Validation Work?\n",
    "\n",
    "1. **Split the Data**: Divide the dataset into 'k' equal-sized subsets or folds.\n",
    "   \n",
    "2. **Iterative Training and Testing**:\n",
    "   - For each fold:\n",
    "     - Treat it as the test set.\n",
    "     - Combine the remaining k-1 folds to form the training set.\n",
    "     - Train the model on the training set and evaluate it on the test set.\n",
    "   \n",
    "3. **Average the Results**: After completing the iterations, calculate the average of the performance metrics (e.g., accuracy, F1 score) to get a final evaluation score.\n",
    "\n"
   ]
  },
  {
   "cell_type": "code",
   "execution_count": 151,
   "id": "b26fe671-bce6-4166-b8be-6ecc93c77ddb",
   "metadata": {},
   "outputs": [],
   "source": [
    "from sklearn.model_selection import cross_val_score, KFold\n",
    "from sklearn.svm import SVC\n",
    "from sklearn.datasets import load_iris"
   ]
  },
  {
   "cell_type": "code",
   "execution_count": 152,
   "id": "a16f571d-36b3-449b-ae38-4dc5a09b87b5",
   "metadata": {},
   "outputs": [],
   "source": [
    "iris = load_iris()\n",
    "X, y = iris.data, iris.target"
   ]
  },
  {
   "cell_type": "code",
   "execution_count": 153,
   "id": "2629f770-6e67-40aa-8945-6cf0894bc8ff",
   "metadata": {},
   "outputs": [],
   "source": [
    "svm_classifier = SVC(kernel='linear')"
   ]
  },
  {
   "cell_type": "code",
   "execution_count": 154,
   "id": "eb054fce-e6d3-497c-a82f-6c56bbb21035",
   "metadata": {},
   "outputs": [],
   "source": [
    "num_folds = 5\n",
    "kf = KFold(n_splits=num_folds, shuffle=True, random_state=42)"
   ]
  },
  {
   "cell_type": "code",
   "execution_count": 155,
   "id": "dc8acda2-819f-4c1f-b402-59de4e735838",
   "metadata": {},
   "outputs": [],
   "source": [
    "cross_val_results = cross_val_score(svm_classifier, X, y, cv=kf)"
   ]
  },
  {
   "cell_type": "code",
   "execution_count": 156,
   "id": "f2d2a523-30af-43fd-b36c-0625922df16f",
   "metadata": {},
   "outputs": [
    {
     "name": "stdout",
     "output_type": "stream",
     "text": [
      "Cross-Validation Results (Accuracy):\n",
      "  Fold 1: 100.00%\n",
      "  Fold 2: 100.00%\n",
      "  Fold 3: 96.67%\n",
      "  Fold 4: 93.33%\n",
      "  Fold 5: 96.67%\n",
      "Mean Accuracy: 97.33%\n"
     ]
    }
   ],
   "source": [
    "print(\"Cross-Validation Results (Accuracy):\")\n",
    "for i, result in enumerate(cross_val_results, 1):\n",
    "    print(f\"  Fold {i}: {result * 100:.2f}%\")\n",
    "    \n",
    "print(f'Mean Accuracy: {cross_val_results.mean()* 100:.2f}%')"
   ]
  },
  {
   "cell_type": "markdown",
   "id": "1bb1ad80-68f6-4d88-827c-56e01ac2dca6",
   "metadata": {
    "jp-MarkdownHeadingCollapsed": true
   },
   "source": [
    "#  Breast Cancer Dataset (`sklearn.datasets.load_breast_cancer`)\n",
    "\n",
    "---\n",
    "\n",
    "## 📘 What is it?\n",
    "`load_breast_cancer` is a preloaded dataset in Scikit-Learn containing features computed from breast cancer tumors.  \n",
    "- Type: Binary classification dataset  \n",
    "- Labels: Malignant (cancerous) or Benign (non-cancerous)  \n",
    "\n",
    "---\n",
    "\n",
    "## 🎯 Why is it used?\n",
    "- To practice classification algorithms like Logistic Regression, Random Forest, SVM, etc.  \n",
    "- To evaluate model performance on a real-world medical dataset.  \n",
    "- Ideal for learning preprocessing, feature selection, and evaluation metrics (e.g., confusion matrix, ROC curve).\n",
    "\n",
    "---\n",
    "\n",
    "## 🧩 Where is it used?\n",
    "- In machine learning tutorials or experiments for binary classification.  \n",
    "- Useful for hands-on exercises with Scikit-Learn.  \n",
    "- Often used in academics and training because it is clean, labeled, and small enough to run quickly."
   ]
  },
  {
   "cell_type": "markdown",
   "id": "26e6016c-147f-4cb6-9e43-4274403dc134",
   "metadata": {},
   "source": [
    "# Implement confusion matrix "
   ]
  },
  {
   "cell_type": "code",
   "execution_count": 157,
   "id": "2e5a561e-2c42-4ad3-ab09-233c4b7b9327",
   "metadata": {},
   "outputs": [],
   "source": [
    "## 📦 Step 1: Import Libraries\n",
    "import numpy as np\n",
    "import matplotlib.pyplot as plt\n",
    "from sklearn.datasets import load_breast_cancer\n",
    "from sklearn.model_selection import train_test_split\n",
    "from sklearn.linear_model import LogisticRegression"
   ]
  },
  {
   "cell_type": "code",
   "execution_count": 158,
   "id": "b89ee69b-d269-42ef-bfda-b8811cbc26fc",
   "metadata": {},
   "outputs": [],
   "source": [
    "# Load Breast Cancer dataset\n",
    "data = load_breast_cancer()\n",
    "X = data.data\n",
    "y = data.target\n",
    "\n",
    "# Split into training and testing sets\n",
    "X_train, X_test, y_train, y_test = train_test_split(X, y, test_size=0.2, random_state=42)"
   ]
  },
  {
   "cell_type": "code",
   "execution_count": 159,
   "id": "42738579-da69-4df6-aec2-44ce7ef3231e",
   "metadata": {},
   "outputs": [],
   "source": [
    "model = LogisticRegression(max_iter=10000)\n",
    "model.fit(X_train, y_train)\n",
    "\n",
    "# Predict probabilities and classes\n",
    "y_pred_proba = model.predict_proba(X_test)[:, 1]  \n",
    "y_pred = model.predict(X_test)                     \n"
   ]
  },
  {
   "cell_type": "code",
   "execution_count": 160,
   "id": "6677a359-01d8-4f50-aca9-db1fbb47fd0d",
   "metadata": {},
   "outputs": [
    {
     "name": "stdout",
     "output_type": "stream",
     "text": [
      "Confusion Matrix:\n",
      " [[39  4]\n",
      " [ 1 70]]\n"
     ]
    }
   ],
   "source": [
    "# Initialize counts\n",
    "TP = FP = TN = FN = 0\n",
    "\n",
    "for true, pred in zip(y_test, y_pred):\n",
    "    if true == 1 and pred == 1:\n",
    "        TP += 1\n",
    "    elif true == 0 and pred == 1:\n",
    "        FP += 1\n",
    "    elif true == 0 and pred == 0:\n",
    "        TN += 1\n",
    "    elif true == 1 and pred == 0:\n",
    "        FN += 1\n",
    "\n",
    "# Create confusion matrix\n",
    "conf_matrix = np.array([[TN, FP],\n",
    "                        [FN, TP]])\n",
    "\n",
    "print(\"Confusion Matrix:\\n\", conf_matrix)\n"
   ]
  },
  {
   "cell_type": "markdown",
   "id": "f65481fb-085d-4356-94fb-cbc44846514c",
   "metadata": {},
   "source": [
    "# ROC curve manually"
   ]
  },
  {
   "cell_type": "code",
   "execution_count": 161,
   "id": "9fbb9ecd-7d3d-464d-9022-d8c8e9131cbc",
   "metadata": {},
   "outputs": [
    {
     "data": {
      "image/png": "[encoded data removed]",
      "text/plain": [
       "<Figure size 800x600 with 1 Axes>"
      ]
     },
     "metadata": {},
     "output_type": "display_data"
    }
   ],
   "source": [
    "# Sort probabilities and initialize lists\n",
    "thresholds = np.linspace(0, 1, 100)\n",
    "tpr_list = []  # True Positive Rate\n",
    "fpr_list = []  # False Positive Rate\n",
    "\n",
    "for t in thresholds:\n",
    "    y_temp = [1 if p >= t else 0 for p in y_pred_proba]\n",
    "    \n",
    "    TP = sum((y_test == 1) & (np.array(y_temp) == 1))\n",
    "    FP = sum((y_test == 0) & (np.array(y_temp) == 1))\n",
    "    TN = sum((y_test == 0) & (np.array(y_temp) == 0))\n",
    "    FN = sum((y_test == 1) & (np.array(y_temp) == 0))\n",
    "    \n",
    "    TPR = TP / (TP + FN)  # Recall\n",
    "    FPR = FP / (FP + TN)\n",
    "    \n",
    "    tpr_list.append(TPR)\n",
    "    fpr_list.append(FPR)\n",
    "\n",
    "# Plot ROC curve\n",
    "plt.figure(figsize=(8,6))\n",
    "plt.plot(fpr_list, tpr_list, label=\"ROC Curve\")\n",
    "plt.plot([0,1], [0,1], 'k--', label=\"Random Guess\")\n",
    "plt.xlabel(\"False Positive Rate\")\n",
    "plt.ylabel(\"True Positive Rate (Recall)\")\n",
    "plt.title(\"ROC Curve\")\n",
    "plt.legend()\n",
    "plt.show()"
   ]
  },
  {
   "cell_type": "code",
   "execution_count": 162,
   "id": "53fb4d1c-cd2f-4c57-86e0-9b2ec69b9baf",
   "metadata": {},
   "outputs": [
    {
     "name": "stdout",
     "output_type": "stream",
     "text": [
      "Dataset shape: (569, 30)\n",
      "Target classes: [0 1]\n",
      "Confusion Matrix:\n",
      "[[ 58   6]\n",
      " [  3 104]]\n",
      "Accuracy: 0.9473684210526315\n",
      "Precision: 0.9454545454545454\n",
      "Recall: 0.9719626168224299\n",
      "F1-score: 0.9585253456221198\n",
      "ROC-AUC: 0.9916033878504673\n",
      "5-Fold Cross-validation Accuracy Scores: [0.96491228 0.96491228 0.95614035 0.95614035 0.95575221]\n",
      "Mean CV Accuracy: 0.9595714951094549\n"
     ]
    }
   ],
   "source": [
    "# =========================\n",
    "# Import libraries\n",
    "# =========================\n",
    "import numpy as np\n",
    "import pandas as pd\n",
    "import matplotlib.pyplot as plt\n",
    "from sklearn.datasets import load_breast_cancer\n",
    "from sklearn.model_selection import train_test_split, cross_val_score, KFold\n",
    "from sklearn.preprocessing import StandardScaler, MinMaxScaler, OneHotEncoder\n",
    "from sklearn.ensemble import RandomForestClassifier\n",
    "from sklearn.metrics import accuracy_score, precision_score, recall_score, f1_score, roc_auc_score\n",
    "\n",
    "# =========================\n",
    "# 1. Load dataset\n",
    "# =========================\n",
    "data = load_breast_cancer()\n",
    "X = pd.DataFrame(data.data, columns=data.feature_names)\n",
    "y = pd.Series(data.target)\n",
    "\n",
    "print(\"Dataset shape:\", X.shape)\n",
    "print(\"Target classes:\", np.unique(y))\n",
    "\n",
    "# =========================\n",
    "# 2. Data preprocessing\n",
    "# =========================\n",
    "\n",
    "# --- Scaling ---\n",
    "scaler_std = StandardScaler()\n",
    "X_std = scaler_std.fit_transform(X)  # StandardScaler\n",
    "\n",
    "scaler_mm = MinMaxScaler()\n",
    "X_mm = scaler_mm.fit_transform(X)    # MinMaxScaler\n",
    "\n",
    "# --- One-hot encoding (demonstration only) ---\n",
    "# Adding a dummy categorical column\n",
    "X['diagnosis_type'] = np.random.choice(['A', 'B'], size=X.shape[0])\n",
    "encoder = OneHotEncoder(sparse_output=False)\n",
    "encoded_cat = encoder.fit_transform(X[['diagnosis_type']])\n",
    "encoded_df = pd.DataFrame(encoded_cat, columns=encoder.get_feature_names_out(['diagnosis_type']))\n",
    "\n",
    "# Combine with original data\n",
    "X_final = pd.concat([X.drop('diagnosis_type', axis=1), encoded_df], axis=1)\n",
    "\n",
    "# --- Train/Test split ---\n",
    "X_train, X_test, y_train, y_test = train_test_split(X_final, y, test_size=0.3, random_state=42, stratify=y)\n",
    "\n",
    "# =========================\n",
    "# 3. Model training\n",
    "# =========================\n",
    "model = RandomForestClassifier(random_state=42)\n",
    "model.fit(X_train, y_train)\n",
    "\n",
    "# =========================\n",
    "# 4. Predictions\n",
    "# =========================\n",
    "y_pred = model.predict(X_test)\n",
    "y_prob = model.predict_proba(X_test)[:, 1]  # Probabilities for positive class\n",
    "\n",
    "# =========================\n",
    "# 5. Confusion Matrix (manual)\n",
    "# =========================\n",
    "TP = np.sum((y_test == 1) & (y_pred == 1))\n",
    "TN = np.sum((y_test == 0) & (y_pred == 0))\n",
    "FP = np.sum((y_test == 0) & (y_pred == 1))\n",
    "FN = np.sum((y_test == 1) & (y_pred == 0))\n",
    "\n",
    "conf_matrix = np.array([[TN, FP],\n",
    "                        [FN, TP]])\n",
    "\n",
    "print(\"Confusion Matrix:\")\n",
    "print(conf_matrix)\n",
    "\n",
    "# =========================\n",
    "# 7. Evaluation metrics\n",
    "# =========================\n",
    "accuracy = accuracy_score(y_test, y_pred)\n",
    "precision = precision_score(y_test, y_pred)\n",
    "recall = recall_score(y_test, y_pred)\n",
    "f1 = f1_score(y_test, y_pred)\n",
    "roc_auc = roc_auc_score(y_test, y_prob)\n",
    "\n",
    "print(\"Accuracy:\", accuracy)\n",
    "print(\"Precision:\", precision)\n",
    "print(\"Recall:\", recall)\n",
    "print(\"F1-score:\", f1)\n",
    "print(\"ROC-AUC:\", roc_auc)\n",
    "\n",
    "# =========================\n",
    "# 8. 5-Fold Cross-validation\n",
    "# =========================\n",
    "kf = KFold(n_splits=5, shuffle=True, random_state=42)\n",
    "cv_scores = cross_val_score(model, X_final, y, cv=kf, scoring='accuracy')\n",
    "print(\"5-Fold Cross-validation Accuracy Scores:\", cv_scores)\n",
    "print(\"Mean CV Accuracy:\", cv_scores.mean())"
   ]
  },
  {
   "cell_type": "code",
   "execution_count": null,
   "id": "43b6e00f-e556-4111-892d-acbd16718f82",
   "metadata": {},
   "outputs": [],
   "source": []
  },
  {
   "cell_type": "code",
   "execution_count": null,
   "id": "2e6a4e66-d2d8-4dec-8f5b-f0dca58ac2fe",
   "metadata": {},
   "outputs": [],
   "source": []
  }
 ],
 "metadata": {
  "kernelspec": {
   "display_name": "Python 3 (ipykernel)",
   "language": "python",
   "name": "python3"
  },
  "language_info": {
   "codemirror_mode": {
    "name": "ipython",
    "version": 3
   },
   "file_extension": ".py",
   "mimetype": "text/x-python",
   "name": "python",
   "nbconvert_exporter": "python",
   "pygments_lexer": "ipython3",
   "version": "3.12.8"
  }
 },
 "nbformat": 4,
 "nbformat_minor": 5
}
